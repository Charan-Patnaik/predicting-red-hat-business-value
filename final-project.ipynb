{
 "cells": [
  {
   "cell_type": "code",
   "execution_count": 98,
   "metadata": {
    "pycharm": {
     "name": "#%%\n"
    }
   },
   "outputs": [],
   "source": [
    "import numpy as np\n",
    "import pandas as pd\n",
    "import datetime as dt\n",
    "import matplotlib as plot"
   ]
  },
  {
   "cell_type": "code",
   "execution_count": 99,
   "metadata": {
    "pycharm": {
     "name": "#%%\n"
    }
   },
   "outputs": [
    {
     "data": {
      "text/html": [
       "<div>\n",
       "<style scoped>\n",
       "    .dataframe tbody tr th:only-of-type {\n",
       "        vertical-align: middle;\n",
       "    }\n",
       "\n",
       "    .dataframe tbody tr th {\n",
       "        vertical-align: top;\n",
       "    }\n",
       "\n",
       "    .dataframe thead th {\n",
       "        text-align: right;\n",
       "    }\n",
       "</style>\n",
       "<table border=\"1\" class=\"dataframe\">\n",
       "  <thead>\n",
       "    <tr style=\"text-align: right;\">\n",
       "      <th></th>\n",
       "      <th>people_id</th>\n",
       "      <th>activity_id</th>\n",
       "      <th>date</th>\n",
       "      <th>activity_category</th>\n",
       "      <th>char_1</th>\n",
       "      <th>char_2</th>\n",
       "      <th>char_3</th>\n",
       "      <th>char_4</th>\n",
       "      <th>char_5</th>\n",
       "      <th>char_6</th>\n",
       "      <th>char_7</th>\n",
       "      <th>char_8</th>\n",
       "      <th>char_9</th>\n",
       "      <th>char_10</th>\n",
       "    </tr>\n",
       "  </thead>\n",
       "  <tbody>\n",
       "    <tr>\n",
       "      <th>0</th>\n",
       "      <td>ppl_100004</td>\n",
       "      <td>act1_249281</td>\n",
       "      <td>2022-07-20</td>\n",
       "      <td>type 1</td>\n",
       "      <td>type 5</td>\n",
       "      <td>type 10</td>\n",
       "      <td>type 5</td>\n",
       "      <td>type 1</td>\n",
       "      <td>type 6</td>\n",
       "      <td>type 1</td>\n",
       "      <td>type 1</td>\n",
       "      <td>type 7</td>\n",
       "      <td>type 4</td>\n",
       "      <td>NaN</td>\n",
       "    </tr>\n",
       "    <tr>\n",
       "      <th>1</th>\n",
       "      <td>ppl_100004</td>\n",
       "      <td>act2_230855</td>\n",
       "      <td>2022-07-20</td>\n",
       "      <td>type 5</td>\n",
       "      <td>NaN</td>\n",
       "      <td>NaN</td>\n",
       "      <td>NaN</td>\n",
       "      <td>NaN</td>\n",
       "      <td>NaN</td>\n",
       "      <td>NaN</td>\n",
       "      <td>NaN</td>\n",
       "      <td>NaN</td>\n",
       "      <td>NaN</td>\n",
       "      <td>type 682</td>\n",
       "    </tr>\n",
       "    <tr>\n",
       "      <th>2</th>\n",
       "      <td>ppl_10001</td>\n",
       "      <td>act1_240724</td>\n",
       "      <td>2022-10-14</td>\n",
       "      <td>type 1</td>\n",
       "      <td>type 12</td>\n",
       "      <td>type 1</td>\n",
       "      <td>type 5</td>\n",
       "      <td>type 4</td>\n",
       "      <td>type 6</td>\n",
       "      <td>type 1</td>\n",
       "      <td>type 1</td>\n",
       "      <td>type 13</td>\n",
       "      <td>type 10</td>\n",
       "      <td>NaN</td>\n",
       "    </tr>\n",
       "    <tr>\n",
       "      <th>3</th>\n",
       "      <td>ppl_10001</td>\n",
       "      <td>act1_83552</td>\n",
       "      <td>2022-11-27</td>\n",
       "      <td>type 1</td>\n",
       "      <td>type 20</td>\n",
       "      <td>type 10</td>\n",
       "      <td>type 5</td>\n",
       "      <td>type 4</td>\n",
       "      <td>type 6</td>\n",
       "      <td>type 1</td>\n",
       "      <td>type 1</td>\n",
       "      <td>type 5</td>\n",
       "      <td>type 5</td>\n",
       "      <td>NaN</td>\n",
       "    </tr>\n",
       "    <tr>\n",
       "      <th>4</th>\n",
       "      <td>ppl_10001</td>\n",
       "      <td>act2_1043301</td>\n",
       "      <td>2022-10-15</td>\n",
       "      <td>type 5</td>\n",
       "      <td>NaN</td>\n",
       "      <td>NaN</td>\n",
       "      <td>NaN</td>\n",
       "      <td>NaN</td>\n",
       "      <td>NaN</td>\n",
       "      <td>NaN</td>\n",
       "      <td>NaN</td>\n",
       "      <td>NaN</td>\n",
       "      <td>NaN</td>\n",
       "      <td>type 3015</td>\n",
       "    </tr>\n",
       "  </tbody>\n",
       "</table>\n",
       "</div>"
      ],
      "text/plain": [
       "    people_id   activity_id        date activity_category   char_1   char_2  \\\n",
       "0  ppl_100004   act1_249281  2022-07-20            type 1   type 5  type 10   \n",
       "1  ppl_100004   act2_230855  2022-07-20            type 5      NaN      NaN   \n",
       "2   ppl_10001   act1_240724  2022-10-14            type 1  type 12   type 1   \n",
       "3   ppl_10001    act1_83552  2022-11-27            type 1  type 20  type 10   \n",
       "4   ppl_10001  act2_1043301  2022-10-15            type 5      NaN      NaN   \n",
       "\n",
       "   char_3  char_4  char_5  char_6  char_7   char_8   char_9    char_10  \n",
       "0  type 5  type 1  type 6  type 1  type 1   type 7   type 4        NaN  \n",
       "1     NaN     NaN     NaN     NaN     NaN      NaN      NaN   type 682  \n",
       "2  type 5  type 4  type 6  type 1  type 1  type 13  type 10        NaN  \n",
       "3  type 5  type 4  type 6  type 1  type 1   type 5   type 5        NaN  \n",
       "4     NaN     NaN     NaN     NaN     NaN      NaN      NaN  type 3015  "
      ]
     },
     "execution_count": 99,
     "metadata": {},
     "output_type": "execute_result"
    }
   ],
   "source": [
    "test_df = pd.read_csv('./Data/act_test.csv')\n",
    "test_df.head()"
   ]
  },
  {
   "cell_type": "code",
   "execution_count": 100,
   "metadata": {
    "pycharm": {
     "name": "#%%\n"
    }
   },
   "outputs": [
    {
     "data": {
      "text/html": [
       "<div>\n",
       "<style scoped>\n",
       "    .dataframe tbody tr th:only-of-type {\n",
       "        vertical-align: middle;\n",
       "    }\n",
       "\n",
       "    .dataframe tbody tr th {\n",
       "        vertical-align: top;\n",
       "    }\n",
       "\n",
       "    .dataframe thead th {\n",
       "        text-align: right;\n",
       "    }\n",
       "</style>\n",
       "<table border=\"1\" class=\"dataframe\">\n",
       "  <thead>\n",
       "    <tr style=\"text-align: right;\">\n",
       "      <th></th>\n",
       "      <th>people_id</th>\n",
       "      <th>activity_id</th>\n",
       "      <th>date</th>\n",
       "      <th>activity_category</th>\n",
       "      <th>char_1</th>\n",
       "      <th>char_2</th>\n",
       "      <th>char_3</th>\n",
       "      <th>char_4</th>\n",
       "      <th>char_5</th>\n",
       "      <th>char_6</th>\n",
       "      <th>char_7</th>\n",
       "      <th>char_8</th>\n",
       "      <th>char_9</th>\n",
       "      <th>char_10</th>\n",
       "      <th>outcome</th>\n",
       "    </tr>\n",
       "  </thead>\n",
       "  <tbody>\n",
       "    <tr>\n",
       "      <th>0</th>\n",
       "      <td>ppl_100</td>\n",
       "      <td>act2_1734928</td>\n",
       "      <td>2023-08-26</td>\n",
       "      <td>type 4</td>\n",
       "      <td>NaN</td>\n",
       "      <td>NaN</td>\n",
       "      <td>NaN</td>\n",
       "      <td>NaN</td>\n",
       "      <td>NaN</td>\n",
       "      <td>NaN</td>\n",
       "      <td>NaN</td>\n",
       "      <td>NaN</td>\n",
       "      <td>NaN</td>\n",
       "      <td>type 76</td>\n",
       "      <td>0</td>\n",
       "    </tr>\n",
       "    <tr>\n",
       "      <th>1</th>\n",
       "      <td>ppl_100</td>\n",
       "      <td>act2_2434093</td>\n",
       "      <td>2022-09-27</td>\n",
       "      <td>type 2</td>\n",
       "      <td>NaN</td>\n",
       "      <td>NaN</td>\n",
       "      <td>NaN</td>\n",
       "      <td>NaN</td>\n",
       "      <td>NaN</td>\n",
       "      <td>NaN</td>\n",
       "      <td>NaN</td>\n",
       "      <td>NaN</td>\n",
       "      <td>NaN</td>\n",
       "      <td>type 1</td>\n",
       "      <td>0</td>\n",
       "    </tr>\n",
       "    <tr>\n",
       "      <th>2</th>\n",
       "      <td>ppl_100</td>\n",
       "      <td>act2_3404049</td>\n",
       "      <td>2022-09-27</td>\n",
       "      <td>type 2</td>\n",
       "      <td>NaN</td>\n",
       "      <td>NaN</td>\n",
       "      <td>NaN</td>\n",
       "      <td>NaN</td>\n",
       "      <td>NaN</td>\n",
       "      <td>NaN</td>\n",
       "      <td>NaN</td>\n",
       "      <td>NaN</td>\n",
       "      <td>NaN</td>\n",
       "      <td>type 1</td>\n",
       "      <td>0</td>\n",
       "    </tr>\n",
       "    <tr>\n",
       "      <th>3</th>\n",
       "      <td>ppl_100</td>\n",
       "      <td>act2_3651215</td>\n",
       "      <td>2023-08-04</td>\n",
       "      <td>type 2</td>\n",
       "      <td>NaN</td>\n",
       "      <td>NaN</td>\n",
       "      <td>NaN</td>\n",
       "      <td>NaN</td>\n",
       "      <td>NaN</td>\n",
       "      <td>NaN</td>\n",
       "      <td>NaN</td>\n",
       "      <td>NaN</td>\n",
       "      <td>NaN</td>\n",
       "      <td>type 1</td>\n",
       "      <td>0</td>\n",
       "    </tr>\n",
       "    <tr>\n",
       "      <th>4</th>\n",
       "      <td>ppl_100</td>\n",
       "      <td>act2_4109017</td>\n",
       "      <td>2023-08-26</td>\n",
       "      <td>type 2</td>\n",
       "      <td>NaN</td>\n",
       "      <td>NaN</td>\n",
       "      <td>NaN</td>\n",
       "      <td>NaN</td>\n",
       "      <td>NaN</td>\n",
       "      <td>NaN</td>\n",
       "      <td>NaN</td>\n",
       "      <td>NaN</td>\n",
       "      <td>NaN</td>\n",
       "      <td>type 1</td>\n",
       "      <td>0</td>\n",
       "    </tr>\n",
       "  </tbody>\n",
       "</table>\n",
       "</div>"
      ],
      "text/plain": [
       "  people_id   activity_id        date activity_category char_1 char_2 char_3  \\\n",
       "0   ppl_100  act2_1734928  2023-08-26            type 4    NaN    NaN    NaN   \n",
       "1   ppl_100  act2_2434093  2022-09-27            type 2    NaN    NaN    NaN   \n",
       "2   ppl_100  act2_3404049  2022-09-27            type 2    NaN    NaN    NaN   \n",
       "3   ppl_100  act2_3651215  2023-08-04            type 2    NaN    NaN    NaN   \n",
       "4   ppl_100  act2_4109017  2023-08-26            type 2    NaN    NaN    NaN   \n",
       "\n",
       "  char_4 char_5 char_6 char_7 char_8 char_9  char_10  outcome  \n",
       "0    NaN    NaN    NaN    NaN    NaN    NaN  type 76        0  \n",
       "1    NaN    NaN    NaN    NaN    NaN    NaN   type 1        0  \n",
       "2    NaN    NaN    NaN    NaN    NaN    NaN   type 1        0  \n",
       "3    NaN    NaN    NaN    NaN    NaN    NaN   type 1        0  \n",
       "4    NaN    NaN    NaN    NaN    NaN    NaN   type 1        0  "
      ]
     },
     "execution_count": 100,
     "metadata": {},
     "output_type": "execute_result"
    }
   ],
   "source": [
    "train_df = pd.read_csv('./Data/act_train.csv')\n",
    "train_df.head()"
   ]
  },
  {
   "cell_type": "code",
   "execution_count": 101,
   "metadata": {
    "pycharm": {
     "name": "#%%\n"
    }
   },
   "outputs": [
    {
     "data": {
      "text/html": [
       "<div>\n",
       "<style scoped>\n",
       "    .dataframe tbody tr th:only-of-type {\n",
       "        vertical-align: middle;\n",
       "    }\n",
       "\n",
       "    .dataframe tbody tr th {\n",
       "        vertical-align: top;\n",
       "    }\n",
       "\n",
       "    .dataframe thead th {\n",
       "        text-align: right;\n",
       "    }\n",
       "</style>\n",
       "<table border=\"1\" class=\"dataframe\">\n",
       "  <thead>\n",
       "    <tr style=\"text-align: right;\">\n",
       "      <th></th>\n",
       "      <th>people_id</th>\n",
       "      <th>char_1</th>\n",
       "      <th>group_1</th>\n",
       "      <th>char_2</th>\n",
       "      <th>date</th>\n",
       "      <th>char_3</th>\n",
       "      <th>char_4</th>\n",
       "      <th>char_5</th>\n",
       "      <th>char_6</th>\n",
       "      <th>char_7</th>\n",
       "      <th>...</th>\n",
       "      <th>char_29</th>\n",
       "      <th>char_30</th>\n",
       "      <th>char_31</th>\n",
       "      <th>char_32</th>\n",
       "      <th>char_33</th>\n",
       "      <th>char_34</th>\n",
       "      <th>char_35</th>\n",
       "      <th>char_36</th>\n",
       "      <th>char_37</th>\n",
       "      <th>char_38</th>\n",
       "    </tr>\n",
       "  </thead>\n",
       "  <tbody>\n",
       "    <tr>\n",
       "      <th>0</th>\n",
       "      <td>ppl_100</td>\n",
       "      <td>type 2</td>\n",
       "      <td>group 17304</td>\n",
       "      <td>type 2</td>\n",
       "      <td>2021-06-29</td>\n",
       "      <td>type 5</td>\n",
       "      <td>type 5</td>\n",
       "      <td>type 5</td>\n",
       "      <td>type 3</td>\n",
       "      <td>type 11</td>\n",
       "      <td>...</td>\n",
       "      <td>False</td>\n",
       "      <td>True</td>\n",
       "      <td>True</td>\n",
       "      <td>False</td>\n",
       "      <td>False</td>\n",
       "      <td>True</td>\n",
       "      <td>True</td>\n",
       "      <td>True</td>\n",
       "      <td>False</td>\n",
       "      <td>36</td>\n",
       "    </tr>\n",
       "    <tr>\n",
       "      <th>1</th>\n",
       "      <td>ppl_100002</td>\n",
       "      <td>type 2</td>\n",
       "      <td>group 8688</td>\n",
       "      <td>type 3</td>\n",
       "      <td>2021-01-06</td>\n",
       "      <td>type 28</td>\n",
       "      <td>type 9</td>\n",
       "      <td>type 5</td>\n",
       "      <td>type 3</td>\n",
       "      <td>type 11</td>\n",
       "      <td>...</td>\n",
       "      <td>False</td>\n",
       "      <td>True</td>\n",
       "      <td>True</td>\n",
       "      <td>True</td>\n",
       "      <td>True</td>\n",
       "      <td>True</td>\n",
       "      <td>True</td>\n",
       "      <td>True</td>\n",
       "      <td>False</td>\n",
       "      <td>76</td>\n",
       "    </tr>\n",
       "    <tr>\n",
       "      <th>2</th>\n",
       "      <td>ppl_100003</td>\n",
       "      <td>type 2</td>\n",
       "      <td>group 33592</td>\n",
       "      <td>type 3</td>\n",
       "      <td>2022-06-10</td>\n",
       "      <td>type 4</td>\n",
       "      <td>type 8</td>\n",
       "      <td>type 5</td>\n",
       "      <td>type 2</td>\n",
       "      <td>type 5</td>\n",
       "      <td>...</td>\n",
       "      <td>False</td>\n",
       "      <td>False</td>\n",
       "      <td>True</td>\n",
       "      <td>True</td>\n",
       "      <td>True</td>\n",
       "      <td>True</td>\n",
       "      <td>False</td>\n",
       "      <td>True</td>\n",
       "      <td>True</td>\n",
       "      <td>99</td>\n",
       "    </tr>\n",
       "    <tr>\n",
       "      <th>3</th>\n",
       "      <td>ppl_100004</td>\n",
       "      <td>type 2</td>\n",
       "      <td>group 22593</td>\n",
       "      <td>type 3</td>\n",
       "      <td>2022-07-20</td>\n",
       "      <td>type 40</td>\n",
       "      <td>type 25</td>\n",
       "      <td>type 9</td>\n",
       "      <td>type 4</td>\n",
       "      <td>type 16</td>\n",
       "      <td>...</td>\n",
       "      <td>True</td>\n",
       "      <td>True</td>\n",
       "      <td>True</td>\n",
       "      <td>True</td>\n",
       "      <td>True</td>\n",
       "      <td>True</td>\n",
       "      <td>True</td>\n",
       "      <td>True</td>\n",
       "      <td>True</td>\n",
       "      <td>76</td>\n",
       "    </tr>\n",
       "    <tr>\n",
       "      <th>4</th>\n",
       "      <td>ppl_100006</td>\n",
       "      <td>type 2</td>\n",
       "      <td>group 6534</td>\n",
       "      <td>type 3</td>\n",
       "      <td>2022-07-27</td>\n",
       "      <td>type 40</td>\n",
       "      <td>type 25</td>\n",
       "      <td>type 9</td>\n",
       "      <td>type 3</td>\n",
       "      <td>type 8</td>\n",
       "      <td>...</td>\n",
       "      <td>False</td>\n",
       "      <td>False</td>\n",
       "      <td>True</td>\n",
       "      <td>False</td>\n",
       "      <td>False</td>\n",
       "      <td>False</td>\n",
       "      <td>True</td>\n",
       "      <td>True</td>\n",
       "      <td>False</td>\n",
       "      <td>84</td>\n",
       "    </tr>\n",
       "  </tbody>\n",
       "</table>\n",
       "<p>5 rows × 41 columns</p>\n",
       "</div>"
      ],
      "text/plain": [
       "    people_id  char_1      group_1  char_2        date   char_3   char_4  \\\n",
       "0     ppl_100  type 2  group 17304  type 2  2021-06-29   type 5   type 5   \n",
       "1  ppl_100002  type 2   group 8688  type 3  2021-01-06  type 28   type 9   \n",
       "2  ppl_100003  type 2  group 33592  type 3  2022-06-10   type 4   type 8   \n",
       "3  ppl_100004  type 2  group 22593  type 3  2022-07-20  type 40  type 25   \n",
       "4  ppl_100006  type 2   group 6534  type 3  2022-07-27  type 40  type 25   \n",
       "\n",
       "   char_5  char_6   char_7  ... char_29 char_30  char_31  char_32  char_33  \\\n",
       "0  type 5  type 3  type 11  ...   False    True     True    False    False   \n",
       "1  type 5  type 3  type 11  ...   False    True     True     True     True   \n",
       "2  type 5  type 2   type 5  ...   False   False     True     True     True   \n",
       "3  type 9  type 4  type 16  ...    True    True     True     True     True   \n",
       "4  type 9  type 3   type 8  ...   False   False     True    False    False   \n",
       "\n",
       "   char_34  char_35  char_36  char_37  char_38  \n",
       "0     True     True     True    False       36  \n",
       "1     True     True     True    False       76  \n",
       "2     True    False     True     True       99  \n",
       "3     True     True     True     True       76  \n",
       "4    False     True     True    False       84  \n",
       "\n",
       "[5 rows x 41 columns]"
      ]
     },
     "execution_count": 101,
     "metadata": {},
     "output_type": "execute_result"
    }
   ],
   "source": [
    "people_df = pd.read_csv('./Data/people.csv')\n",
    "people_df.head()"
   ]
  },
  {
   "cell_type": "markdown",
   "metadata": {
    "collapsed": false,
    "pycharm": {
     "name": "#%% md\n"
    }
   },
   "source": [
    "## Preprocessing the Input data sets"
   ]
  },
  {
   "cell_type": "code",
   "execution_count": 102,
   "metadata": {
    "collapsed": false,
    "pycharm": {
     "name": "#%%\n"
    }
   },
   "outputs": [],
   "source": [
    "# since the data columns are similar in\n",
    "people_df['date'] = pd.to_datetime(people_df['date'])\n",
    "train_df['date'] = pd.to_datetime(train_df['date'])\n",
    "test_df['date'] = pd.to_datetime(test_df['date'])"
   ]
  },
  {
   "cell_type": "code",
   "execution_count": 103,
   "metadata": {
    "collapsed": false,
    "pycharm": {
     "name": "#%%\n"
    }
   },
   "outputs": [],
   "source": [
    "# Convert similarly named terms in the two datasets ...\n",
    "# ppl = people_df.rename(columns=dict({name: '_'.join(['ppl', name]) for name in people_df.columns if 'char' in name},\n",
    "#                                     **{'date': 'ppl_date', 'group_1': 'ppl_group', 'people_id': 'ppl_id'}))"
   ]
  },
  {
   "cell_type": "code",
   "execution_count": 104,
   "metadata": {
    "collapsed": false,
    "pycharm": {
     "name": "#%%\n"
    }
   },
   "outputs": [],
   "source": [
    "# activ = train_df.rename(columns=dict({name: '_'.join(['act', name]) for name in train_df.columns if 'char' in name},\n",
    "#                                      **{'activity_category': 'act_category', 'date': 'act_date',\n",
    "#                                         'activity_id': 'act_id', 'outcome': 'act_outcome', 'people_id': 'ppl_id'}))\n",
    "# activ.columns"
   ]
  },
  {
   "cell_type": "code",
   "execution_count": 105,
   "metadata": {
    "collapsed": false,
    "pycharm": {
     "name": "#%%\n"
    }
   },
   "outputs": [
    {
     "data": {
      "text/html": [
       "<div>\n",
       "<style scoped>\n",
       "    .dataframe tbody tr th:only-of-type {\n",
       "        vertical-align: middle;\n",
       "    }\n",
       "\n",
       "    .dataframe tbody tr th {\n",
       "        vertical-align: top;\n",
       "    }\n",
       "\n",
       "    .dataframe thead th {\n",
       "        text-align: right;\n",
       "    }\n",
       "</style>\n",
       "<table border=\"1\" class=\"dataframe\">\n",
       "  <thead>\n",
       "    <tr style=\"text-align: right;\">\n",
       "      <th></th>\n",
       "      <th>people_id</th>\n",
       "      <th>char_1</th>\n",
       "      <th>group_1</th>\n",
       "      <th>char_2</th>\n",
       "      <th>date</th>\n",
       "      <th>char_3</th>\n",
       "      <th>char_4</th>\n",
       "      <th>char_5</th>\n",
       "      <th>char_6</th>\n",
       "      <th>char_7</th>\n",
       "      <th>...</th>\n",
       "      <th>char_29</th>\n",
       "      <th>char_30</th>\n",
       "      <th>char_31</th>\n",
       "      <th>char_32</th>\n",
       "      <th>char_33</th>\n",
       "      <th>char_34</th>\n",
       "      <th>char_35</th>\n",
       "      <th>char_36</th>\n",
       "      <th>char_37</th>\n",
       "      <th>char_38</th>\n",
       "    </tr>\n",
       "  </thead>\n",
       "  <tbody>\n",
       "    <tr>\n",
       "      <th>0</th>\n",
       "      <td>ppl_100</td>\n",
       "      <td>type 2</td>\n",
       "      <td>group 17304</td>\n",
       "      <td>type 2</td>\n",
       "      <td>2021-06-29</td>\n",
       "      <td>type 5</td>\n",
       "      <td>type 5</td>\n",
       "      <td>type 5</td>\n",
       "      <td>type 3</td>\n",
       "      <td>type 11</td>\n",
       "      <td>...</td>\n",
       "      <td>False</td>\n",
       "      <td>True</td>\n",
       "      <td>True</td>\n",
       "      <td>False</td>\n",
       "      <td>False</td>\n",
       "      <td>True</td>\n",
       "      <td>True</td>\n",
       "      <td>True</td>\n",
       "      <td>False</td>\n",
       "      <td>36</td>\n",
       "    </tr>\n",
       "    <tr>\n",
       "      <th>1</th>\n",
       "      <td>ppl_100002</td>\n",
       "      <td>type 2</td>\n",
       "      <td>group 8688</td>\n",
       "      <td>type 3</td>\n",
       "      <td>2021-01-06</td>\n",
       "      <td>type 28</td>\n",
       "      <td>type 9</td>\n",
       "      <td>type 5</td>\n",
       "      <td>type 3</td>\n",
       "      <td>type 11</td>\n",
       "      <td>...</td>\n",
       "      <td>False</td>\n",
       "      <td>True</td>\n",
       "      <td>True</td>\n",
       "      <td>True</td>\n",
       "      <td>True</td>\n",
       "      <td>True</td>\n",
       "      <td>True</td>\n",
       "      <td>True</td>\n",
       "      <td>False</td>\n",
       "      <td>76</td>\n",
       "    </tr>\n",
       "    <tr>\n",
       "      <th>2</th>\n",
       "      <td>ppl_100003</td>\n",
       "      <td>type 2</td>\n",
       "      <td>group 33592</td>\n",
       "      <td>type 3</td>\n",
       "      <td>2022-06-10</td>\n",
       "      <td>type 4</td>\n",
       "      <td>type 8</td>\n",
       "      <td>type 5</td>\n",
       "      <td>type 2</td>\n",
       "      <td>type 5</td>\n",
       "      <td>...</td>\n",
       "      <td>False</td>\n",
       "      <td>False</td>\n",
       "      <td>True</td>\n",
       "      <td>True</td>\n",
       "      <td>True</td>\n",
       "      <td>True</td>\n",
       "      <td>False</td>\n",
       "      <td>True</td>\n",
       "      <td>True</td>\n",
       "      <td>99</td>\n",
       "    </tr>\n",
       "    <tr>\n",
       "      <th>3</th>\n",
       "      <td>ppl_100004</td>\n",
       "      <td>type 2</td>\n",
       "      <td>group 22593</td>\n",
       "      <td>type 3</td>\n",
       "      <td>2022-07-20</td>\n",
       "      <td>type 40</td>\n",
       "      <td>type 25</td>\n",
       "      <td>type 9</td>\n",
       "      <td>type 4</td>\n",
       "      <td>type 16</td>\n",
       "      <td>...</td>\n",
       "      <td>True</td>\n",
       "      <td>True</td>\n",
       "      <td>True</td>\n",
       "      <td>True</td>\n",
       "      <td>True</td>\n",
       "      <td>True</td>\n",
       "      <td>True</td>\n",
       "      <td>True</td>\n",
       "      <td>True</td>\n",
       "      <td>76</td>\n",
       "    </tr>\n",
       "    <tr>\n",
       "      <th>4</th>\n",
       "      <td>ppl_100006</td>\n",
       "      <td>type 2</td>\n",
       "      <td>group 6534</td>\n",
       "      <td>type 3</td>\n",
       "      <td>2022-07-27</td>\n",
       "      <td>type 40</td>\n",
       "      <td>type 25</td>\n",
       "      <td>type 9</td>\n",
       "      <td>type 3</td>\n",
       "      <td>type 8</td>\n",
       "      <td>...</td>\n",
       "      <td>False</td>\n",
       "      <td>False</td>\n",
       "      <td>True</td>\n",
       "      <td>False</td>\n",
       "      <td>False</td>\n",
       "      <td>False</td>\n",
       "      <td>True</td>\n",
       "      <td>True</td>\n",
       "      <td>False</td>\n",
       "      <td>84</td>\n",
       "    </tr>\n",
       "    <tr>\n",
       "      <th>...</th>\n",
       "      <td>...</td>\n",
       "      <td>...</td>\n",
       "      <td>...</td>\n",
       "      <td>...</td>\n",
       "      <td>...</td>\n",
       "      <td>...</td>\n",
       "      <td>...</td>\n",
       "      <td>...</td>\n",
       "      <td>...</td>\n",
       "      <td>...</td>\n",
       "      <td>...</td>\n",
       "      <td>...</td>\n",
       "      <td>...</td>\n",
       "      <td>...</td>\n",
       "      <td>...</td>\n",
       "      <td>...</td>\n",
       "      <td>...</td>\n",
       "      <td>...</td>\n",
       "      <td>...</td>\n",
       "      <td>...</td>\n",
       "      <td>...</td>\n",
       "    </tr>\n",
       "    <tr>\n",
       "      <th>189113</th>\n",
       "      <td>ppl_99987</td>\n",
       "      <td>type 1</td>\n",
       "      <td>group 8600</td>\n",
       "      <td>type 1</td>\n",
       "      <td>2022-04-02</td>\n",
       "      <td>type 4</td>\n",
       "      <td>type 6</td>\n",
       "      <td>type 4</td>\n",
       "      <td>type 3</td>\n",
       "      <td>type 11</td>\n",
       "      <td>...</td>\n",
       "      <td>False</td>\n",
       "      <td>False</td>\n",
       "      <td>False</td>\n",
       "      <td>True</td>\n",
       "      <td>False</td>\n",
       "      <td>True</td>\n",
       "      <td>False</td>\n",
       "      <td>True</td>\n",
       "      <td>True</td>\n",
       "      <td>89</td>\n",
       "    </tr>\n",
       "    <tr>\n",
       "      <th>189114</th>\n",
       "      <td>ppl_9999</td>\n",
       "      <td>type 2</td>\n",
       "      <td>group 17304</td>\n",
       "      <td>type 2</td>\n",
       "      <td>2023-02-23</td>\n",
       "      <td>type 6</td>\n",
       "      <td>type 2</td>\n",
       "      <td>type 8</td>\n",
       "      <td>type 3</td>\n",
       "      <td>type 11</td>\n",
       "      <td>...</td>\n",
       "      <td>False</td>\n",
       "      <td>False</td>\n",
       "      <td>False</td>\n",
       "      <td>False</td>\n",
       "      <td>False</td>\n",
       "      <td>False</td>\n",
       "      <td>False</td>\n",
       "      <td>False</td>\n",
       "      <td>False</td>\n",
       "      <td>0</td>\n",
       "    </tr>\n",
       "    <tr>\n",
       "      <th>189115</th>\n",
       "      <td>ppl_99992</td>\n",
       "      <td>type 2</td>\n",
       "      <td>group 17304</td>\n",
       "      <td>type 2</td>\n",
       "      <td>2020-06-25</td>\n",
       "      <td>type 5</td>\n",
       "      <td>type 5</td>\n",
       "      <td>type 3</td>\n",
       "      <td>type 4</td>\n",
       "      <td>type 16</td>\n",
       "      <td>...</td>\n",
       "      <td>False</td>\n",
       "      <td>False</td>\n",
       "      <td>False</td>\n",
       "      <td>False</td>\n",
       "      <td>False</td>\n",
       "      <td>False</td>\n",
       "      <td>False</td>\n",
       "      <td>False</td>\n",
       "      <td>False</td>\n",
       "      <td>0</td>\n",
       "    </tr>\n",
       "    <tr>\n",
       "      <th>189116</th>\n",
       "      <td>ppl_99994</td>\n",
       "      <td>type 2</td>\n",
       "      <td>group 17764</td>\n",
       "      <td>type 3</td>\n",
       "      <td>2023-01-06</td>\n",
       "      <td>type 2</td>\n",
       "      <td>type 7</td>\n",
       "      <td>type 2</td>\n",
       "      <td>type 1</td>\n",
       "      <td>type 2</td>\n",
       "      <td>...</td>\n",
       "      <td>True</td>\n",
       "      <td>True</td>\n",
       "      <td>True</td>\n",
       "      <td>True</td>\n",
       "      <td>False</td>\n",
       "      <td>True</td>\n",
       "      <td>True</td>\n",
       "      <td>True</td>\n",
       "      <td>True</td>\n",
       "      <td>95</td>\n",
       "    </tr>\n",
       "    <tr>\n",
       "      <th>189117</th>\n",
       "      <td>ppl_99997</td>\n",
       "      <td>type 2</td>\n",
       "      <td>group 17304</td>\n",
       "      <td>type 2</td>\n",
       "      <td>2022-03-12</td>\n",
       "      <td>type 40</td>\n",
       "      <td>type 25</td>\n",
       "      <td>type 9</td>\n",
       "      <td>type 3</td>\n",
       "      <td>type 8</td>\n",
       "      <td>...</td>\n",
       "      <td>False</td>\n",
       "      <td>False</td>\n",
       "      <td>False</td>\n",
       "      <td>False</td>\n",
       "      <td>False</td>\n",
       "      <td>False</td>\n",
       "      <td>False</td>\n",
       "      <td>False</td>\n",
       "      <td>False</td>\n",
       "      <td>36</td>\n",
       "    </tr>\n",
       "  </tbody>\n",
       "</table>\n",
       "<p>189118 rows × 41 columns</p>\n",
       "</div>"
      ],
      "text/plain": [
       "         people_id  char_1      group_1  char_2       date   char_3   char_4  \\\n",
       "0          ppl_100  type 2  group 17304  type 2 2021-06-29   type 5   type 5   \n",
       "1       ppl_100002  type 2   group 8688  type 3 2021-01-06  type 28   type 9   \n",
       "2       ppl_100003  type 2  group 33592  type 3 2022-06-10   type 4   type 8   \n",
       "3       ppl_100004  type 2  group 22593  type 3 2022-07-20  type 40  type 25   \n",
       "4       ppl_100006  type 2   group 6534  type 3 2022-07-27  type 40  type 25   \n",
       "...            ...     ...          ...     ...        ...      ...      ...   \n",
       "189113   ppl_99987  type 1   group 8600  type 1 2022-04-02   type 4   type 6   \n",
       "189114    ppl_9999  type 2  group 17304  type 2 2023-02-23   type 6   type 2   \n",
       "189115   ppl_99992  type 2  group 17304  type 2 2020-06-25   type 5   type 5   \n",
       "189116   ppl_99994  type 2  group 17764  type 3 2023-01-06   type 2   type 7   \n",
       "189117   ppl_99997  type 2  group 17304  type 2 2022-03-12  type 40  type 25   \n",
       "\n",
       "        char_5  char_6   char_7  ... char_29 char_30  char_31  char_32  \\\n",
       "0       type 5  type 3  type 11  ...   False    True     True    False   \n",
       "1       type 5  type 3  type 11  ...   False    True     True     True   \n",
       "2       type 5  type 2   type 5  ...   False   False     True     True   \n",
       "3       type 9  type 4  type 16  ...    True    True     True     True   \n",
       "4       type 9  type 3   type 8  ...   False   False     True    False   \n",
       "...        ...     ...      ...  ...     ...     ...      ...      ...   \n",
       "189113  type 4  type 3  type 11  ...   False   False    False     True   \n",
       "189114  type 8  type 3  type 11  ...   False   False    False    False   \n",
       "189115  type 3  type 4  type 16  ...   False   False    False    False   \n",
       "189116  type 2  type 1   type 2  ...    True    True     True     True   \n",
       "189117  type 9  type 3   type 8  ...   False   False    False    False   \n",
       "\n",
       "        char_33  char_34  char_35  char_36  char_37  char_38  \n",
       "0         False     True     True     True    False       36  \n",
       "1          True     True     True     True    False       76  \n",
       "2          True     True    False     True     True       99  \n",
       "3          True     True     True     True     True       76  \n",
       "4         False    False     True     True    False       84  \n",
       "...         ...      ...      ...      ...      ...      ...  \n",
       "189113    False     True    False     True     True       89  \n",
       "189114    False    False    False    False    False        0  \n",
       "189115    False    False    False    False    False        0  \n",
       "189116    False     True     True     True     True       95  \n",
       "189117    False    False    False    False    False       36  \n",
       "\n",
       "[189118 rows x 41 columns]"
      ]
     },
     "execution_count": 105,
     "metadata": {},
     "output_type": "execute_result"
    }
   ],
   "source": [
    "people_df"
   ]
  },
  {
   "cell_type": "code",
   "execution_count": 106,
   "metadata": {
    "collapsed": false,
    "pycharm": {
     "name": "#%%\n"
    }
   },
   "outputs": [
    {
     "data": {
      "text/plain": [
       "Index(['people_id', 'activity_id', 'date', 'activity_category', 'char_1',\n",
       "       'char_2', 'char_3', 'char_4', 'char_5', 'char_6', 'char_7', 'char_8',\n",
       "       'char_9', 'char_10', 'outcome'],\n",
       "      dtype='object')"
      ]
     },
     "execution_count": 106,
     "metadata": {},
     "output_type": "execute_result"
    }
   ],
   "source": [
    "train_df.columns"
   ]
  },
  {
   "cell_type": "code",
   "execution_count": 107,
   "metadata": {
    "collapsed": false,
    "pycharm": {
     "name": "#%%\n"
    }
   },
   "outputs": [],
   "source": [
    "## Renaming the similarly named columns keeping primary and foreign key consistent :\n",
    "people_df.columns = ['ppl_' + str(col) for col in people_df.columns]\n",
    "people_df.rename(columns={'ppl_people_id': 'people_id', 'ppl_group_1': 'ppl_group'}, inplace=True)\n",
    "train_df.columns = ['act_' + str(col) for col in train_df.columns]\n",
    "train_df.rename(columns={'act_people_id': 'people_id', 'act_activity_category': 'activity_category',\n",
    "                         'act_activity_id': 'activity_id', 'act_outcome': 'outcome'}, inplace=True)\n",
    "test_df.columns = ['act_' + str(col) for col in test_df.columns]\n",
    "test_df.rename(columns={'act_people_id': 'people_id', 'act_activity_category': 'activity_category',\n",
    "                        'act_activity_id': 'activity_id', 'act_outcome': 'outcome'}, inplace=True)\n"
   ]
  },
  {
   "cell_type": "code",
   "execution_count": 108,
   "metadata": {
    "collapsed": false,
    "pycharm": {
     "name": "#%%\n"
    }
   },
   "outputs": [
    {
     "data": {
      "text/html": [
       "<div>\n",
       "<style scoped>\n",
       "    .dataframe tbody tr th:only-of-type {\n",
       "        vertical-align: middle;\n",
       "    }\n",
       "\n",
       "    .dataframe tbody tr th {\n",
       "        vertical-align: top;\n",
       "    }\n",
       "\n",
       "    .dataframe thead th {\n",
       "        text-align: right;\n",
       "    }\n",
       "</style>\n",
       "<table border=\"1\" class=\"dataframe\">\n",
       "  <thead>\n",
       "    <tr style=\"text-align: right;\">\n",
       "      <th></th>\n",
       "      <th>people_id</th>\n",
       "      <th>ppl_char_1</th>\n",
       "      <th>ppl_group</th>\n",
       "      <th>ppl_char_2</th>\n",
       "      <th>ppl_date</th>\n",
       "      <th>ppl_char_3</th>\n",
       "      <th>ppl_char_4</th>\n",
       "      <th>ppl_char_5</th>\n",
       "      <th>ppl_char_6</th>\n",
       "      <th>ppl_char_7</th>\n",
       "      <th>...</th>\n",
       "      <th>ppl_char_29</th>\n",
       "      <th>ppl_char_30</th>\n",
       "      <th>ppl_char_31</th>\n",
       "      <th>ppl_char_32</th>\n",
       "      <th>ppl_char_33</th>\n",
       "      <th>ppl_char_34</th>\n",
       "      <th>ppl_char_35</th>\n",
       "      <th>ppl_char_36</th>\n",
       "      <th>ppl_char_37</th>\n",
       "      <th>ppl_char_38</th>\n",
       "    </tr>\n",
       "  </thead>\n",
       "  <tbody>\n",
       "    <tr>\n",
       "      <th>0</th>\n",
       "      <td>ppl_100</td>\n",
       "      <td>type 2</td>\n",
       "      <td>group 17304</td>\n",
       "      <td>type 2</td>\n",
       "      <td>2021-06-29</td>\n",
       "      <td>type 5</td>\n",
       "      <td>type 5</td>\n",
       "      <td>type 5</td>\n",
       "      <td>type 3</td>\n",
       "      <td>type 11</td>\n",
       "      <td>...</td>\n",
       "      <td>False</td>\n",
       "      <td>True</td>\n",
       "      <td>True</td>\n",
       "      <td>False</td>\n",
       "      <td>False</td>\n",
       "      <td>True</td>\n",
       "      <td>True</td>\n",
       "      <td>True</td>\n",
       "      <td>False</td>\n",
       "      <td>36</td>\n",
       "    </tr>\n",
       "    <tr>\n",
       "      <th>1</th>\n",
       "      <td>ppl_100002</td>\n",
       "      <td>type 2</td>\n",
       "      <td>group 8688</td>\n",
       "      <td>type 3</td>\n",
       "      <td>2021-01-06</td>\n",
       "      <td>type 28</td>\n",
       "      <td>type 9</td>\n",
       "      <td>type 5</td>\n",
       "      <td>type 3</td>\n",
       "      <td>type 11</td>\n",
       "      <td>...</td>\n",
       "      <td>False</td>\n",
       "      <td>True</td>\n",
       "      <td>True</td>\n",
       "      <td>True</td>\n",
       "      <td>True</td>\n",
       "      <td>True</td>\n",
       "      <td>True</td>\n",
       "      <td>True</td>\n",
       "      <td>False</td>\n",
       "      <td>76</td>\n",
       "    </tr>\n",
       "    <tr>\n",
       "      <th>2</th>\n",
       "      <td>ppl_100003</td>\n",
       "      <td>type 2</td>\n",
       "      <td>group 33592</td>\n",
       "      <td>type 3</td>\n",
       "      <td>2022-06-10</td>\n",
       "      <td>type 4</td>\n",
       "      <td>type 8</td>\n",
       "      <td>type 5</td>\n",
       "      <td>type 2</td>\n",
       "      <td>type 5</td>\n",
       "      <td>...</td>\n",
       "      <td>False</td>\n",
       "      <td>False</td>\n",
       "      <td>True</td>\n",
       "      <td>True</td>\n",
       "      <td>True</td>\n",
       "      <td>True</td>\n",
       "      <td>False</td>\n",
       "      <td>True</td>\n",
       "      <td>True</td>\n",
       "      <td>99</td>\n",
       "    </tr>\n",
       "    <tr>\n",
       "      <th>3</th>\n",
       "      <td>ppl_100004</td>\n",
       "      <td>type 2</td>\n",
       "      <td>group 22593</td>\n",
       "      <td>type 3</td>\n",
       "      <td>2022-07-20</td>\n",
       "      <td>type 40</td>\n",
       "      <td>type 25</td>\n",
       "      <td>type 9</td>\n",
       "      <td>type 4</td>\n",
       "      <td>type 16</td>\n",
       "      <td>...</td>\n",
       "      <td>True</td>\n",
       "      <td>True</td>\n",
       "      <td>True</td>\n",
       "      <td>True</td>\n",
       "      <td>True</td>\n",
       "      <td>True</td>\n",
       "      <td>True</td>\n",
       "      <td>True</td>\n",
       "      <td>True</td>\n",
       "      <td>76</td>\n",
       "    </tr>\n",
       "    <tr>\n",
       "      <th>4</th>\n",
       "      <td>ppl_100006</td>\n",
       "      <td>type 2</td>\n",
       "      <td>group 6534</td>\n",
       "      <td>type 3</td>\n",
       "      <td>2022-07-27</td>\n",
       "      <td>type 40</td>\n",
       "      <td>type 25</td>\n",
       "      <td>type 9</td>\n",
       "      <td>type 3</td>\n",
       "      <td>type 8</td>\n",
       "      <td>...</td>\n",
       "      <td>False</td>\n",
       "      <td>False</td>\n",
       "      <td>True</td>\n",
       "      <td>False</td>\n",
       "      <td>False</td>\n",
       "      <td>False</td>\n",
       "      <td>True</td>\n",
       "      <td>True</td>\n",
       "      <td>False</td>\n",
       "      <td>84</td>\n",
       "    </tr>\n",
       "    <tr>\n",
       "      <th>...</th>\n",
       "      <td>...</td>\n",
       "      <td>...</td>\n",
       "      <td>...</td>\n",
       "      <td>...</td>\n",
       "      <td>...</td>\n",
       "      <td>...</td>\n",
       "      <td>...</td>\n",
       "      <td>...</td>\n",
       "      <td>...</td>\n",
       "      <td>...</td>\n",
       "      <td>...</td>\n",
       "      <td>...</td>\n",
       "      <td>...</td>\n",
       "      <td>...</td>\n",
       "      <td>...</td>\n",
       "      <td>...</td>\n",
       "      <td>...</td>\n",
       "      <td>...</td>\n",
       "      <td>...</td>\n",
       "      <td>...</td>\n",
       "      <td>...</td>\n",
       "    </tr>\n",
       "    <tr>\n",
       "      <th>189113</th>\n",
       "      <td>ppl_99987</td>\n",
       "      <td>type 1</td>\n",
       "      <td>group 8600</td>\n",
       "      <td>type 1</td>\n",
       "      <td>2022-04-02</td>\n",
       "      <td>type 4</td>\n",
       "      <td>type 6</td>\n",
       "      <td>type 4</td>\n",
       "      <td>type 3</td>\n",
       "      <td>type 11</td>\n",
       "      <td>...</td>\n",
       "      <td>False</td>\n",
       "      <td>False</td>\n",
       "      <td>False</td>\n",
       "      <td>True</td>\n",
       "      <td>False</td>\n",
       "      <td>True</td>\n",
       "      <td>False</td>\n",
       "      <td>True</td>\n",
       "      <td>True</td>\n",
       "      <td>89</td>\n",
       "    </tr>\n",
       "    <tr>\n",
       "      <th>189114</th>\n",
       "      <td>ppl_9999</td>\n",
       "      <td>type 2</td>\n",
       "      <td>group 17304</td>\n",
       "      <td>type 2</td>\n",
       "      <td>2023-02-23</td>\n",
       "      <td>type 6</td>\n",
       "      <td>type 2</td>\n",
       "      <td>type 8</td>\n",
       "      <td>type 3</td>\n",
       "      <td>type 11</td>\n",
       "      <td>...</td>\n",
       "      <td>False</td>\n",
       "      <td>False</td>\n",
       "      <td>False</td>\n",
       "      <td>False</td>\n",
       "      <td>False</td>\n",
       "      <td>False</td>\n",
       "      <td>False</td>\n",
       "      <td>False</td>\n",
       "      <td>False</td>\n",
       "      <td>0</td>\n",
       "    </tr>\n",
       "    <tr>\n",
       "      <th>189115</th>\n",
       "      <td>ppl_99992</td>\n",
       "      <td>type 2</td>\n",
       "      <td>group 17304</td>\n",
       "      <td>type 2</td>\n",
       "      <td>2020-06-25</td>\n",
       "      <td>type 5</td>\n",
       "      <td>type 5</td>\n",
       "      <td>type 3</td>\n",
       "      <td>type 4</td>\n",
       "      <td>type 16</td>\n",
       "      <td>...</td>\n",
       "      <td>False</td>\n",
       "      <td>False</td>\n",
       "      <td>False</td>\n",
       "      <td>False</td>\n",
       "      <td>False</td>\n",
       "      <td>False</td>\n",
       "      <td>False</td>\n",
       "      <td>False</td>\n",
       "      <td>False</td>\n",
       "      <td>0</td>\n",
       "    </tr>\n",
       "    <tr>\n",
       "      <th>189116</th>\n",
       "      <td>ppl_99994</td>\n",
       "      <td>type 2</td>\n",
       "      <td>group 17764</td>\n",
       "      <td>type 3</td>\n",
       "      <td>2023-01-06</td>\n",
       "      <td>type 2</td>\n",
       "      <td>type 7</td>\n",
       "      <td>type 2</td>\n",
       "      <td>type 1</td>\n",
       "      <td>type 2</td>\n",
       "      <td>...</td>\n",
       "      <td>True</td>\n",
       "      <td>True</td>\n",
       "      <td>True</td>\n",
       "      <td>True</td>\n",
       "      <td>False</td>\n",
       "      <td>True</td>\n",
       "      <td>True</td>\n",
       "      <td>True</td>\n",
       "      <td>True</td>\n",
       "      <td>95</td>\n",
       "    </tr>\n",
       "    <tr>\n",
       "      <th>189117</th>\n",
       "      <td>ppl_99997</td>\n",
       "      <td>type 2</td>\n",
       "      <td>group 17304</td>\n",
       "      <td>type 2</td>\n",
       "      <td>2022-03-12</td>\n",
       "      <td>type 40</td>\n",
       "      <td>type 25</td>\n",
       "      <td>type 9</td>\n",
       "      <td>type 3</td>\n",
       "      <td>type 8</td>\n",
       "      <td>...</td>\n",
       "      <td>False</td>\n",
       "      <td>False</td>\n",
       "      <td>False</td>\n",
       "      <td>False</td>\n",
       "      <td>False</td>\n",
       "      <td>False</td>\n",
       "      <td>False</td>\n",
       "      <td>False</td>\n",
       "      <td>False</td>\n",
       "      <td>36</td>\n",
       "    </tr>\n",
       "  </tbody>\n",
       "</table>\n",
       "<p>189118 rows × 41 columns</p>\n",
       "</div>"
      ],
      "text/plain": [
       "         people_id ppl_char_1    ppl_group ppl_char_2   ppl_date ppl_char_3  \\\n",
       "0          ppl_100     type 2  group 17304     type 2 2021-06-29     type 5   \n",
       "1       ppl_100002     type 2   group 8688     type 3 2021-01-06    type 28   \n",
       "2       ppl_100003     type 2  group 33592     type 3 2022-06-10     type 4   \n",
       "3       ppl_100004     type 2  group 22593     type 3 2022-07-20    type 40   \n",
       "4       ppl_100006     type 2   group 6534     type 3 2022-07-27    type 40   \n",
       "...            ...        ...          ...        ...        ...        ...   \n",
       "189113   ppl_99987     type 1   group 8600     type 1 2022-04-02     type 4   \n",
       "189114    ppl_9999     type 2  group 17304     type 2 2023-02-23     type 6   \n",
       "189115   ppl_99992     type 2  group 17304     type 2 2020-06-25     type 5   \n",
       "189116   ppl_99994     type 2  group 17764     type 3 2023-01-06     type 2   \n",
       "189117   ppl_99997     type 2  group 17304     type 2 2022-03-12    type 40   \n",
       "\n",
       "       ppl_char_4 ppl_char_5 ppl_char_6 ppl_char_7  ... ppl_char_29  \\\n",
       "0          type 5     type 5     type 3    type 11  ...       False   \n",
       "1          type 9     type 5     type 3    type 11  ...       False   \n",
       "2          type 8     type 5     type 2     type 5  ...       False   \n",
       "3         type 25     type 9     type 4    type 16  ...        True   \n",
       "4         type 25     type 9     type 3     type 8  ...       False   \n",
       "...           ...        ...        ...        ...  ...         ...   \n",
       "189113     type 6     type 4     type 3    type 11  ...       False   \n",
       "189114     type 2     type 8     type 3    type 11  ...       False   \n",
       "189115     type 5     type 3     type 4    type 16  ...       False   \n",
       "189116     type 7     type 2     type 1     type 2  ...        True   \n",
       "189117    type 25     type 9     type 3     type 8  ...       False   \n",
       "\n",
       "       ppl_char_30  ppl_char_31  ppl_char_32  ppl_char_33  ppl_char_34  \\\n",
       "0             True         True        False        False         True   \n",
       "1             True         True         True         True         True   \n",
       "2            False         True         True         True         True   \n",
       "3             True         True         True         True         True   \n",
       "4            False         True        False        False        False   \n",
       "...            ...          ...          ...          ...          ...   \n",
       "189113       False        False         True        False         True   \n",
       "189114       False        False        False        False        False   \n",
       "189115       False        False        False        False        False   \n",
       "189116        True         True         True        False         True   \n",
       "189117       False        False        False        False        False   \n",
       "\n",
       "        ppl_char_35  ppl_char_36  ppl_char_37  ppl_char_38  \n",
       "0              True         True        False           36  \n",
       "1              True         True        False           76  \n",
       "2             False         True         True           99  \n",
       "3              True         True         True           76  \n",
       "4              True         True        False           84  \n",
       "...             ...          ...          ...          ...  \n",
       "189113        False         True         True           89  \n",
       "189114        False        False        False            0  \n",
       "189115        False        False        False            0  \n",
       "189116         True         True         True           95  \n",
       "189117        False        False        False           36  \n",
       "\n",
       "[189118 rows x 41 columns]"
      ]
     },
     "execution_count": 108,
     "metadata": {},
     "output_type": "execute_result"
    }
   ],
   "source": [
    "people_df"
   ]
  },
  {
   "cell_type": "code",
   "execution_count": 109,
   "metadata": {
    "collapsed": false,
    "pycharm": {
     "name": "#%%\n"
    }
   },
   "outputs": [
    {
     "data": {
      "text/html": [
       "<div>\n",
       "<style scoped>\n",
       "    .dataframe tbody tr th:only-of-type {\n",
       "        vertical-align: middle;\n",
       "    }\n",
       "\n",
       "    .dataframe tbody tr th {\n",
       "        vertical-align: top;\n",
       "    }\n",
       "\n",
       "    .dataframe thead th {\n",
       "        text-align: right;\n",
       "    }\n",
       "</style>\n",
       "<table border=\"1\" class=\"dataframe\">\n",
       "  <thead>\n",
       "    <tr style=\"text-align: right;\">\n",
       "      <th></th>\n",
       "      <th>people_id</th>\n",
       "      <th>activity_id</th>\n",
       "      <th>act_date</th>\n",
       "      <th>activity_category</th>\n",
       "      <th>act_char_1</th>\n",
       "      <th>act_char_2</th>\n",
       "      <th>act_char_3</th>\n",
       "      <th>act_char_4</th>\n",
       "      <th>act_char_5</th>\n",
       "      <th>act_char_6</th>\n",
       "      <th>act_char_7</th>\n",
       "      <th>act_char_8</th>\n",
       "      <th>act_char_9</th>\n",
       "      <th>act_char_10</th>\n",
       "      <th>outcome</th>\n",
       "    </tr>\n",
       "  </thead>\n",
       "  <tbody>\n",
       "    <tr>\n",
       "      <th>0</th>\n",
       "      <td>ppl_100</td>\n",
       "      <td>act2_1734928</td>\n",
       "      <td>2023-08-26</td>\n",
       "      <td>type 4</td>\n",
       "      <td>NaN</td>\n",
       "      <td>NaN</td>\n",
       "      <td>NaN</td>\n",
       "      <td>NaN</td>\n",
       "      <td>NaN</td>\n",
       "      <td>NaN</td>\n",
       "      <td>NaN</td>\n",
       "      <td>NaN</td>\n",
       "      <td>NaN</td>\n",
       "      <td>type 76</td>\n",
       "      <td>0</td>\n",
       "    </tr>\n",
       "    <tr>\n",
       "      <th>1</th>\n",
       "      <td>ppl_100</td>\n",
       "      <td>act2_2434093</td>\n",
       "      <td>2022-09-27</td>\n",
       "      <td>type 2</td>\n",
       "      <td>NaN</td>\n",
       "      <td>NaN</td>\n",
       "      <td>NaN</td>\n",
       "      <td>NaN</td>\n",
       "      <td>NaN</td>\n",
       "      <td>NaN</td>\n",
       "      <td>NaN</td>\n",
       "      <td>NaN</td>\n",
       "      <td>NaN</td>\n",
       "      <td>type 1</td>\n",
       "      <td>0</td>\n",
       "    </tr>\n",
       "    <tr>\n",
       "      <th>2</th>\n",
       "      <td>ppl_100</td>\n",
       "      <td>act2_3404049</td>\n",
       "      <td>2022-09-27</td>\n",
       "      <td>type 2</td>\n",
       "      <td>NaN</td>\n",
       "      <td>NaN</td>\n",
       "      <td>NaN</td>\n",
       "      <td>NaN</td>\n",
       "      <td>NaN</td>\n",
       "      <td>NaN</td>\n",
       "      <td>NaN</td>\n",
       "      <td>NaN</td>\n",
       "      <td>NaN</td>\n",
       "      <td>type 1</td>\n",
       "      <td>0</td>\n",
       "    </tr>\n",
       "    <tr>\n",
       "      <th>3</th>\n",
       "      <td>ppl_100</td>\n",
       "      <td>act2_3651215</td>\n",
       "      <td>2023-08-04</td>\n",
       "      <td>type 2</td>\n",
       "      <td>NaN</td>\n",
       "      <td>NaN</td>\n",
       "      <td>NaN</td>\n",
       "      <td>NaN</td>\n",
       "      <td>NaN</td>\n",
       "      <td>NaN</td>\n",
       "      <td>NaN</td>\n",
       "      <td>NaN</td>\n",
       "      <td>NaN</td>\n",
       "      <td>type 1</td>\n",
       "      <td>0</td>\n",
       "    </tr>\n",
       "    <tr>\n",
       "      <th>4</th>\n",
       "      <td>ppl_100</td>\n",
       "      <td>act2_4109017</td>\n",
       "      <td>2023-08-26</td>\n",
       "      <td>type 2</td>\n",
       "      <td>NaN</td>\n",
       "      <td>NaN</td>\n",
       "      <td>NaN</td>\n",
       "      <td>NaN</td>\n",
       "      <td>NaN</td>\n",
       "      <td>NaN</td>\n",
       "      <td>NaN</td>\n",
       "      <td>NaN</td>\n",
       "      <td>NaN</td>\n",
       "      <td>type 1</td>\n",
       "      <td>0</td>\n",
       "    </tr>\n",
       "    <tr>\n",
       "      <th>...</th>\n",
       "      <td>...</td>\n",
       "      <td>...</td>\n",
       "      <td>...</td>\n",
       "      <td>...</td>\n",
       "      <td>...</td>\n",
       "      <td>...</td>\n",
       "      <td>...</td>\n",
       "      <td>...</td>\n",
       "      <td>...</td>\n",
       "      <td>...</td>\n",
       "      <td>...</td>\n",
       "      <td>...</td>\n",
       "      <td>...</td>\n",
       "      <td>...</td>\n",
       "      <td>...</td>\n",
       "    </tr>\n",
       "    <tr>\n",
       "      <th>2197286</th>\n",
       "      <td>ppl_99994</td>\n",
       "      <td>act2_4668076</td>\n",
       "      <td>2023-06-16</td>\n",
       "      <td>type 4</td>\n",
       "      <td>NaN</td>\n",
       "      <td>NaN</td>\n",
       "      <td>NaN</td>\n",
       "      <td>NaN</td>\n",
       "      <td>NaN</td>\n",
       "      <td>NaN</td>\n",
       "      <td>NaN</td>\n",
       "      <td>NaN</td>\n",
       "      <td>NaN</td>\n",
       "      <td>type 418</td>\n",
       "      <td>1</td>\n",
       "    </tr>\n",
       "    <tr>\n",
       "      <th>2197287</th>\n",
       "      <td>ppl_99994</td>\n",
       "      <td>act2_4743548</td>\n",
       "      <td>2023-03-30</td>\n",
       "      <td>type 4</td>\n",
       "      <td>NaN</td>\n",
       "      <td>NaN</td>\n",
       "      <td>NaN</td>\n",
       "      <td>NaN</td>\n",
       "      <td>NaN</td>\n",
       "      <td>NaN</td>\n",
       "      <td>NaN</td>\n",
       "      <td>NaN</td>\n",
       "      <td>NaN</td>\n",
       "      <td>type 1832</td>\n",
       "      <td>1</td>\n",
       "    </tr>\n",
       "    <tr>\n",
       "      <th>2197288</th>\n",
       "      <td>ppl_99994</td>\n",
       "      <td>act2_536973</td>\n",
       "      <td>2023-01-19</td>\n",
       "      <td>type 2</td>\n",
       "      <td>NaN</td>\n",
       "      <td>NaN</td>\n",
       "      <td>NaN</td>\n",
       "      <td>NaN</td>\n",
       "      <td>NaN</td>\n",
       "      <td>NaN</td>\n",
       "      <td>NaN</td>\n",
       "      <td>NaN</td>\n",
       "      <td>NaN</td>\n",
       "      <td>type 1</td>\n",
       "      <td>1</td>\n",
       "    </tr>\n",
       "    <tr>\n",
       "      <th>2197289</th>\n",
       "      <td>ppl_99994</td>\n",
       "      <td>act2_688656</td>\n",
       "      <td>2023-05-02</td>\n",
       "      <td>type 4</td>\n",
       "      <td>NaN</td>\n",
       "      <td>NaN</td>\n",
       "      <td>NaN</td>\n",
       "      <td>NaN</td>\n",
       "      <td>NaN</td>\n",
       "      <td>NaN</td>\n",
       "      <td>NaN</td>\n",
       "      <td>NaN</td>\n",
       "      <td>NaN</td>\n",
       "      <td>type 199</td>\n",
       "      <td>1</td>\n",
       "    </tr>\n",
       "    <tr>\n",
       "      <th>2197290</th>\n",
       "      <td>ppl_99994</td>\n",
       "      <td>act2_715089</td>\n",
       "      <td>2023-06-15</td>\n",
       "      <td>type 2</td>\n",
       "      <td>NaN</td>\n",
       "      <td>NaN</td>\n",
       "      <td>NaN</td>\n",
       "      <td>NaN</td>\n",
       "      <td>NaN</td>\n",
       "      <td>NaN</td>\n",
       "      <td>NaN</td>\n",
       "      <td>NaN</td>\n",
       "      <td>NaN</td>\n",
       "      <td>type 1</td>\n",
       "      <td>1</td>\n",
       "    </tr>\n",
       "  </tbody>\n",
       "</table>\n",
       "<p>2197291 rows × 15 columns</p>\n",
       "</div>"
      ],
      "text/plain": [
       "         people_id   activity_id   act_date activity_category act_char_1  \\\n",
       "0          ppl_100  act2_1734928 2023-08-26            type 4        NaN   \n",
       "1          ppl_100  act2_2434093 2022-09-27            type 2        NaN   \n",
       "2          ppl_100  act2_3404049 2022-09-27            type 2        NaN   \n",
       "3          ppl_100  act2_3651215 2023-08-04            type 2        NaN   \n",
       "4          ppl_100  act2_4109017 2023-08-26            type 2        NaN   \n",
       "...            ...           ...        ...               ...        ...   \n",
       "2197286  ppl_99994  act2_4668076 2023-06-16            type 4        NaN   \n",
       "2197287  ppl_99994  act2_4743548 2023-03-30            type 4        NaN   \n",
       "2197288  ppl_99994   act2_536973 2023-01-19            type 2        NaN   \n",
       "2197289  ppl_99994   act2_688656 2023-05-02            type 4        NaN   \n",
       "2197290  ppl_99994   act2_715089 2023-06-15            type 2        NaN   \n",
       "\n",
       "        act_char_2 act_char_3 act_char_4 act_char_5 act_char_6 act_char_7  \\\n",
       "0              NaN        NaN        NaN        NaN        NaN        NaN   \n",
       "1              NaN        NaN        NaN        NaN        NaN        NaN   \n",
       "2              NaN        NaN        NaN        NaN        NaN        NaN   \n",
       "3              NaN        NaN        NaN        NaN        NaN        NaN   \n",
       "4              NaN        NaN        NaN        NaN        NaN        NaN   \n",
       "...            ...        ...        ...        ...        ...        ...   \n",
       "2197286        NaN        NaN        NaN        NaN        NaN        NaN   \n",
       "2197287        NaN        NaN        NaN        NaN        NaN        NaN   \n",
       "2197288        NaN        NaN        NaN        NaN        NaN        NaN   \n",
       "2197289        NaN        NaN        NaN        NaN        NaN        NaN   \n",
       "2197290        NaN        NaN        NaN        NaN        NaN        NaN   \n",
       "\n",
       "        act_char_8 act_char_9 act_char_10  outcome  \n",
       "0              NaN        NaN     type 76        0  \n",
       "1              NaN        NaN      type 1        0  \n",
       "2              NaN        NaN      type 1        0  \n",
       "3              NaN        NaN      type 1        0  \n",
       "4              NaN        NaN      type 1        0  \n",
       "...            ...        ...         ...      ...  \n",
       "2197286        NaN        NaN    type 418        1  \n",
       "2197287        NaN        NaN   type 1832        1  \n",
       "2197288        NaN        NaN      type 1        1  \n",
       "2197289        NaN        NaN    type 199        1  \n",
       "2197290        NaN        NaN      type 1        1  \n",
       "\n",
       "[2197291 rows x 15 columns]"
      ]
     },
     "execution_count": 109,
     "metadata": {},
     "output_type": "execute_result"
    }
   ],
   "source": [
    "train_df"
   ]
  },
  {
   "cell_type": "code",
   "execution_count": 110,
   "metadata": {
    "collapsed": false,
    "pycharm": {
     "name": "#%%\n"
    }
   },
   "outputs": [
    {
     "data": {
      "text/html": [
       "<div>\n",
       "<style scoped>\n",
       "    .dataframe tbody tr th:only-of-type {\n",
       "        vertical-align: middle;\n",
       "    }\n",
       "\n",
       "    .dataframe tbody tr th {\n",
       "        vertical-align: top;\n",
       "    }\n",
       "\n",
       "    .dataframe thead th {\n",
       "        text-align: right;\n",
       "    }\n",
       "</style>\n",
       "<table border=\"1\" class=\"dataframe\">\n",
       "  <thead>\n",
       "    <tr style=\"text-align: right;\">\n",
       "      <th></th>\n",
       "      <th>people_id</th>\n",
       "      <th>activity_id</th>\n",
       "      <th>act_date</th>\n",
       "      <th>activity_category</th>\n",
       "      <th>act_char_1</th>\n",
       "      <th>act_char_2</th>\n",
       "      <th>act_char_3</th>\n",
       "      <th>act_char_4</th>\n",
       "      <th>act_char_5</th>\n",
       "      <th>act_char_6</th>\n",
       "      <th>act_char_7</th>\n",
       "      <th>act_char_8</th>\n",
       "      <th>act_char_9</th>\n",
       "      <th>act_char_10</th>\n",
       "    </tr>\n",
       "  </thead>\n",
       "  <tbody>\n",
       "    <tr>\n",
       "      <th>0</th>\n",
       "      <td>ppl_100004</td>\n",
       "      <td>act1_249281</td>\n",
       "      <td>2022-07-20</td>\n",
       "      <td>type 1</td>\n",
       "      <td>type 5</td>\n",
       "      <td>type 10</td>\n",
       "      <td>type 5</td>\n",
       "      <td>type 1</td>\n",
       "      <td>type 6</td>\n",
       "      <td>type 1</td>\n",
       "      <td>type 1</td>\n",
       "      <td>type 7</td>\n",
       "      <td>type 4</td>\n",
       "      <td>NaN</td>\n",
       "    </tr>\n",
       "    <tr>\n",
       "      <th>1</th>\n",
       "      <td>ppl_100004</td>\n",
       "      <td>act2_230855</td>\n",
       "      <td>2022-07-20</td>\n",
       "      <td>type 5</td>\n",
       "      <td>NaN</td>\n",
       "      <td>NaN</td>\n",
       "      <td>NaN</td>\n",
       "      <td>NaN</td>\n",
       "      <td>NaN</td>\n",
       "      <td>NaN</td>\n",
       "      <td>NaN</td>\n",
       "      <td>NaN</td>\n",
       "      <td>NaN</td>\n",
       "      <td>type 682</td>\n",
       "    </tr>\n",
       "    <tr>\n",
       "      <th>2</th>\n",
       "      <td>ppl_10001</td>\n",
       "      <td>act1_240724</td>\n",
       "      <td>2022-10-14</td>\n",
       "      <td>type 1</td>\n",
       "      <td>type 12</td>\n",
       "      <td>type 1</td>\n",
       "      <td>type 5</td>\n",
       "      <td>type 4</td>\n",
       "      <td>type 6</td>\n",
       "      <td>type 1</td>\n",
       "      <td>type 1</td>\n",
       "      <td>type 13</td>\n",
       "      <td>type 10</td>\n",
       "      <td>NaN</td>\n",
       "    </tr>\n",
       "    <tr>\n",
       "      <th>3</th>\n",
       "      <td>ppl_10001</td>\n",
       "      <td>act1_83552</td>\n",
       "      <td>2022-11-27</td>\n",
       "      <td>type 1</td>\n",
       "      <td>type 20</td>\n",
       "      <td>type 10</td>\n",
       "      <td>type 5</td>\n",
       "      <td>type 4</td>\n",
       "      <td>type 6</td>\n",
       "      <td>type 1</td>\n",
       "      <td>type 1</td>\n",
       "      <td>type 5</td>\n",
       "      <td>type 5</td>\n",
       "      <td>NaN</td>\n",
       "    </tr>\n",
       "    <tr>\n",
       "      <th>4</th>\n",
       "      <td>ppl_10001</td>\n",
       "      <td>act2_1043301</td>\n",
       "      <td>2022-10-15</td>\n",
       "      <td>type 5</td>\n",
       "      <td>NaN</td>\n",
       "      <td>NaN</td>\n",
       "      <td>NaN</td>\n",
       "      <td>NaN</td>\n",
       "      <td>NaN</td>\n",
       "      <td>NaN</td>\n",
       "      <td>NaN</td>\n",
       "      <td>NaN</td>\n",
       "      <td>NaN</td>\n",
       "      <td>type 3015</td>\n",
       "    </tr>\n",
       "    <tr>\n",
       "      <th>...</th>\n",
       "      <td>...</td>\n",
       "      <td>...</td>\n",
       "      <td>...</td>\n",
       "      <td>...</td>\n",
       "      <td>...</td>\n",
       "      <td>...</td>\n",
       "      <td>...</td>\n",
       "      <td>...</td>\n",
       "      <td>...</td>\n",
       "      <td>...</td>\n",
       "      <td>...</td>\n",
       "      <td>...</td>\n",
       "      <td>...</td>\n",
       "      <td>...</td>\n",
       "    </tr>\n",
       "    <tr>\n",
       "      <th>498682</th>\n",
       "      <td>ppl_99997</td>\n",
       "      <td>act2_4367092</td>\n",
       "      <td>2023-04-22</td>\n",
       "      <td>type 2</td>\n",
       "      <td>NaN</td>\n",
       "      <td>NaN</td>\n",
       "      <td>NaN</td>\n",
       "      <td>NaN</td>\n",
       "      <td>NaN</td>\n",
       "      <td>NaN</td>\n",
       "      <td>NaN</td>\n",
       "      <td>NaN</td>\n",
       "      <td>NaN</td>\n",
       "      <td>type 1</td>\n",
       "    </tr>\n",
       "    <tr>\n",
       "      <th>498683</th>\n",
       "      <td>ppl_99997</td>\n",
       "      <td>act2_4404220</td>\n",
       "      <td>2022-11-12</td>\n",
       "      <td>type 2</td>\n",
       "      <td>NaN</td>\n",
       "      <td>NaN</td>\n",
       "      <td>NaN</td>\n",
       "      <td>NaN</td>\n",
       "      <td>NaN</td>\n",
       "      <td>NaN</td>\n",
       "      <td>NaN</td>\n",
       "      <td>NaN</td>\n",
       "      <td>NaN</td>\n",
       "      <td>type 1</td>\n",
       "    </tr>\n",
       "    <tr>\n",
       "      <th>498684</th>\n",
       "      <td>ppl_99997</td>\n",
       "      <td>act2_448830</td>\n",
       "      <td>2022-08-02</td>\n",
       "      <td>type 2</td>\n",
       "      <td>NaN</td>\n",
       "      <td>NaN</td>\n",
       "      <td>NaN</td>\n",
       "      <td>NaN</td>\n",
       "      <td>NaN</td>\n",
       "      <td>NaN</td>\n",
       "      <td>NaN</td>\n",
       "      <td>NaN</td>\n",
       "      <td>NaN</td>\n",
       "      <td>type 1</td>\n",
       "    </tr>\n",
       "    <tr>\n",
       "      <th>498685</th>\n",
       "      <td>ppl_99997</td>\n",
       "      <td>act2_450133</td>\n",
       "      <td>2022-08-02</td>\n",
       "      <td>type 2</td>\n",
       "      <td>NaN</td>\n",
       "      <td>NaN</td>\n",
       "      <td>NaN</td>\n",
       "      <td>NaN</td>\n",
       "      <td>NaN</td>\n",
       "      <td>NaN</td>\n",
       "      <td>NaN</td>\n",
       "      <td>NaN</td>\n",
       "      <td>NaN</td>\n",
       "      <td>type 1</td>\n",
       "    </tr>\n",
       "    <tr>\n",
       "      <th>498686</th>\n",
       "      <td>ppl_99997</td>\n",
       "      <td>act2_847967</td>\n",
       "      <td>2022-10-15</td>\n",
       "      <td>type 2</td>\n",
       "      <td>NaN</td>\n",
       "      <td>NaN</td>\n",
       "      <td>NaN</td>\n",
       "      <td>NaN</td>\n",
       "      <td>NaN</td>\n",
       "      <td>NaN</td>\n",
       "      <td>NaN</td>\n",
       "      <td>NaN</td>\n",
       "      <td>NaN</td>\n",
       "      <td>type 1</td>\n",
       "    </tr>\n",
       "  </tbody>\n",
       "</table>\n",
       "<p>498687 rows × 14 columns</p>\n",
       "</div>"
      ],
      "text/plain": [
       "         people_id   activity_id   act_date activity_category act_char_1  \\\n",
       "0       ppl_100004   act1_249281 2022-07-20            type 1     type 5   \n",
       "1       ppl_100004   act2_230855 2022-07-20            type 5        NaN   \n",
       "2        ppl_10001   act1_240724 2022-10-14            type 1    type 12   \n",
       "3        ppl_10001    act1_83552 2022-11-27            type 1    type 20   \n",
       "4        ppl_10001  act2_1043301 2022-10-15            type 5        NaN   \n",
       "...            ...           ...        ...               ...        ...   \n",
       "498682   ppl_99997  act2_4367092 2023-04-22            type 2        NaN   \n",
       "498683   ppl_99997  act2_4404220 2022-11-12            type 2        NaN   \n",
       "498684   ppl_99997   act2_448830 2022-08-02            type 2        NaN   \n",
       "498685   ppl_99997   act2_450133 2022-08-02            type 2        NaN   \n",
       "498686   ppl_99997   act2_847967 2022-10-15            type 2        NaN   \n",
       "\n",
       "       act_char_2 act_char_3 act_char_4 act_char_5 act_char_6 act_char_7  \\\n",
       "0         type 10     type 5     type 1     type 6     type 1     type 1   \n",
       "1             NaN        NaN        NaN        NaN        NaN        NaN   \n",
       "2          type 1     type 5     type 4     type 6     type 1     type 1   \n",
       "3         type 10     type 5     type 4     type 6     type 1     type 1   \n",
       "4             NaN        NaN        NaN        NaN        NaN        NaN   \n",
       "...           ...        ...        ...        ...        ...        ...   \n",
       "498682        NaN        NaN        NaN        NaN        NaN        NaN   \n",
       "498683        NaN        NaN        NaN        NaN        NaN        NaN   \n",
       "498684        NaN        NaN        NaN        NaN        NaN        NaN   \n",
       "498685        NaN        NaN        NaN        NaN        NaN        NaN   \n",
       "498686        NaN        NaN        NaN        NaN        NaN        NaN   \n",
       "\n",
       "       act_char_8 act_char_9 act_char_10  \n",
       "0          type 7     type 4         NaN  \n",
       "1             NaN        NaN    type 682  \n",
       "2         type 13    type 10         NaN  \n",
       "3          type 5     type 5         NaN  \n",
       "4             NaN        NaN   type 3015  \n",
       "...           ...        ...         ...  \n",
       "498682        NaN        NaN      type 1  \n",
       "498683        NaN        NaN      type 1  \n",
       "498684        NaN        NaN      type 1  \n",
       "498685        NaN        NaN      type 1  \n",
       "498686        NaN        NaN      type 1  \n",
       "\n",
       "[498687 rows x 14 columns]"
      ]
     },
     "execution_count": 110,
     "metadata": {},
     "output_type": "execute_result"
    }
   ],
   "source": [
    "test_df"
   ]
  },
  {
   "cell_type": "code",
   "execution_count": 111,
   "metadata": {
    "collapsed": false,
    "pycharm": {
     "name": "#%%\n"
    }
   },
   "outputs": [
    {
     "name": "stdout",
     "output_type": "stream",
     "text": [
      "People data null values : \n",
      "\n",
      "people_id      0\n",
      "ppl_char_1     0\n",
      "ppl_group      0\n",
      "ppl_char_2     0\n",
      "ppl_date       0\n",
      "ppl_char_3     0\n",
      "ppl_char_4     0\n",
      "ppl_char_5     0\n",
      "ppl_char_6     0\n",
      "ppl_char_7     0\n",
      "ppl_char_8     0\n",
      "ppl_char_9     0\n",
      "ppl_char_10    0\n",
      "ppl_char_11    0\n",
      "ppl_char_12    0\n",
      "ppl_char_13    0\n",
      "ppl_char_14    0\n",
      "ppl_char_15    0\n",
      "ppl_char_16    0\n",
      "ppl_char_17    0\n",
      "ppl_char_18    0\n",
      "ppl_char_19    0\n",
      "ppl_char_20    0\n",
      "ppl_char_21    0\n",
      "ppl_char_22    0\n",
      "ppl_char_23    0\n",
      "ppl_char_24    0\n",
      "ppl_char_25    0\n",
      "ppl_char_26    0\n",
      "ppl_char_27    0\n",
      "ppl_char_28    0\n",
      "ppl_char_29    0\n",
      "ppl_char_30    0\n",
      "ppl_char_31    0\n",
      "ppl_char_32    0\n",
      "ppl_char_33    0\n",
      "ppl_char_34    0\n",
      "ppl_char_35    0\n",
      "ppl_char_36    0\n",
      "ppl_char_37    0\n",
      "ppl_char_38    0\n",
      "dtype: int64\n",
      "-----------------------------------------------------------------\n",
      "\n",
      "Train data null values : \n",
      "\n",
      "people_id                  0\n",
      "activity_id                0\n",
      "act_date                   0\n",
      "activity_category          0\n",
      "act_char_1           2039676\n",
      "act_char_2           2039676\n",
      "act_char_3           2039676\n",
      "act_char_4           2039676\n",
      "act_char_5           2039676\n",
      "act_char_6           2039676\n",
      "act_char_7           2039676\n",
      "act_char_8           2039676\n",
      "act_char_9           2039676\n",
      "act_char_10           157615\n",
      "outcome                    0\n",
      "dtype: int64\n",
      "-----------------------------------------------------------------\n",
      "\n",
      "Test data null values : \n",
      "\n",
      "people_id                 0\n",
      "activity_id               0\n",
      "act_date                  0\n",
      "activity_category         0\n",
      "act_char_1           458595\n",
      "act_char_2           458595\n",
      "act_char_3           458595\n",
      "act_char_4           458595\n",
      "act_char_5           458595\n",
      "act_char_6           458595\n",
      "act_char_7           458595\n",
      "act_char_8           458595\n",
      "act_char_9           458595\n",
      "act_char_10           40092\n",
      "dtype: int64\n",
      "-----------------------------------------------------------------\n",
      "\n"
     ]
    }
   ],
   "source": [
    "## Checking for null values :\n",
    "# People dataset\n",
    "print('People data null values : \\n')\n",
    "print(people_df.isnull().sum())\n",
    "print('-----------------------------------------------------------------\\n')\n",
    "print('Train data null values : \\n')\n",
    "print(train_df.isnull().sum())\n",
    "print('-----------------------------------------------------------------\\n')\n",
    "print('Test data null values : \\n')\n",
    "print(test_df.isnull().sum())\n",
    "print('-----------------------------------------------------------------\\n')"
   ]
  },
  {
   "cell_type": "code",
   "execution_count": 112,
   "metadata": {
    "pycharm": {
     "name": "#%%\n"
    }
   },
   "outputs": [
    {
     "data": {
      "text/plain": [
       "people_id                    object\n",
       "activity_id                  object\n",
       "act_date             datetime64[ns]\n",
       "activity_category            object\n",
       "act_char_1                   object\n",
       "act_char_2                   object\n",
       "act_char_3                   object\n",
       "act_char_4                   object\n",
       "act_char_5                   object\n",
       "act_char_6                   object\n",
       "act_char_7                   object\n",
       "act_char_8                   object\n",
       "act_char_9                   object\n",
       "act_char_10                  object\n",
       "dtype: object"
      ]
     },
     "execution_count": 112,
     "metadata": {},
     "output_type": "execute_result"
    }
   ],
   "source": [
    "test_df.dtypes"
   ]
  },
  {
   "cell_type": "code",
   "execution_count": 113,
   "metadata": {
    "pycharm": {
     "name": "#%%\n"
    }
   },
   "outputs": [
    {
     "name": "stdout",
     "output_type": "stream",
     "text": [
      "act_char_1\n",
      "act_char_2\n",
      "act_char_3\n",
      "act_char_4\n",
      "act_char_5\n",
      "act_char_6\n",
      "act_char_7\n",
      "act_char_8\n",
      "act_char_9\n",
      "act_char_10\n"
     ]
    }
   ],
   "source": [
    "for column in test_df.columns.to_list()[4:]:\n",
    "    print(column)\n",
    "    test_df.loc[test_df[column].isnull(), column] = \"type -1\""
   ]
  },
  {
   "cell_type": "code",
   "execution_count": 114,
   "metadata": {
    "collapsed": false,
    "pycharm": {
     "name": "#%%\n"
    }
   },
   "outputs": [
    {
     "name": "stdout",
     "output_type": "stream",
     "text": [
      "act_char_1\n",
      "act_char_2\n",
      "act_char_3\n",
      "act_char_4\n",
      "act_char_5\n",
      "act_char_6\n",
      "act_char_7\n",
      "act_char_8\n",
      "act_char_9\n",
      "act_char_10\n"
     ]
    }
   ],
   "source": [
    "for column in train_df.columns.to_list()[4:14]:\n",
    "    print(column)\n",
    "    train_df.loc[train_df[column].isnull(), column] = \"type -1\""
   ]
  },
  {
   "cell_type": "code",
   "execution_count": 115,
   "metadata": {
    "collapsed": false,
    "pycharm": {
     "name": "#%%\n"
    }
   },
   "outputs": [],
   "source": [
    "# sorting of columns\n",
    "people_df = people_df[['people_id', 'ppl_date',  'ppl_group', 'ppl_char_1', 'ppl_char_2'] + people_df.columns[5:].to_list()]\n",
    "# Converting features to category format for People dataset:\n",
    "people_columns = people_df.columns.to_list()[3:12]\n",
    "# people_df[['ppl_group'] + people_columns] = people_df[['ppl_group'] + people_columns].astype('category')"
   ]
  },
  {
   "cell_type": "code",
   "execution_count": 116,
   "metadata": {
    "collapsed": false,
    "pycharm": {
     "name": "#%%\n"
    }
   },
   "outputs": [],
   "source": [
    "# Converting features to category format for activity train and test data:\n",
    "activity_category = test_df.columns.to_list()[3:14]\n",
    "# test_df[activity_category] = test_df[activity_category].astype('category')\n",
    "# train_df[activity_category] = train_df[activity_category].astype('category')"
   ]
  },
  {
   "cell_type": "code",
   "execution_count": 117,
   "metadata": {
    "collapsed": false,
    "pycharm": {
     "name": "#%%\n"
    }
   },
   "outputs": [
    {
     "data": {
      "text/plain": [
       "people_id              object\n",
       "ppl_date       datetime64[ns]\n",
       "ppl_group              object\n",
       "ppl_char_1             object\n",
       "ppl_char_2             object\n",
       "ppl_char_3             object\n",
       "ppl_char_4             object\n",
       "ppl_char_5             object\n",
       "ppl_char_6             object\n",
       "ppl_char_7             object\n",
       "ppl_char_8             object\n",
       "ppl_char_9             object\n",
       "ppl_char_10              bool\n",
       "ppl_char_11              bool\n",
       "ppl_char_12              bool\n",
       "ppl_char_13              bool\n",
       "ppl_char_14              bool\n",
       "ppl_char_15              bool\n",
       "ppl_char_16              bool\n",
       "ppl_char_17              bool\n",
       "ppl_char_18              bool\n",
       "ppl_char_19              bool\n",
       "ppl_char_20              bool\n",
       "ppl_char_21              bool\n",
       "ppl_char_22              bool\n",
       "ppl_char_23              bool\n",
       "ppl_char_24              bool\n",
       "ppl_char_25              bool\n",
       "ppl_char_26              bool\n",
       "ppl_char_27              bool\n",
       "ppl_char_28              bool\n",
       "ppl_char_29              bool\n",
       "ppl_char_30              bool\n",
       "ppl_char_31              bool\n",
       "ppl_char_32              bool\n",
       "ppl_char_33              bool\n",
       "ppl_char_34              bool\n",
       "ppl_char_35              bool\n",
       "ppl_char_36              bool\n",
       "ppl_char_37              bool\n",
       "ppl_char_38             int64\n",
       "dtype: object"
      ]
     },
     "execution_count": 117,
     "metadata": {},
     "output_type": "execute_result"
    }
   ],
   "source": [
    "people_df.dtypes"
   ]
  },
  {
   "cell_type": "code",
   "execution_count": 118,
   "metadata": {
    "collapsed": false,
    "pycharm": {
     "name": "#%%\n"
    }
   },
   "outputs": [
    {
     "data": {
      "text/html": [
       "<div>\n",
       "<style scoped>\n",
       "    .dataframe tbody tr th:only-of-type {\n",
       "        vertical-align: middle;\n",
       "    }\n",
       "\n",
       "    .dataframe tbody tr th {\n",
       "        vertical-align: top;\n",
       "    }\n",
       "\n",
       "    .dataframe thead th {\n",
       "        text-align: right;\n",
       "    }\n",
       "</style>\n",
       "<table border=\"1\" class=\"dataframe\">\n",
       "  <thead>\n",
       "    <tr style=\"text-align: right;\">\n",
       "      <th></th>\n",
       "      <th>people_id</th>\n",
       "      <th>activity_id</th>\n",
       "      <th>act_date</th>\n",
       "      <th>activity_category</th>\n",
       "      <th>act_char_1</th>\n",
       "      <th>act_char_2</th>\n",
       "      <th>act_char_3</th>\n",
       "      <th>act_char_4</th>\n",
       "      <th>act_char_5</th>\n",
       "      <th>act_char_6</th>\n",
       "      <th>act_char_7</th>\n",
       "      <th>act_char_8</th>\n",
       "      <th>act_char_9</th>\n",
       "      <th>act_char_10</th>\n",
       "      <th>outcome</th>\n",
       "    </tr>\n",
       "  </thead>\n",
       "  <tbody>\n",
       "    <tr>\n",
       "      <th>0</th>\n",
       "      <td>ppl_100</td>\n",
       "      <td>act2_1734928</td>\n",
       "      <td>2023-08-26</td>\n",
       "      <td>type 4</td>\n",
       "      <td>type -1</td>\n",
       "      <td>type -1</td>\n",
       "      <td>type -1</td>\n",
       "      <td>type -1</td>\n",
       "      <td>type -1</td>\n",
       "      <td>type -1</td>\n",
       "      <td>type -1</td>\n",
       "      <td>type -1</td>\n",
       "      <td>type -1</td>\n",
       "      <td>type 76</td>\n",
       "      <td>0</td>\n",
       "    </tr>\n",
       "    <tr>\n",
       "      <th>1</th>\n",
       "      <td>ppl_100</td>\n",
       "      <td>act2_2434093</td>\n",
       "      <td>2022-09-27</td>\n",
       "      <td>type 2</td>\n",
       "      <td>type -1</td>\n",
       "      <td>type -1</td>\n",
       "      <td>type -1</td>\n",
       "      <td>type -1</td>\n",
       "      <td>type -1</td>\n",
       "      <td>type -1</td>\n",
       "      <td>type -1</td>\n",
       "      <td>type -1</td>\n",
       "      <td>type -1</td>\n",
       "      <td>type 1</td>\n",
       "      <td>0</td>\n",
       "    </tr>\n",
       "    <tr>\n",
       "      <th>2</th>\n",
       "      <td>ppl_100</td>\n",
       "      <td>act2_3404049</td>\n",
       "      <td>2022-09-27</td>\n",
       "      <td>type 2</td>\n",
       "      <td>type -1</td>\n",
       "      <td>type -1</td>\n",
       "      <td>type -1</td>\n",
       "      <td>type -1</td>\n",
       "      <td>type -1</td>\n",
       "      <td>type -1</td>\n",
       "      <td>type -1</td>\n",
       "      <td>type -1</td>\n",
       "      <td>type -1</td>\n",
       "      <td>type 1</td>\n",
       "      <td>0</td>\n",
       "    </tr>\n",
       "    <tr>\n",
       "      <th>3</th>\n",
       "      <td>ppl_100</td>\n",
       "      <td>act2_3651215</td>\n",
       "      <td>2023-08-04</td>\n",
       "      <td>type 2</td>\n",
       "      <td>type -1</td>\n",
       "      <td>type -1</td>\n",
       "      <td>type -1</td>\n",
       "      <td>type -1</td>\n",
       "      <td>type -1</td>\n",
       "      <td>type -1</td>\n",
       "      <td>type -1</td>\n",
       "      <td>type -1</td>\n",
       "      <td>type -1</td>\n",
       "      <td>type 1</td>\n",
       "      <td>0</td>\n",
       "    </tr>\n",
       "    <tr>\n",
       "      <th>4</th>\n",
       "      <td>ppl_100</td>\n",
       "      <td>act2_4109017</td>\n",
       "      <td>2023-08-26</td>\n",
       "      <td>type 2</td>\n",
       "      <td>type -1</td>\n",
       "      <td>type -1</td>\n",
       "      <td>type -1</td>\n",
       "      <td>type -1</td>\n",
       "      <td>type -1</td>\n",
       "      <td>type -1</td>\n",
       "      <td>type -1</td>\n",
       "      <td>type -1</td>\n",
       "      <td>type -1</td>\n",
       "      <td>type 1</td>\n",
       "      <td>0</td>\n",
       "    </tr>\n",
       "  </tbody>\n",
       "</table>\n",
       "</div>"
      ],
      "text/plain": [
       "  people_id   activity_id   act_date activity_category act_char_1 act_char_2  \\\n",
       "0   ppl_100  act2_1734928 2023-08-26            type 4    type -1    type -1   \n",
       "1   ppl_100  act2_2434093 2022-09-27            type 2    type -1    type -1   \n",
       "2   ppl_100  act2_3404049 2022-09-27            type 2    type -1    type -1   \n",
       "3   ppl_100  act2_3651215 2023-08-04            type 2    type -1    type -1   \n",
       "4   ppl_100  act2_4109017 2023-08-26            type 2    type -1    type -1   \n",
       "\n",
       "  act_char_3 act_char_4 act_char_5 act_char_6 act_char_7 act_char_8  \\\n",
       "0    type -1    type -1    type -1    type -1    type -1    type -1   \n",
       "1    type -1    type -1    type -1    type -1    type -1    type -1   \n",
       "2    type -1    type -1    type -1    type -1    type -1    type -1   \n",
       "3    type -1    type -1    type -1    type -1    type -1    type -1   \n",
       "4    type -1    type -1    type -1    type -1    type -1    type -1   \n",
       "\n",
       "  act_char_9 act_char_10  outcome  \n",
       "0    type -1     type 76        0  \n",
       "1    type -1      type 1        0  \n",
       "2    type -1      type 1        0  \n",
       "3    type -1      type 1        0  \n",
       "4    type -1      type 1        0  "
      ]
     },
     "execution_count": 118,
     "metadata": {},
     "output_type": "execute_result"
    }
   ],
   "source": [
    "train_df.head()"
   ]
  },
  {
   "cell_type": "markdown",
   "metadata": {
    "collapsed": false,
    "pycharm": {
     "name": "#%% md\n"
    }
   },
   "source": [
    "## Exploratory Data Analysis"
   ]
  },
  {
   "cell_type": "code",
   "execution_count": 119,
   "metadata": {},
   "outputs": [
    {
     "name": "stdout",
     "output_type": "stream",
     "text": [
      "Shape of Train data: (2197291, 15)\n",
      "Shape of People data: (189118, 41)\n"
     ]
    }
   ],
   "source": [
    "print(\"Shape of Train data:\", train_df.shape)\n",
    "print(\"Shape of People data:\", people_df.shape)"
   ]
  },
  {
   "cell_type": "code",
   "execution_count": 120,
   "metadata": {
    "collapsed": false,
    "pycharm": {
     "name": "#%%\n"
    }
   },
   "outputs": [
    {
     "data": {
      "text/html": [
       "<div>\n",
       "<style scoped>\n",
       "    .dataframe tbody tr th:only-of-type {\n",
       "        vertical-align: middle;\n",
       "    }\n",
       "\n",
       "    .dataframe tbody tr th {\n",
       "        vertical-align: top;\n",
       "    }\n",
       "\n",
       "    .dataframe thead th {\n",
       "        text-align: right;\n",
       "    }\n",
       "</style>\n",
       "<table border=\"1\" class=\"dataframe\">\n",
       "  <thead>\n",
       "    <tr style=\"text-align: right;\">\n",
       "      <th></th>\n",
       "      <th>people_id</th>\n",
       "      <th>ppl_date</th>\n",
       "      <th>ppl_group</th>\n",
       "      <th>ppl_char_1</th>\n",
       "      <th>ppl_char_2</th>\n",
       "      <th>ppl_char_3</th>\n",
       "      <th>ppl_char_4</th>\n",
       "      <th>ppl_char_5</th>\n",
       "      <th>ppl_char_6</th>\n",
       "      <th>ppl_char_7</th>\n",
       "      <th>...</th>\n",
       "      <th>act_char_2</th>\n",
       "      <th>act_char_3</th>\n",
       "      <th>act_char_4</th>\n",
       "      <th>act_char_5</th>\n",
       "      <th>act_char_6</th>\n",
       "      <th>act_char_7</th>\n",
       "      <th>act_char_8</th>\n",
       "      <th>act_char_9</th>\n",
       "      <th>act_char_10</th>\n",
       "      <th>outcome</th>\n",
       "    </tr>\n",
       "  </thead>\n",
       "  <tbody>\n",
       "    <tr>\n",
       "      <th>0</th>\n",
       "      <td>ppl_100</td>\n",
       "      <td>2021-06-29</td>\n",
       "      <td>group 17304</td>\n",
       "      <td>type 2</td>\n",
       "      <td>type 2</td>\n",
       "      <td>type 5</td>\n",
       "      <td>type 5</td>\n",
       "      <td>type 5</td>\n",
       "      <td>type 3</td>\n",
       "      <td>type 11</td>\n",
       "      <td>...</td>\n",
       "      <td>type -1</td>\n",
       "      <td>type -1</td>\n",
       "      <td>type -1</td>\n",
       "      <td>type -1</td>\n",
       "      <td>type -1</td>\n",
       "      <td>type -1</td>\n",
       "      <td>type -1</td>\n",
       "      <td>type -1</td>\n",
       "      <td>type 76</td>\n",
       "      <td>0</td>\n",
       "    </tr>\n",
       "    <tr>\n",
       "      <th>1</th>\n",
       "      <td>ppl_100</td>\n",
       "      <td>2021-06-29</td>\n",
       "      <td>group 17304</td>\n",
       "      <td>type 2</td>\n",
       "      <td>type 2</td>\n",
       "      <td>type 5</td>\n",
       "      <td>type 5</td>\n",
       "      <td>type 5</td>\n",
       "      <td>type 3</td>\n",
       "      <td>type 11</td>\n",
       "      <td>...</td>\n",
       "      <td>type -1</td>\n",
       "      <td>type -1</td>\n",
       "      <td>type -1</td>\n",
       "      <td>type -1</td>\n",
       "      <td>type -1</td>\n",
       "      <td>type -1</td>\n",
       "      <td>type -1</td>\n",
       "      <td>type -1</td>\n",
       "      <td>type 1</td>\n",
       "      <td>0</td>\n",
       "    </tr>\n",
       "    <tr>\n",
       "      <th>2</th>\n",
       "      <td>ppl_100</td>\n",
       "      <td>2021-06-29</td>\n",
       "      <td>group 17304</td>\n",
       "      <td>type 2</td>\n",
       "      <td>type 2</td>\n",
       "      <td>type 5</td>\n",
       "      <td>type 5</td>\n",
       "      <td>type 5</td>\n",
       "      <td>type 3</td>\n",
       "      <td>type 11</td>\n",
       "      <td>...</td>\n",
       "      <td>type -1</td>\n",
       "      <td>type -1</td>\n",
       "      <td>type -1</td>\n",
       "      <td>type -1</td>\n",
       "      <td>type -1</td>\n",
       "      <td>type -1</td>\n",
       "      <td>type -1</td>\n",
       "      <td>type -1</td>\n",
       "      <td>type 1</td>\n",
       "      <td>0</td>\n",
       "    </tr>\n",
       "    <tr>\n",
       "      <th>3</th>\n",
       "      <td>ppl_100</td>\n",
       "      <td>2021-06-29</td>\n",
       "      <td>group 17304</td>\n",
       "      <td>type 2</td>\n",
       "      <td>type 2</td>\n",
       "      <td>type 5</td>\n",
       "      <td>type 5</td>\n",
       "      <td>type 5</td>\n",
       "      <td>type 3</td>\n",
       "      <td>type 11</td>\n",
       "      <td>...</td>\n",
       "      <td>type -1</td>\n",
       "      <td>type -1</td>\n",
       "      <td>type -1</td>\n",
       "      <td>type -1</td>\n",
       "      <td>type -1</td>\n",
       "      <td>type -1</td>\n",
       "      <td>type -1</td>\n",
       "      <td>type -1</td>\n",
       "      <td>type 1</td>\n",
       "      <td>0</td>\n",
       "    </tr>\n",
       "    <tr>\n",
       "      <th>4</th>\n",
       "      <td>ppl_100</td>\n",
       "      <td>2021-06-29</td>\n",
       "      <td>group 17304</td>\n",
       "      <td>type 2</td>\n",
       "      <td>type 2</td>\n",
       "      <td>type 5</td>\n",
       "      <td>type 5</td>\n",
       "      <td>type 5</td>\n",
       "      <td>type 3</td>\n",
       "      <td>type 11</td>\n",
       "      <td>...</td>\n",
       "      <td>type -1</td>\n",
       "      <td>type -1</td>\n",
       "      <td>type -1</td>\n",
       "      <td>type -1</td>\n",
       "      <td>type -1</td>\n",
       "      <td>type -1</td>\n",
       "      <td>type -1</td>\n",
       "      <td>type -1</td>\n",
       "      <td>type 1</td>\n",
       "      <td>0</td>\n",
       "    </tr>\n",
       "  </tbody>\n",
       "</table>\n",
       "<p>5 rows × 55 columns</p>\n",
       "</div>"
      ],
      "text/plain": [
       "  people_id   ppl_date    ppl_group ppl_char_1 ppl_char_2 ppl_char_3  \\\n",
       "0   ppl_100 2021-06-29  group 17304     type 2     type 2     type 5   \n",
       "1   ppl_100 2021-06-29  group 17304     type 2     type 2     type 5   \n",
       "2   ppl_100 2021-06-29  group 17304     type 2     type 2     type 5   \n",
       "3   ppl_100 2021-06-29  group 17304     type 2     type 2     type 5   \n",
       "4   ppl_100 2021-06-29  group 17304     type 2     type 2     type 5   \n",
       "\n",
       "  ppl_char_4 ppl_char_5 ppl_char_6 ppl_char_7  ... act_char_2 act_char_3  \\\n",
       "0     type 5     type 5     type 3    type 11  ...    type -1    type -1   \n",
       "1     type 5     type 5     type 3    type 11  ...    type -1    type -1   \n",
       "2     type 5     type 5     type 3    type 11  ...    type -1    type -1   \n",
       "3     type 5     type 5     type 3    type 11  ...    type -1    type -1   \n",
       "4     type 5     type 5     type 3    type 11  ...    type -1    type -1   \n",
       "\n",
       "   act_char_4  act_char_5  act_char_6  act_char_7  act_char_8  act_char_9  \\\n",
       "0     type -1     type -1     type -1     type -1     type -1     type -1   \n",
       "1     type -1     type -1     type -1     type -1     type -1     type -1   \n",
       "2     type -1     type -1     type -1     type -1     type -1     type -1   \n",
       "3     type -1     type -1     type -1     type -1     type -1     type -1   \n",
       "4     type -1     type -1     type -1     type -1     type -1     type -1   \n",
       "\n",
       "   act_char_10  outcome  \n",
       "0      type 76        0  \n",
       "1       type 1        0  \n",
       "2       type 1        0  \n",
       "3       type 1        0  \n",
       "4       type 1        0  \n",
       "\n",
       "[5 rows x 55 columns]"
      ]
     },
     "execution_count": 120,
     "metadata": {},
     "output_type": "execute_result"
    }
   ],
   "source": [
    "# Merging people data and activity train data over people_id:\n",
    "train_data = pd.merge(people_df, train_df, how ='inner', on = 'people_id')\n",
    "train_data.head()"
   ]
  },
  {
   "cell_type": "code",
   "execution_count": 121,
   "metadata": {},
   "outputs": [
    {
     "name": "stdout",
     "output_type": "stream",
     "text": [
      "Shape after combining Train data with People data (2197291, 55)\n"
     ]
    }
   ],
   "source": [
    "print(\"Shape after combining Train data with People data\", train_data.shape)"
   ]
  },
  {
   "cell_type": "code",
   "execution_count": 122,
   "metadata": {
    "collapsed": false,
    "pycharm": {
     "name": "#%%\n"
    }
   },
   "outputs": [
    {
     "data": {
      "image/png": "[encoded data removed]",
      "text/plain": [
       "<Figure size 432x432 with 1 Axes>"
      ]
     },
     "metadata": {},
     "output_type": "display_data"
    }
   ],
   "source": [
    "# Outcome bifurcation in train data set\n",
    "import matplotlib.pyplot as plt\n",
    "out1= train_data[train_data['outcome']==1].shape[0]\n",
    "out0= train_data[train_data['outcome']==0].shape[0]\n",
    "\n",
    "fig,axis = plt.subplots(figsize =(6,6))\n",
    "axis.tick_params(axis=\"x\", labelsize=16)\n",
    "axis.tick_params(axis=\"y\", labelsize=32)\n",
    "\n",
    "axis.pie([out1,out0], labels=['1','0'],explode=(0, 0.01),shadow=True,colors=['cyan','orange'], autopct='%2.2f%%')\n",
    "plt.title(\"Total of Outcomes\",fontsize=15)\n",
    "plt.show()"
   ]
  },
  {
   "cell_type": "code",
   "execution_count": 123,
   "metadata": {
    "collapsed": false,
    "pycharm": {
     "name": "#%%\n"
    }
   },
   "outputs": [
    {
     "data": {
      "image/png": "[encoded data removed]",
      "text/plain": [
       "<Figure size 1728x1008 with 1 Axes>"
      ]
     },
     "metadata": {
      "needs_background": "light"
     },
     "output_type": "display_data"
    }
   ],
   "source": [
    "graph_values1 = train_data.loc[train_data['outcome']==1].groupby('people_id')['activity_id'].count().sort_values(ascending=False)[:21]\n",
    "graph_values1 = graph_values1.sort_values()\n",
    "\n",
    "fig1,axis1 = plt.subplots(figsize =(24,14))\n",
    "axis1.tick_params(axis=\"x\", labelsize=19)\n",
    "axis1.tick_params(axis=\"y\", labelsize=17)\n",
    "\n",
    "axis1.barh(list(graph_values1.index), list(graph_values1.values),height = 0.8, color = ['cyan','orange'])\n",
    "axis1.set_facecolor('#E0E0E0')\n",
    "axis1.patch.set_alpha(0.8)\n",
    "plt.title(\"People belonging to Outcome_1 category\",fontsize=20,fontweight=\"bold\")\n",
    "plt.ylabel('People ID',fontsize = 25,fontweight=\"bold\",fontname=\"Times New Roman\")\n",
    "plt.xlabel('Total',fontsize = 25,fontweight=\"bold\",fontname=\"Times New Roman\")\n",
    "plt.show()"
   ]
  },
  {
   "cell_type": "code",
   "execution_count": 124,
   "metadata": {
    "collapsed": false,
    "pycharm": {
     "name": "#%%\n"
    }
   },
   "outputs": [
    {
     "data": {
      "image/png": "[encoded data removed]",
      "text/plain": [
       "<Figure size 1728x1008 with 1 Axes>"
      ]
     },
     "metadata": {
      "needs_background": "light"
     },
     "output_type": "display_data"
    }
   ],
   "source": [
    "graph_values2 = train_data.loc[train_data['outcome']==0].groupby('people_id')['activity_id'].count().sort_values(ascending=False)[:21]\n",
    "graph_values2 = graph_values2.sort_values()\n",
    "\n",
    "fig2,axis2 = plt.subplots(figsize =(24,14))\n",
    "axis2.tick_params(axis=\"x\", labelsize=19)\n",
    "axis2.tick_params(axis=\"y\", labelsize=17)\n",
    "\n",
    "axis2.barh(list(graph_values2.index), list(graph_values2.values),height = 0.8, color = ['cyan','orange'])\n",
    "axis2.set_facecolor('#E0E0E0')\n",
    "axis2.patch.set_alpha(0.8)\n",
    "plt.title(\"People belonging to Outcome_0 category\",fontsize=20,fontweight=\"bold\")\n",
    "plt.ylabel('People ID',fontsize = 25,fontweight=\"bold\",fontname=\"Times New Roman\")\n",
    "plt.xlabel('Total',fontsize = 25,fontweight=\"bold\",fontname=\"Times New Roman\")\n",
    "plt.show()"
   ]
  },
  {
   "cell_type": "code",
   "execution_count": 125,
   "metadata": {
    "collapsed": false,
    "pycharm": {
     "name": "#%%\n"
    }
   },
   "outputs": [
    {
     "data": {
      "image/png": "[encoded data removed]",
      "text/plain": [
       "<Figure size 1728x1008 with 1 Axes>"
      ]
     },
     "metadata": {
      "needs_background": "light"
     },
     "output_type": "display_data"
    }
   ],
   "source": [
    "graph_values3 = train_data.loc[train_data['outcome']==0].groupby('activity_category')['activity_id'].count().sort_values(ascending=False)[:21]\n",
    "graph_values3 = graph_values3.sort_values()\n",
    "\n",
    "fig3,axis3 = plt.subplots(figsize =(24,14))\n",
    "axis3.tick_params(axis=\"x\", labelsize=19)\n",
    "axis3.tick_params(axis=\"y\", labelsize=17)\n",
    "\n",
    "axis3.barh(list(graph_values3.index), list(graph_values3.values), height = 0.8, color = ['cyan','orange'])\n",
    "axis3.set_facecolor('#E0E0E0')\n",
    "axis3.patch.set_alpha(0.8)\n",
    "plt.title(\"Activity belonging to Outcome_0 category\",fontsize=20,fontweight=\"bold\")\n",
    "plt.ylabel('Activity Type',fontsize = 25,fontweight=\"bold\",fontname=\"Times New Roman\")\n",
    "plt.xlabel('Total',fontsize = 25,fontweight=\"bold\",fontname=\"Times New Roman\")\n",
    "plt.show()"
   ]
  },
  {
   "cell_type": "code",
   "execution_count": 126,
   "metadata": {
    "collapsed": false,
    "pycharm": {
     "name": "#%%\n"
    }
   },
   "outputs": [
    {
     "data": {
      "image/png": "[encoded data removed]",
      "text/plain": [
       "<Figure size 1728x1008 with 1 Axes>"
      ]
     },
     "metadata": {
      "needs_background": "light"
     },
     "output_type": "display_data"
    }
   ],
   "source": [
    "graph_values4 = train_data.loc[train_data['outcome']==1].groupby('activity_category')['activity_id'].count().sort_values(ascending=False)[:21]\n",
    "graph_values4 = graph_values4.sort_values()\n",
    "\n",
    "fig4,axis4 = plt.subplots(figsize =(24,14))\n",
    "axis4.tick_params(axis=\"x\", labelsize=19)\n",
    "axis4.tick_params(axis=\"y\", labelsize=17)\n",
    "\n",
    "axis4.barh(list(graph_values4.index), list(graph_values4.values),height = 0.8, color = ['cyan','orange'])\n",
    "axis4.set_facecolor('#E0E0E0')\n",
    "axis4.patch.set_alpha(0.8)\n",
    "plt.title(\"Activity belonging to Outcome_1 category\",fontsize=20,fontweight=\"bold\")\n",
    "plt.ylabel('Activity Type',fontsize = 25,fontweight=\"bold\",fontname=\"Times New Roman\")\n",
    "plt.xlabel('Total',fontsize = 25,fontweight=\"bold\",fontname=\"Times New Roman\")\n",
    "plt.show()"
   ]
  },
  {
   "cell_type": "code",
   "execution_count": 127,
   "metadata": {
    "collapsed": false,
    "pycharm": {
     "name": "#%%\n"
    }
   },
   "outputs": [],
   "source": [
    "train_data['weekday'] = train_data[['act_date']].apply(lambda x: dt.datetime.strftime(x['act_date'], '%A'), axis=1)\n",
    "train_data['monthday'] = train_data.act_date.dt.day\n",
    "train_data[\"month\"] = train_data.act_date.dt.month"
   ]
  },
  {
   "cell_type": "code",
   "execution_count": 128,
   "metadata": {
    "pycharm": {
     "name": "#%%\n"
    }
   },
   "outputs": [
    {
     "data": {
      "image/png": "[encoded data removed]",
      "text/plain": [
       "<Figure size 1728x1008 with 1 Axes>"
      ]
     },
     "metadata": {
      "needs_background": "light"
     },
     "output_type": "display_data"
    }
   ],
   "source": [
    "fig5, axis5 = plt.subplots(figsize=(24,14))\n",
    "user_activity_per_day = train_data['weekday'].value_counts(normalize=True)\n",
    "\n",
    "user_activity_per_day.plot(kind='bar', ax=axis5, color = ['cyan','orange'])\n",
    "\n",
    "axis5.set_ylabel('No. of activities');\n",
    "axis5.set_xlabel('Weekdays');"
   ]
  },
  {
   "cell_type": "code",
   "execution_count": 129,
   "metadata": {
    "pycharm": {
     "name": "#%%\n"
    }
   },
   "outputs": [
    {
     "data": {
      "text/plain": [
       "Text(0.5, 0, 'day of month')"
      ]
     },
     "execution_count": 129,
     "metadata": {},
     "output_type": "execute_result"
    },
    {
     "data": {
      "image/png": "[encoded data removed]",
      "text/plain": [
       "<Figure size 1728x1008 with 1 Axes>"
      ]
     },
     "metadata": {
      "needs_background": "light"
     },
     "output_type": "display_data"
    }
   ],
   "source": [
    "fig6, axis6 = plt.subplots(figsize=(24,14))\n",
    "\n",
    "train_data['monthday'].value_counts(normalize=True).sort_index().plot(kind='bar', ax=axis6, color = ['cyan','orange'])\n",
    "\n",
    "axis6.set_ylabel('fraction of activities')\n",
    "axis6.set_xlabel('day of month')"
   ]
  },
  {
   "cell_type": "code",
   "execution_count": 130,
   "metadata": {
    "pycharm": {
     "name": "#%%\n"
    }
   },
   "outputs": [
    {
     "data": {
      "text/plain": [
       "Text(0, 0.5, 'Fraction of activites')"
      ]
     },
     "execution_count": 130,
     "metadata": {},
     "output_type": "execute_result"
    },
    {
     "data": {
      "image/png": "[encoded data removed]",
      "text/plain": [
       "<Figure size 1728x1008 with 1 Axes>"
      ]
     },
     "metadata": {
      "needs_background": "light"
     },
     "output_type": "display_data"
    }
   ],
   "source": [
    "month_list = [\"Jan\", \"Feb\", \"Mar\", \"Apr\", \"May\", \"Jun\", \"Jul\", \"Aug\", \"Sept\", \"Oct\", \"Nov\", \"Dec\"]\n",
    "\n",
    "map_month_year={}\n",
    "for i,m in enumerate(month_list):\n",
    "    map_month_year[i+1]=m\n",
    "\n",
    "fraction_act_month = train_data['month'].value_counts(normalize=True).sort_index()\n",
    "\n",
    "fraction_act_month.index =fraction_act_month.index.map(map_month_year)\n",
    "\n",
    "fig7, axis7 = plt.subplots(figsize=(24,14))\n",
    "\n",
    "fraction_act_month.plot(kind='bar', ax= axis7, color = ['cyan','orange'])\n",
    "\n",
    "axis7.set_xlabel('Months')\n",
    "axis7.set_ylabel('Fraction of activites')\n"
   ]
  },
  {
   "cell_type": "code",
   "execution_count": 131,
   "metadata": {
    "pycharm": {
     "name": "#%%\n"
    }
   },
   "outputs": [
    {
     "data": {
      "text/plain": [
       "32.0"
      ]
     },
     "execution_count": 131,
     "metadata": {},
     "output_type": "execute_result"
    }
   ],
   "source": [
    "quartile_75=train_data.groupby('people_id').count()['activity_id'].quantile(0.75)\n",
    "quartile_25=train_data.groupby('people_id').count()['activity_id'].quantile(0.25)\n",
    "\n",
    "outlier = quartile_75 + 1.5*(quartile_75-quartile_25)\n",
    "outlier"
   ]
  },
  {
   "cell_type": "code",
   "execution_count": 132,
   "metadata": {
    "pycharm": {
     "name": "#%%\n"
    }
   },
   "outputs": [],
   "source": [
    "import seaborn as sns"
   ]
  },
  {
   "cell_type": "code",
   "execution_count": 133,
   "metadata": {
    "pycharm": {
     "name": "#%%\n"
    }
   },
   "outputs": [
    {
     "name": "stderr",
     "output_type": "stream",
     "text": [
      "/opt/homebrew/anaconda3/lib/python3.8/site-packages/seaborn/distributions.py:2557: FutureWarning: `distplot` is a deprecated function and will be removed in a future version. Please adapt your code to use either `displot` (a figure-level function with similar flexibility) or `histplot` (an axes-level function for histograms).\n",
      "  warnings.warn(msg, FutureWarning)\n"
     ]
    },
    {
     "data": {
      "image/png": "[encoded data removed]",
      "text/plain": [
       "<Figure size 1152x288 with 1 Axes>"
      ]
     },
     "metadata": {
      "needs_background": "light"
     },
     "output_type": "display_data"
    }
   ],
   "source": [
    "fig8, axis8 = plt.subplots(figsize=(16,4))\n",
    "\n",
    "sns.distplot(train_data.groupby('people_id').count()['activity_id'][train_data.groupby('people_id').count()['activity_id']<outlier], ax=axis8, bins=range(0,35))\n",
    "axis8.set_xlabel('number of activities per user')\n",
    "axis8.set_xlim(1,35)\n",
    "axis8.set_xticks(range(1,35, 2));"
   ]
  },
  {
   "attachments": {},
   "cell_type": "markdown",
   "metadata": {},
   "source": [
    "# Feature Engineering"
   ]
  },
  {
   "cell_type": "code",
   "execution_count": 134,
   "metadata": {},
   "outputs": [],
   "source": [
    "# test_df = pd.read_csv('./Data/act_test.csv')\n",
    "# people_df = pd.read_csv('./Data/people.csv')\n",
    "# train_df = pd.read_csv('./Data/act_train.csv')"
   ]
  },
  {
   "cell_type": "code",
   "execution_count": 135,
   "metadata": {},
   "outputs": [],
   "source": [
    "# Merging people data and activity train data over people_id:\n",
    "# train_data = pd.merge(people_df, train_data, how ='inner', on = 'people_id')\n",
    "# train_data.head()"
   ]
  },
  {
   "cell_type": "code",
   "execution_count": 136,
   "metadata": {},
   "outputs": [
    {
     "data": {
      "text/html": [
       "<div>\n",
       "<style scoped>\n",
       "    .dataframe tbody tr th:only-of-type {\n",
       "        vertical-align: middle;\n",
       "    }\n",
       "\n",
       "    .dataframe tbody tr th {\n",
       "        vertical-align: top;\n",
       "    }\n",
       "\n",
       "    .dataframe thead th {\n",
       "        text-align: right;\n",
       "    }\n",
       "</style>\n",
       "<table border=\"1\" class=\"dataframe\">\n",
       "  <thead>\n",
       "    <tr style=\"text-align: right;\">\n",
       "      <th></th>\n",
       "      <th>people_id</th>\n",
       "      <th>ppl_date</th>\n",
       "      <th>ppl_group</th>\n",
       "      <th>ppl_char_1</th>\n",
       "      <th>ppl_char_2</th>\n",
       "      <th>ppl_char_3</th>\n",
       "      <th>ppl_char_4</th>\n",
       "      <th>ppl_char_5</th>\n",
       "      <th>ppl_char_6</th>\n",
       "      <th>ppl_char_7</th>\n",
       "      <th>...</th>\n",
       "      <th>act_char_1</th>\n",
       "      <th>act_char_2</th>\n",
       "      <th>act_char_3</th>\n",
       "      <th>act_char_4</th>\n",
       "      <th>act_char_5</th>\n",
       "      <th>act_char_6</th>\n",
       "      <th>act_char_7</th>\n",
       "      <th>act_char_8</th>\n",
       "      <th>act_char_9</th>\n",
       "      <th>act_char_10</th>\n",
       "    </tr>\n",
       "  </thead>\n",
       "  <tbody>\n",
       "    <tr>\n",
       "      <th>0</th>\n",
       "      <td>ppl_100004</td>\n",
       "      <td>2022-07-20</td>\n",
       "      <td>group 22593</td>\n",
       "      <td>type 2</td>\n",
       "      <td>type 3</td>\n",
       "      <td>type 40</td>\n",
       "      <td>type 25</td>\n",
       "      <td>type 9</td>\n",
       "      <td>type 4</td>\n",
       "      <td>type 16</td>\n",
       "      <td>...</td>\n",
       "      <td>type 5</td>\n",
       "      <td>type 10</td>\n",
       "      <td>type 5</td>\n",
       "      <td>type 1</td>\n",
       "      <td>type 6</td>\n",
       "      <td>type 1</td>\n",
       "      <td>type 1</td>\n",
       "      <td>type 7</td>\n",
       "      <td>type 4</td>\n",
       "      <td>type -1</td>\n",
       "    </tr>\n",
       "    <tr>\n",
       "      <th>1</th>\n",
       "      <td>ppl_100004</td>\n",
       "      <td>2022-07-20</td>\n",
       "      <td>group 22593</td>\n",
       "      <td>type 2</td>\n",
       "      <td>type 3</td>\n",
       "      <td>type 40</td>\n",
       "      <td>type 25</td>\n",
       "      <td>type 9</td>\n",
       "      <td>type 4</td>\n",
       "      <td>type 16</td>\n",
       "      <td>...</td>\n",
       "      <td>type -1</td>\n",
       "      <td>type -1</td>\n",
       "      <td>type -1</td>\n",
       "      <td>type -1</td>\n",
       "      <td>type -1</td>\n",
       "      <td>type -1</td>\n",
       "      <td>type -1</td>\n",
       "      <td>type -1</td>\n",
       "      <td>type -1</td>\n",
       "      <td>type 682</td>\n",
       "    </tr>\n",
       "    <tr>\n",
       "      <th>2</th>\n",
       "      <td>ppl_10001</td>\n",
       "      <td>2022-10-14</td>\n",
       "      <td>group 25417</td>\n",
       "      <td>type 2</td>\n",
       "      <td>type 3</td>\n",
       "      <td>type 6</td>\n",
       "      <td>type 6</td>\n",
       "      <td>type 4</td>\n",
       "      <td>type 1</td>\n",
       "      <td>type 1</td>\n",
       "      <td>...</td>\n",
       "      <td>type 12</td>\n",
       "      <td>type 1</td>\n",
       "      <td>type 5</td>\n",
       "      <td>type 4</td>\n",
       "      <td>type 6</td>\n",
       "      <td>type 1</td>\n",
       "      <td>type 1</td>\n",
       "      <td>type 13</td>\n",
       "      <td>type 10</td>\n",
       "      <td>type -1</td>\n",
       "    </tr>\n",
       "    <tr>\n",
       "      <th>3</th>\n",
       "      <td>ppl_10001</td>\n",
       "      <td>2022-10-14</td>\n",
       "      <td>group 25417</td>\n",
       "      <td>type 2</td>\n",
       "      <td>type 3</td>\n",
       "      <td>type 6</td>\n",
       "      <td>type 6</td>\n",
       "      <td>type 4</td>\n",
       "      <td>type 1</td>\n",
       "      <td>type 1</td>\n",
       "      <td>...</td>\n",
       "      <td>type 20</td>\n",
       "      <td>type 10</td>\n",
       "      <td>type 5</td>\n",
       "      <td>type 4</td>\n",
       "      <td>type 6</td>\n",
       "      <td>type 1</td>\n",
       "      <td>type 1</td>\n",
       "      <td>type 5</td>\n",
       "      <td>type 5</td>\n",
       "      <td>type -1</td>\n",
       "    </tr>\n",
       "    <tr>\n",
       "      <th>4</th>\n",
       "      <td>ppl_10001</td>\n",
       "      <td>2022-10-14</td>\n",
       "      <td>group 25417</td>\n",
       "      <td>type 2</td>\n",
       "      <td>type 3</td>\n",
       "      <td>type 6</td>\n",
       "      <td>type 6</td>\n",
       "      <td>type 4</td>\n",
       "      <td>type 1</td>\n",
       "      <td>type 1</td>\n",
       "      <td>...</td>\n",
       "      <td>type -1</td>\n",
       "      <td>type -1</td>\n",
       "      <td>type -1</td>\n",
       "      <td>type -1</td>\n",
       "      <td>type -1</td>\n",
       "      <td>type -1</td>\n",
       "      <td>type -1</td>\n",
       "      <td>type -1</td>\n",
       "      <td>type -1</td>\n",
       "      <td>type 3015</td>\n",
       "    </tr>\n",
       "  </tbody>\n",
       "</table>\n",
       "<p>5 rows × 54 columns</p>\n",
       "</div>"
      ],
      "text/plain": [
       "    people_id   ppl_date    ppl_group ppl_char_1 ppl_char_2 ppl_char_3  \\\n",
       "0  ppl_100004 2022-07-20  group 22593     type 2     type 3    type 40   \n",
       "1  ppl_100004 2022-07-20  group 22593     type 2     type 3    type 40   \n",
       "2   ppl_10001 2022-10-14  group 25417     type 2     type 3     type 6   \n",
       "3   ppl_10001 2022-10-14  group 25417     type 2     type 3     type 6   \n",
       "4   ppl_10001 2022-10-14  group 25417     type 2     type 3     type 6   \n",
       "\n",
       "  ppl_char_4 ppl_char_5 ppl_char_6 ppl_char_7  ... act_char_1 act_char_2  \\\n",
       "0    type 25     type 9     type 4    type 16  ...     type 5    type 10   \n",
       "1    type 25     type 9     type 4    type 16  ...    type -1    type -1   \n",
       "2     type 6     type 4     type 1     type 1  ...    type 12     type 1   \n",
       "3     type 6     type 4     type 1     type 1  ...    type 20    type 10   \n",
       "4     type 6     type 4     type 1     type 1  ...    type -1    type -1   \n",
       "\n",
       "   act_char_3  act_char_4  act_char_5  act_char_6  act_char_7  act_char_8  \\\n",
       "0      type 5      type 1      type 6      type 1      type 1      type 7   \n",
       "1     type -1     type -1     type -1     type -1     type -1     type -1   \n",
       "2      type 5      type 4      type 6      type 1      type 1     type 13   \n",
       "3      type 5      type 4      type 6      type 1      type 1      type 5   \n",
       "4     type -1     type -1     type -1     type -1     type -1     type -1   \n",
       "\n",
       "   act_char_9  act_char_10  \n",
       "0      type 4      type -1  \n",
       "1     type -1     type 682  \n",
       "2     type 10      type -1  \n",
       "3      type 5      type -1  \n",
       "4     type -1    type 3015  \n",
       "\n",
       "[5 rows x 54 columns]"
      ]
     },
     "execution_count": 136,
     "metadata": {},
     "output_type": "execute_result"
    }
   ],
   "source": [
    "# Merging people data and activity train data over people_id:\n",
    "test_data = pd.merge(people_df, test_df, how ='inner', on = 'people_id')\n",
    "test_data.head()"
   ]
  },
  {
   "cell_type": "code",
   "execution_count": 137,
   "metadata": {},
   "outputs": [],
   "source": [
    "train_data['is_train']=1\n",
    "test_data['is_train']=0\n",
    "test_data['outcome']=np.NaN"
   ]
  },
  {
   "cell_type": "code",
   "execution_count": 138,
   "metadata": {},
   "outputs": [],
   "source": [
    "full_data_train_plus_test=train_data.append(test_data,ignore_index=True,sort=True)"
   ]
  },
  {
   "cell_type": "code",
   "execution_count": 139,
   "metadata": {},
   "outputs": [
    {
     "data": {
      "text/plain": [
       "act_char_1                   object\n",
       "act_char_10                  object\n",
       "act_char_2                   object\n",
       "act_char_3                   object\n",
       "act_char_4                   object\n",
       "act_char_5                   object\n",
       "act_char_6                   object\n",
       "act_char_7                   object\n",
       "act_char_8                   object\n",
       "act_char_9                   object\n",
       "act_date             datetime64[ns]\n",
       "activity_category            object\n",
       "activity_id                  object\n",
       "is_train                      int64\n",
       "month                       float64\n",
       "monthday                    float64\n",
       "outcome                     float64\n",
       "people_id                    object\n",
       "ppl_char_1                   object\n",
       "ppl_char_10                    bool\n",
       "ppl_char_11                    bool\n",
       "ppl_char_12                    bool\n",
       "ppl_char_13                    bool\n",
       "ppl_char_14                    bool\n",
       "ppl_char_15                    bool\n",
       "ppl_char_16                    bool\n",
       "ppl_char_17                    bool\n",
       "ppl_char_18                    bool\n",
       "ppl_char_19                    bool\n",
       "ppl_char_2                   object\n",
       "ppl_char_20                    bool\n",
       "ppl_char_21                    bool\n",
       "ppl_char_22                    bool\n",
       "ppl_char_23                    bool\n",
       "ppl_char_24                    bool\n",
       "ppl_char_25                    bool\n",
       "ppl_char_26                    bool\n",
       "ppl_char_27                    bool\n",
       "ppl_char_28                    bool\n",
       "ppl_char_29                    bool\n",
       "ppl_char_3                   object\n",
       "ppl_char_30                    bool\n",
       "ppl_char_31                    bool\n",
       "ppl_char_32                    bool\n",
       "ppl_char_33                    bool\n",
       "ppl_char_34                    bool\n",
       "ppl_char_35                    bool\n",
       "ppl_char_36                    bool\n",
       "ppl_char_37                    bool\n",
       "ppl_char_38                   int64\n",
       "ppl_char_4                   object\n",
       "ppl_char_5                   object\n",
       "ppl_char_6                   object\n",
       "ppl_char_7                   object\n",
       "ppl_char_8                   object\n",
       "ppl_char_9                   object\n",
       "ppl_date             datetime64[ns]\n",
       "ppl_group                    object\n",
       "weekday                      object\n",
       "dtype: object"
      ]
     },
     "execution_count": 139,
     "metadata": {},
     "output_type": "execute_result"
    }
   ],
   "source": [
    "full_data_train_plus_test.dtypes"
   ]
  },
  {
   "attachments": {},
   "cell_type": "markdown",
   "metadata": {},
   "source": [
    "### group_ppl_cnt:Number of people per each group"
   ]
  },
  {
   "cell_type": "code",
   "execution_count": 140,
   "metadata": {},
   "outputs": [],
   "source": [
    "ppl_group=full_data_train_plus_test['ppl_group'].values\n",
    "dict_lis=dict(full_data_train_plus_test.groupby(\"ppl_group\").people_id.nunique())\n",
    "full_data_train_plus_test['group_ppl_cnt']=[dict_lis[i] for i in ppl_group ]"
   ]
  },
  {
   "attachments": {},
   "cell_type": "markdown",
   "metadata": {},
   "source": [
    "### days_from_min_dt_grp:Days passed from Min ppl date per group"
   ]
  },
  {
   "cell_type": "code",
   "execution_count": 141,
   "metadata": {},
   "outputs": [],
   "source": [
    "dic_lis=dict(full_data_train_plus_test.groupby(\"ppl_group\").ppl_date.min())\n",
    "group_min_dt=[dic_lis[i] for i in ppl_group ]"
   ]
  },
  {
   "cell_type": "code",
   "execution_count": 142,
   "metadata": {},
   "outputs": [],
   "source": [
    "group_1_ppl_dt=full_data_train_plus_test['ppl_date'].astype(int)"
   ]
  },
  {
   "cell_type": "code",
   "execution_count": 143,
   "metadata": {},
   "outputs": [
    {
     "data": {
      "text/plain": [
       "0          1624924800000000000\n",
       "1          1624924800000000000\n",
       "2          1624924800000000000\n",
       "3          1624924800000000000\n",
       "4          1624924800000000000\n",
       "                  ...         \n",
       "2695973    1647043200000000000\n",
       "2695974    1647043200000000000\n",
       "2695975    1647043200000000000\n",
       "2695976    1647043200000000000\n",
       "2695977    1647043200000000000\n",
       "Name: ppl_date, Length: 2695978, dtype: int64"
      ]
     },
     "execution_count": 143,
     "metadata": {},
     "output_type": "execute_result"
    }
   ],
   "source": [
    "group_1_ppl_dt"
   ]
  },
  {
   "cell_type": "code",
   "execution_count": 144,
   "metadata": {},
   "outputs": [],
   "source": [
    "group_1_ppl_dt = pd.to_datetime(group_1_ppl_dt)"
   ]
  },
  {
   "cell_type": "code",
   "execution_count": 145,
   "metadata": {},
   "outputs": [],
   "source": [
    "tser=pd.Series(group_min_dt)"
   ]
  },
  {
   "cell_type": "code",
   "execution_count": 146,
   "metadata": {},
   "outputs": [
    {
     "data": {
      "text/plain": [
       "0         2020-05-18\n",
       "1         2020-05-18\n",
       "2         2020-05-18\n",
       "3         2020-05-18\n",
       "4         2020-05-18\n",
       "             ...    \n",
       "2695973   2020-05-18\n",
       "2695974   2020-05-18\n",
       "2695975   2020-05-18\n",
       "2695976   2020-05-18\n",
       "2695977   2020-05-18\n",
       "Length: 2695978, dtype: datetime64[ns]"
      ]
     },
     "execution_count": 146,
     "metadata": {},
     "output_type": "execute_result"
    }
   ],
   "source": [
    "tser"
   ]
  },
  {
   "cell_type": "code",
   "execution_count": 147,
   "metadata": {},
   "outputs": [],
   "source": [
    "full_data_train_plus_test['days_from_min_dt_grp']=(group_1_ppl_dt-tser).abs().dt.days"
   ]
  },
  {
   "attachments": {},
   "cell_type": "markdown",
   "metadata": {},
   "source": [
    "### days_from_min_dt_grp:Days passed from Max ppl date per group"
   ]
  },
  {
   "cell_type": "code",
   "execution_count": 148,
   "metadata": {},
   "outputs": [],
   "source": [
    "dic_lis=dict(full_data_train_plus_test.groupby(\"ppl_group\").ppl_date.max())\n",
    "group_max_dt=[dic_lis[i] for i in ppl_group ]\n",
    "tsermx=pd.Series(group_max_dt)\n",
    "full_data_train_plus_test['days_from_max_dt_grp']=(tsermx-group_1_ppl_dt).abs().dt.days"
   ]
  },
  {
   "attachments": {},
   "cell_type": "markdown",
   "metadata": {},
   "source": [
    "### Mean,median of Char_38"
   ]
  },
  {
   "cell_type": "code",
   "execution_count": 149,
   "metadata": {},
   "outputs": [],
   "source": [
    "full_data_train_plus_test['people_38_mean']=full_data_train_plus_test['ppl_char_38'].mean()\n",
    "full_data_train_plus_test['people_38_median']=full_data_train_plus_test['ppl_char_38'].median()"
   ]
  },
  {
   "cell_type": "code",
   "execution_count": 150,
   "metadata": {},
   "outputs": [
    {
     "name": "stdout",
     "output_type": "stream",
     "text": [
      "50.748712341124445\n"
     ]
    }
   ],
   "source": [
    "print(full_data_train_plus_test['ppl_char_38'].mean())"
   ]
  },
  {
   "cell_type": "code",
   "execution_count": 151,
   "metadata": {},
   "outputs": [
    {
     "name": "stdout",
     "output_type": "stream",
     "text": [
      "60.0\n"
     ]
    }
   ],
   "source": [
    "print(full_data_train_plus_test['ppl_char_38'].median())"
   ]
  },
  {
   "attachments": {},
   "cell_type": "markdown",
   "metadata": {},
   "source": [
    "### group_activity_cnt:Number of activities per group"
   ]
  },
  {
   "cell_type": "code",
   "execution_count": 152,
   "metadata": {},
   "outputs": [],
   "source": [
    "dic_lis=dict(full_data_train_plus_test.groupby(\"ppl_group\").activity_id.nunique())\n",
    "full_data_train_plus_test['group_activity_cnt']=[dict_lis[i] for i in ppl_group ]"
   ]
  },
  {
   "attachments": {},
   "cell_type": "markdown",
   "metadata": {},
   "source": [
    "### activt_per_ppl_cnt:Number of activities per people"
   ]
  },
  {
   "cell_type": "code",
   "execution_count": 153,
   "metadata": {},
   "outputs": [],
   "source": [
    "people_id_list=full_data_train_plus_test['people_id'].values\n",
    "dict_lis=dict(full_data_train_plus_test.groupby(\"people_id\").activity_id.nunique())\n",
    "full_data_train_plus_test['activt_per_ppl_cnt']=[dict_lis[i] for i in people_id_list ]"
   ]
  },
  {
   "attachments": {},
   "cell_type": "markdown",
   "metadata": {},
   "source": [
    "### ppl_actv_date_diff:Absolute difference between ppl dat and activity date"
   ]
  },
  {
   "cell_type": "code",
   "execution_count": 154,
   "metadata": {},
   "outputs": [],
   "source": [
    "full_data_train_plus_test['ppl_actv_date_diff']=(full_data_train_plus_test['ppl_date']-full_data_train_plus_test['act_date']).abs().dt.days"
   ]
  },
  {
   "attachments": {},
   "cell_type": "markdown",
   "metadata": {},
   "source": [
    "### weekend:Weekend or not"
   ]
  },
  {
   "cell_type": "code",
   "execution_count": 155,
   "metadata": {},
   "outputs": [],
   "source": [
    "full_data_train_plus_test['actvdayofweek']= full_data_train_plus_test['act_date'].dt.dayofweek\n",
    "full_data_train_plus_test['weekend']=0\n",
    "full_data_train_plus_test.loc[full_data_train_plus_test['actvdayofweek'].isin([5, 6]), 'weekend'] = 1"
   ]
  },
  {
   "attachments": {},
   "cell_type": "markdown",
   "metadata": {},
   "source": [
    "### actv_date_qurtr: Quarter of the activity"
   ]
  },
  {
   "cell_type": "code",
   "execution_count": 156,
   "metadata": {},
   "outputs": [],
   "source": [
    "full_data_train_plus_test['act_date_qurtr']=full_data_train_plus_test['act_date'].dt.quarter"
   ]
  },
  {
   "cell_type": "code",
   "execution_count": 157,
   "metadata": {},
   "outputs": [
    {
     "data": {
      "text/html": [
       "<div>\n",
       "<style scoped>\n",
       "    .dataframe tbody tr th:only-of-type {\n",
       "        vertical-align: middle;\n",
       "    }\n",
       "\n",
       "    .dataframe tbody tr th {\n",
       "        vertical-align: top;\n",
       "    }\n",
       "\n",
       "    .dataframe thead th {\n",
       "        text-align: right;\n",
       "    }\n",
       "</style>\n",
       "<table border=\"1\" class=\"dataframe\">\n",
       "  <thead>\n",
       "    <tr style=\"text-align: right;\">\n",
       "      <th></th>\n",
       "      <th>act_char_1</th>\n",
       "      <th>act_char_10</th>\n",
       "      <th>act_char_2</th>\n",
       "      <th>act_char_3</th>\n",
       "      <th>act_char_4</th>\n",
       "      <th>act_char_5</th>\n",
       "      <th>act_char_6</th>\n",
       "      <th>act_char_7</th>\n",
       "      <th>act_char_8</th>\n",
       "      <th>act_char_9</th>\n",
       "      <th>...</th>\n",
       "      <th>days_from_min_dt_grp</th>\n",
       "      <th>days_from_max_dt_grp</th>\n",
       "      <th>people_38_mean</th>\n",
       "      <th>people_38_median</th>\n",
       "      <th>group_activity_cnt</th>\n",
       "      <th>activt_per_ppl_cnt</th>\n",
       "      <th>ppl_actv_date_diff</th>\n",
       "      <th>actvdayofweek</th>\n",
       "      <th>weekend</th>\n",
       "      <th>act_date_qurtr</th>\n",
       "    </tr>\n",
       "  </thead>\n",
       "  <tbody>\n",
       "    <tr>\n",
       "      <th>0</th>\n",
       "      <td>type -1</td>\n",
       "      <td>type 76</td>\n",
       "      <td>type -1</td>\n",
       "      <td>type -1</td>\n",
       "      <td>type -1</td>\n",
       "      <td>type -1</td>\n",
       "      <td>type -1</td>\n",
       "      <td>type -1</td>\n",
       "      <td>type -1</td>\n",
       "      <td>type -1</td>\n",
       "      <td>...</td>\n",
       "      <td>407</td>\n",
       "      <td>793</td>\n",
       "      <td>50.748712</td>\n",
       "      <td>60.0</td>\n",
       "      <td>77314</td>\n",
       "      <td>6</td>\n",
       "      <td>788</td>\n",
       "      <td>5</td>\n",
       "      <td>1</td>\n",
       "      <td>3</td>\n",
       "    </tr>\n",
       "    <tr>\n",
       "      <th>1</th>\n",
       "      <td>type -1</td>\n",
       "      <td>type 1</td>\n",
       "      <td>type -1</td>\n",
       "      <td>type -1</td>\n",
       "      <td>type -1</td>\n",
       "      <td>type -1</td>\n",
       "      <td>type -1</td>\n",
       "      <td>type -1</td>\n",
       "      <td>type -1</td>\n",
       "      <td>type -1</td>\n",
       "      <td>...</td>\n",
       "      <td>407</td>\n",
       "      <td>793</td>\n",
       "      <td>50.748712</td>\n",
       "      <td>60.0</td>\n",
       "      <td>77314</td>\n",
       "      <td>6</td>\n",
       "      <td>455</td>\n",
       "      <td>1</td>\n",
       "      <td>0</td>\n",
       "      <td>3</td>\n",
       "    </tr>\n",
       "    <tr>\n",
       "      <th>2</th>\n",
       "      <td>type -1</td>\n",
       "      <td>type 1</td>\n",
       "      <td>type -1</td>\n",
       "      <td>type -1</td>\n",
       "      <td>type -1</td>\n",
       "      <td>type -1</td>\n",
       "      <td>type -1</td>\n",
       "      <td>type -1</td>\n",
       "      <td>type -1</td>\n",
       "      <td>type -1</td>\n",
       "      <td>...</td>\n",
       "      <td>407</td>\n",
       "      <td>793</td>\n",
       "      <td>50.748712</td>\n",
       "      <td>60.0</td>\n",
       "      <td>77314</td>\n",
       "      <td>6</td>\n",
       "      <td>455</td>\n",
       "      <td>1</td>\n",
       "      <td>0</td>\n",
       "      <td>3</td>\n",
       "    </tr>\n",
       "    <tr>\n",
       "      <th>3</th>\n",
       "      <td>type -1</td>\n",
       "      <td>type 1</td>\n",
       "      <td>type -1</td>\n",
       "      <td>type -1</td>\n",
       "      <td>type -1</td>\n",
       "      <td>type -1</td>\n",
       "      <td>type -1</td>\n",
       "      <td>type -1</td>\n",
       "      <td>type -1</td>\n",
       "      <td>type -1</td>\n",
       "      <td>...</td>\n",
       "      <td>407</td>\n",
       "      <td>793</td>\n",
       "      <td>50.748712</td>\n",
       "      <td>60.0</td>\n",
       "      <td>77314</td>\n",
       "      <td>6</td>\n",
       "      <td>766</td>\n",
       "      <td>4</td>\n",
       "      <td>0</td>\n",
       "      <td>3</td>\n",
       "    </tr>\n",
       "    <tr>\n",
       "      <th>4</th>\n",
       "      <td>type -1</td>\n",
       "      <td>type 1</td>\n",
       "      <td>type -1</td>\n",
       "      <td>type -1</td>\n",
       "      <td>type -1</td>\n",
       "      <td>type -1</td>\n",
       "      <td>type -1</td>\n",
       "      <td>type -1</td>\n",
       "      <td>type -1</td>\n",
       "      <td>type -1</td>\n",
       "      <td>...</td>\n",
       "      <td>407</td>\n",
       "      <td>793</td>\n",
       "      <td>50.748712</td>\n",
       "      <td>60.0</td>\n",
       "      <td>77314</td>\n",
       "      <td>6</td>\n",
       "      <td>788</td>\n",
       "      <td>5</td>\n",
       "      <td>1</td>\n",
       "      <td>3</td>\n",
       "    </tr>\n",
       "  </tbody>\n",
       "</table>\n",
       "<p>5 rows × 70 columns</p>\n",
       "</div>"
      ],
      "text/plain": [
       "  act_char_1 act_char_10 act_char_2 act_char_3 act_char_4 act_char_5  \\\n",
       "0    type -1     type 76    type -1    type -1    type -1    type -1   \n",
       "1    type -1      type 1    type -1    type -1    type -1    type -1   \n",
       "2    type -1      type 1    type -1    type -1    type -1    type -1   \n",
       "3    type -1      type 1    type -1    type -1    type -1    type -1   \n",
       "4    type -1      type 1    type -1    type -1    type -1    type -1   \n",
       "\n",
       "  act_char_6 act_char_7 act_char_8 act_char_9  ... days_from_min_dt_grp  \\\n",
       "0    type -1    type -1    type -1    type -1  ...                  407   \n",
       "1    type -1    type -1    type -1    type -1  ...                  407   \n",
       "2    type -1    type -1    type -1    type -1  ...                  407   \n",
       "3    type -1    type -1    type -1    type -1  ...                  407   \n",
       "4    type -1    type -1    type -1    type -1  ...                  407   \n",
       "\n",
       "  days_from_max_dt_grp people_38_mean  people_38_median  group_activity_cnt  \\\n",
       "0                  793      50.748712              60.0               77314   \n",
       "1                  793      50.748712              60.0               77314   \n",
       "2                  793      50.748712              60.0               77314   \n",
       "3                  793      50.748712              60.0               77314   \n",
       "4                  793      50.748712              60.0               77314   \n",
       "\n",
       "   activt_per_ppl_cnt  ppl_actv_date_diff actvdayofweek weekend  \\\n",
       "0                   6                 788             5       1   \n",
       "1                   6                 455             1       0   \n",
       "2                   6                 455             1       0   \n",
       "3                   6                 766             4       0   \n",
       "4                   6                 788             5       1   \n",
       "\n",
       "   act_date_qurtr  \n",
       "0               3  \n",
       "1               3  \n",
       "2               3  \n",
       "3               3  \n",
       "4               3  \n",
       "\n",
       "[5 rows x 70 columns]"
      ]
     },
     "execution_count": 157,
     "metadata": {},
     "output_type": "execute_result"
    }
   ],
   "source": [
    "full_data_train_plus_test.head()"
   ]
  },
  {
   "cell_type": "code",
   "execution_count": 158,
   "metadata": {},
   "outputs": [],
   "source": [
    "train_data_with_new_features=full_data_train_plus_test.loc[full_data_train_plus_test[\"is_train\"]==1]\n",
    "test_data_with_new_features=full_data_train_plus_test.loc[full_data_train_plus_test[\"is_train\"]==0]\n",
    "train_outcomes=train_data_with_new_features['outcome'].values"
   ]
  },
  {
   "cell_type": "code",
   "execution_count": 159,
   "metadata": {},
   "outputs": [
    {
     "data": {
      "text/html": [
       "<div>\n",
       "<style scoped>\n",
       "    .dataframe tbody tr th:only-of-type {\n",
       "        vertical-align: middle;\n",
       "    }\n",
       "\n",
       "    .dataframe tbody tr th {\n",
       "        vertical-align: top;\n",
       "    }\n",
       "\n",
       "    .dataframe thead th {\n",
       "        text-align: right;\n",
       "    }\n",
       "</style>\n",
       "<table border=\"1\" class=\"dataframe\">\n",
       "  <thead>\n",
       "    <tr style=\"text-align: right;\">\n",
       "      <th></th>\n",
       "      <th>index</th>\n",
       "      <th>act_char_1</th>\n",
       "      <th>act_char_10</th>\n",
       "      <th>act_char_2</th>\n",
       "      <th>act_char_3</th>\n",
       "      <th>act_char_4</th>\n",
       "      <th>act_char_5</th>\n",
       "      <th>act_char_6</th>\n",
       "      <th>act_char_7</th>\n",
       "      <th>act_char_8</th>\n",
       "      <th>...</th>\n",
       "      <th>days_from_min_dt_grp</th>\n",
       "      <th>days_from_max_dt_grp</th>\n",
       "      <th>people_38_mean</th>\n",
       "      <th>people_38_median</th>\n",
       "      <th>group_activity_cnt</th>\n",
       "      <th>activt_per_ppl_cnt</th>\n",
       "      <th>ppl_actv_date_diff</th>\n",
       "      <th>actvdayofweek</th>\n",
       "      <th>weekend</th>\n",
       "      <th>act_date_qurtr</th>\n",
       "    </tr>\n",
       "  </thead>\n",
       "  <tbody>\n",
       "    <tr>\n",
       "      <th>0</th>\n",
       "      <td>2197291</td>\n",
       "      <td>type 5</td>\n",
       "      <td>type -1</td>\n",
       "      <td>type 10</td>\n",
       "      <td>type 5</td>\n",
       "      <td>type 1</td>\n",
       "      <td>type 6</td>\n",
       "      <td>type 1</td>\n",
       "      <td>type 1</td>\n",
       "      <td>type 7</td>\n",
       "      <td>...</td>\n",
       "      <td>356</td>\n",
       "      <td>0</td>\n",
       "      <td>50.748712</td>\n",
       "      <td>60.0</td>\n",
       "      <td>2</td>\n",
       "      <td>2</td>\n",
       "      <td>0</td>\n",
       "      <td>2</td>\n",
       "      <td>0</td>\n",
       "      <td>3</td>\n",
       "    </tr>\n",
       "    <tr>\n",
       "      <th>1</th>\n",
       "      <td>2197292</td>\n",
       "      <td>type -1</td>\n",
       "      <td>type 682</td>\n",
       "      <td>type -1</td>\n",
       "      <td>type -1</td>\n",
       "      <td>type -1</td>\n",
       "      <td>type -1</td>\n",
       "      <td>type -1</td>\n",
       "      <td>type -1</td>\n",
       "      <td>type -1</td>\n",
       "      <td>...</td>\n",
       "      <td>356</td>\n",
       "      <td>0</td>\n",
       "      <td>50.748712</td>\n",
       "      <td>60.0</td>\n",
       "      <td>2</td>\n",
       "      <td>2</td>\n",
       "      <td>0</td>\n",
       "      <td>2</td>\n",
       "      <td>0</td>\n",
       "      <td>3</td>\n",
       "    </tr>\n",
       "    <tr>\n",
       "      <th>2</th>\n",
       "      <td>2197293</td>\n",
       "      <td>type 12</td>\n",
       "      <td>type -1</td>\n",
       "      <td>type 1</td>\n",
       "      <td>type 5</td>\n",
       "      <td>type 4</td>\n",
       "      <td>type 6</td>\n",
       "      <td>type 1</td>\n",
       "      <td>type 1</td>\n",
       "      <td>type 13</td>\n",
       "      <td>...</td>\n",
       "      <td>345</td>\n",
       "      <td>252</td>\n",
       "      <td>50.748712</td>\n",
       "      <td>60.0</td>\n",
       "      <td>16</td>\n",
       "      <td>25</td>\n",
       "      <td>0</td>\n",
       "      <td>4</td>\n",
       "      <td>0</td>\n",
       "      <td>4</td>\n",
       "    </tr>\n",
       "    <tr>\n",
       "      <th>3</th>\n",
       "      <td>2197294</td>\n",
       "      <td>type 20</td>\n",
       "      <td>type -1</td>\n",
       "      <td>type 10</td>\n",
       "      <td>type 5</td>\n",
       "      <td>type 4</td>\n",
       "      <td>type 6</td>\n",
       "      <td>type 1</td>\n",
       "      <td>type 1</td>\n",
       "      <td>type 5</td>\n",
       "      <td>...</td>\n",
       "      <td>345</td>\n",
       "      <td>252</td>\n",
       "      <td>50.748712</td>\n",
       "      <td>60.0</td>\n",
       "      <td>16</td>\n",
       "      <td>25</td>\n",
       "      <td>44</td>\n",
       "      <td>6</td>\n",
       "      <td>1</td>\n",
       "      <td>4</td>\n",
       "    </tr>\n",
       "    <tr>\n",
       "      <th>4</th>\n",
       "      <td>2197295</td>\n",
       "      <td>type -1</td>\n",
       "      <td>type 3015</td>\n",
       "      <td>type -1</td>\n",
       "      <td>type -1</td>\n",
       "      <td>type -1</td>\n",
       "      <td>type -1</td>\n",
       "      <td>type -1</td>\n",
       "      <td>type -1</td>\n",
       "      <td>type -1</td>\n",
       "      <td>...</td>\n",
       "      <td>345</td>\n",
       "      <td>252</td>\n",
       "      <td>50.748712</td>\n",
       "      <td>60.0</td>\n",
       "      <td>16</td>\n",
       "      <td>25</td>\n",
       "      <td>1</td>\n",
       "      <td>5</td>\n",
       "      <td>1</td>\n",
       "      <td>4</td>\n",
       "    </tr>\n",
       "  </tbody>\n",
       "</table>\n",
       "<p>5 rows × 71 columns</p>\n",
       "</div>"
      ],
      "text/plain": [
       "     index act_char_1 act_char_10 act_char_2 act_char_3 act_char_4 act_char_5  \\\n",
       "0  2197291     type 5     type -1    type 10     type 5     type 1     type 6   \n",
       "1  2197292    type -1    type 682    type -1    type -1    type -1    type -1   \n",
       "2  2197293    type 12     type -1     type 1     type 5     type 4     type 6   \n",
       "3  2197294    type 20     type -1    type 10     type 5     type 4     type 6   \n",
       "4  2197295    type -1   type 3015    type -1    type -1    type -1    type -1   \n",
       "\n",
       "  act_char_6 act_char_7 act_char_8  ... days_from_min_dt_grp  \\\n",
       "0     type 1     type 1     type 7  ...                  356   \n",
       "1    type -1    type -1    type -1  ...                  356   \n",
       "2     type 1     type 1    type 13  ...                  345   \n",
       "3     type 1     type 1     type 5  ...                  345   \n",
       "4    type -1    type -1    type -1  ...                  345   \n",
       "\n",
       "  days_from_max_dt_grp people_38_mean people_38_median  group_activity_cnt  \\\n",
       "0                    0      50.748712             60.0                   2   \n",
       "1                    0      50.748712             60.0                   2   \n",
       "2                  252      50.748712             60.0                  16   \n",
       "3                  252      50.748712             60.0                  16   \n",
       "4                  252      50.748712             60.0                  16   \n",
       "\n",
       "   activt_per_ppl_cnt  ppl_actv_date_diff  actvdayofweek weekend  \\\n",
       "0                   2                   0              2       0   \n",
       "1                   2                   0              2       0   \n",
       "2                  25                   0              4       0   \n",
       "3                  25                  44              6       1   \n",
       "4                  25                   1              5       1   \n",
       "\n",
       "  act_date_qurtr  \n",
       "0              3  \n",
       "1              3  \n",
       "2              4  \n",
       "3              4  \n",
       "4              4  \n",
       "\n",
       "[5 rows x 71 columns]"
      ]
     },
     "execution_count": 159,
     "metadata": {},
     "output_type": "execute_result"
    }
   ],
   "source": [
    "test_data_with_new_features.reset_index(inplace=True)\n",
    "test_data_with_new_features.head()"
   ]
  },
  {
   "cell_type": "code",
   "execution_count": 160,
   "metadata": {},
   "outputs": [],
   "source": [
    "from sklearn.model_selection import train_test_split"
   ]
  },
  {
   "cell_type": "code",
   "execution_count": 161,
   "metadata": {},
   "outputs": [],
   "source": [
    "X_train, X_cv, y_train, y_cv = train_test_split(train_data_with_new_features, train_outcomes, test_size=0.30, stratify=train_outcomes)"
   ]
  },
  {
   "cell_type": "code",
   "execution_count": 162,
   "metadata": {},
   "outputs": [],
   "source": [
    "positive_grp=X_train.loc[X_train[\"outcome\"]==1.0]\n",
    "negative_grp=X_train.loc[X_train[\"outcome\"]==0.0]"
   ]
  },
  {
   "cell_type": "code",
   "execution_count": 163,
   "metadata": {},
   "outputs": [
    {
     "data": {
      "text/plain": [
       "(682848, 70)"
      ]
     },
     "execution_count": 163,
     "metadata": {},
     "output_type": "execute_result"
    }
   ],
   "source": [
    "positive_grp.shape"
   ]
  },
  {
   "cell_type": "code",
   "execution_count": 164,
   "metadata": {},
   "outputs": [
    {
     "data": {
      "text/plain": [
       "(855255, 70)"
      ]
     },
     "execution_count": 164,
     "metadata": {},
     "output_type": "execute_result"
    }
   ],
   "source": [
    "negative_grp.shape"
   ]
  },
  {
   "cell_type": "code",
   "execution_count": 165,
   "metadata": {},
   "outputs": [],
   "source": [
    "from sklearn.utils import resample\n",
    "positive_grp_up_sampled=resample(positive_grp, replace=True, n_samples=855255, random_state=123)"
   ]
  },
  {
   "cell_type": "code",
   "execution_count": 166,
   "metadata": {},
   "outputs": [],
   "source": [
    "X_train = pd.concat([positive_grp_up_sampled, negative_grp], ignore_index =True)"
   ]
  },
  {
   "cell_type": "code",
   "execution_count": 167,
   "metadata": {},
   "outputs": [],
   "source": [
    "y_train = X_train['outcome'].values"
   ]
  },
  {
   "cell_type": "code",
   "execution_count": 168,
   "metadata": {},
   "outputs": [
    {
     "name": "stdout",
     "output_type": "stream",
     "text": [
      "Shape of X Train (1710510, 70)\n",
      "Shape of y Train (1710510,)\n"
     ]
    }
   ],
   "source": [
    "print(\"Shape of X Train\", X_train.shape)\n",
    "print(\"Shape of y Train\", y_train.shape)"
   ]
  },
  {
   "cell_type": "code",
   "execution_count": 169,
   "metadata": {},
   "outputs": [],
   "source": [
    "from sklearn.preprocessing import OneHotEncoder\n",
    "onehot_encoder = OneHotEncoder(sparse=False, handle_unknown='ignore')"
   ]
  },
  {
   "cell_type": "code",
   "execution_count": 174,
   "metadata": {},
   "outputs": [
    {
     "data": {
      "text/plain": [
       "Index(['act_char_1', 'act_char_10', 'act_char_2', 'act_char_3', 'act_char_4',\n",
       "       'act_char_5', 'act_char_6', 'act_char_7', 'act_char_8', 'act_char_9',\n",
       "       'act_date', 'activity_category', 'activity_id', 'is_train', 'month',\n",
       "       'monthday', 'outcome', 'people_id', 'ppl_char_1', 'ppl_char_10',\n",
       "       'ppl_char_11', 'ppl_char_12', 'ppl_char_13', 'ppl_char_14',\n",
       "       'ppl_char_15', 'ppl_char_16', 'ppl_char_17', 'ppl_char_18',\n",
       "       'ppl_char_19', 'ppl_char_2', 'ppl_char_20', 'ppl_char_21',\n",
       "       'ppl_char_22', 'ppl_char_23', 'ppl_char_24', 'ppl_char_25',\n",
       "       'ppl_char_26', 'ppl_char_27', 'ppl_char_28', 'ppl_char_29',\n",
       "       'ppl_char_3', 'ppl_char_30', 'ppl_char_31', 'ppl_char_32',\n",
       "       'ppl_char_33', 'ppl_char_34', 'ppl_char_35', 'ppl_char_36',\n",
       "       'ppl_char_37', 'ppl_char_38', 'ppl_char_4', 'ppl_char_5', 'ppl_char_6',\n",
       "       'ppl_char_7', 'ppl_char_8', 'ppl_char_9', 'ppl_date', 'ppl_group',\n",
       "       'weekday', 'group_ppl_cnt', 'days_from_min_dt_grp',\n",
       "       'days_from_max_dt_grp', 'people_38_mean', 'people_38_median',\n",
       "       'group_activity_cnt', 'activt_per_ppl_cnt', 'ppl_actv_date_diff',\n",
       "       'actvdayofweek', 'weekend', 'act_date_qurtr'],\n",
       "      dtype='object')"
      ]
     },
     "execution_count": 174,
     "metadata": {},
     "output_type": "execute_result"
    }
   ],
   "source": [
    "X_train.columns"
   ]
  },
  {
   "cell_type": "code",
   "execution_count": 171,
   "metadata": {},
   "outputs": [],
   "source": [
    "ohe=OneHotEncoder(handle_unknown='ignore')\n",
    "ohe.fit(X_train['activity_category'].values.reshape(-1,1))\n",
    "\n",
    "X_train_actv_cat=ohe.transform(X_train['activity_category'].values.reshape(-1,1))\n",
    "X_cv_actv_cat=ohe.transform(X_cv['activity_category'].values.reshape(-1,1))\n",
    "X_test_actv_cat=ohe.transform(test_data_with_new_features['activity_category'].values.reshape(-1,1))"
   ]
  },
  {
   "cell_type": "code",
   "execution_count": 175,
   "metadata": {},
   "outputs": [],
   "source": [
    "ohe=OneHotEncoder(handle_unknown='ignore')\n",
    "ohe.fit(X_train['activity_id'].values.reshape(-1,1))\n",
    "\n",
    "X_train_actv_id=ohe.transform(X_train['activity_id'].values.reshape(-1,1))\n",
    "X_cv_actv_id=ohe.transform(X_cv['activity_id'].values.reshape(-1,1))\n",
    "X_test_actv_id=ohe.transform(test_data_with_new_features['activity_id'].values.reshape(-1,1))"
   ]
  },
  {
   "cell_type": "code",
   "execution_count": 176,
   "metadata": {},
   "outputs": [],
   "source": [
    "ohe=OneHotEncoder(handle_unknown='ignore')\n",
    "ohe.fit(X_train['act_date'].values.reshape(-1,1))\n",
    "\n",
    "X_train_actv_day=ohe.transform(X_train['act_date'].values.reshape(-1,1))\n",
    "X_cv_actv_day=ohe.transform(X_cv['act_date'].values.reshape(-1,1))\n",
    "X_test_actv_day=ohe.transform(test_data_with_new_features['act_date'].values.reshape(-1,1))"
   ]
  },
  {
   "cell_type": "code",
   "execution_count": 177,
   "metadata": {},
   "outputs": [],
   "source": [
    "ohe=OneHotEncoder(handle_unknown='ignore')\n",
    "ohe.fit(X_train['actvdayofweek'].values.reshape(-1,1))\n",
    "\n",
    "X_train_actv_dayowek=ohe.transform(X_train['actvdayofweek'].values.reshape(-1,1))\n",
    "X_cv_actv_dayowek=ohe.transform(X_cv['actvdayofweek'].values.reshape(-1,1))\n",
    "X_test_actv_dayowek=ohe.transform(test_data_with_new_features['actvdayofweek'].values.reshape(-1,1))"
   ]
  },
  {
   "cell_type": "code",
   "execution_count": 179,
   "metadata": {},
   "outputs": [],
   "source": [
    "ohe=OneHotEncoder(handle_unknown='ignore')\n",
    "ohe.fit(X_train['month'].values.reshape(-1,1))\n",
    "\n",
    "X_train_actv_mnth=ohe.transform(X_train['month'].values.reshape(-1,1))\n",
    "X_cv_actv_mnth=ohe.transform(X_cv['month'].values.reshape(-1,1))\n",
    "X_test_actv_mnth=ohe.transform(test_data_with_new_features['month'].values.reshape(-1,1))"
   ]
  },
  {
   "cell_type": "code",
   "execution_count": null,
   "metadata": {},
   "outputs": [],
   "source": [
    "# ohe=OneHotEncoder(handle_unknown='ignore')\n",
    "# ohe.fit(X_train['actvweek'].values.reshape(-1,1))\n",
    "\n",
    "# X_train_actv_week=ohe.transform(X_train['actvweek'].values.reshape(-1,1))\n",
    "# X_cv_actv_week=ohe.transform(X_cv['actvweek'].values.reshape(-1,1))\n",
    "# X_test_actv_week=ohe.transform(Test_dat['actvweek'].values.reshape(-1,1))"
   ]
  },
  {
   "cell_type": "code",
   "execution_count": null,
   "metadata": {},
   "outputs": [],
   "source": [
    "# ohe=OneHotEncoder(handle_unknown='ignore')\n",
    "# ohe.fit(X_train['actvyear'].values.reshape(-1,1))\n",
    "\n",
    "# X_train_actv_year=ohe.transform(X_train['actvyear'].values.reshape(-1,1))\n",
    "# X_cv_actv_year=ohe.transform(X_cv['actvyear'].values.reshape(-1,1))\n",
    "# X_test_actv_year=ohe.transform(Test_dat['actvyear'].values.reshape(-1,1))"
   ]
  },
  {
   "cell_type": "code",
   "execution_count": 180,
   "metadata": {},
   "outputs": [],
   "source": [
    "ohe=OneHotEncoder(handle_unknown='ignore')\n",
    "ohe.fit(X_train['ppl_char_10'].values.reshape(-1,1))\n",
    "\n",
    "X_train_ch10x=ohe.transform(X_train['ppl_char_10'].values.reshape(-1,1))\n",
    "X_cv_actv_ch10x=ohe.transform(X_cv['ppl_char_10'].values.reshape(-1,1))\n",
    "X_test_actv_ch10x=ohe.transform(test_data_with_new_features['ppl_char_10'].values.reshape(-1,1))"
   ]
  },
  {
   "cell_type": "code",
   "execution_count": 181,
   "metadata": {},
   "outputs": [],
   "source": [
    "ohe=OneHotEncoder(handle_unknown='ignore')\n",
    "ohe.fit(X_train['act_char_10'].values.reshape(-1,1))\n",
    "\n",
    "X_train_ch10y=ohe.transform(X_train['act_char_10'].values.reshape(-1,1))\n",
    "X_cv_actv_ch10y=ohe.transform(X_cv['act_char_10'].values.reshape(-1,1))\n",
    "X_test_actv_ch10y=ohe.transform(test_data_with_new_features['act_char_10'].values.reshape(-1,1))"
   ]
  },
  {
   "cell_type": "code",
   "execution_count": 182,
   "metadata": {},
   "outputs": [],
   "source": [
    "ohe=OneHotEncoder(handle_unknown='ignore')\n",
    "ohe.fit(X_train['ppl_char_11'].values.reshape(-1,1))\n",
    "\n",
    "X_train_ch11=ohe.transform(X_train['ppl_char_11'].values.reshape(-1,1))\n",
    "X_cv_actv_ch11=ohe.transform(X_cv['ppl_char_11'].values.reshape(-1,1))\n",
    "X_test_actv_ch11=ohe.transform(test_data_with_new_features['ppl_char_11'].values.reshape(-1,1))"
   ]
  },
  {
   "cell_type": "code",
   "execution_count": 183,
   "metadata": {},
   "outputs": [],
   "source": [
    "ohe=OneHotEncoder(handle_unknown='ignore')\n",
    "ohe.fit(X_train['ppl_char_12'].values.reshape(-1,1))\n",
    "\n",
    "X_train_ch12=ohe.transform(X_train['ppl_char_12'].values.reshape(-1,1))\n",
    "X_cv_actv_ch12=ohe.transform(X_cv['ppl_char_12'].values.reshape(-1,1))\n",
    "X_test_actv_ch12=ohe.transform(test_data_with_new_features['ppl_char_12'].values.reshape(-1,1))"
   ]
  },
  {
   "cell_type": "code",
   "execution_count": 184,
   "metadata": {},
   "outputs": [],
   "source": [
    "ohe=OneHotEncoder(handle_unknown='ignore')\n",
    "ohe.fit(X_train['ppl_char_13'].values.reshape(-1,1))\n",
    "\n",
    "X_train_ch13=ohe.transform(X_train['ppl_char_13'].values.reshape(-1,1))\n",
    "X_cv_actv_ch13=ohe.transform(X_cv['ppl_char_13'].values.reshape(-1,1))\n",
    "X_test_actv_ch13=ohe.transform(test_data_with_new_features['ppl_char_13'].values.reshape(-1,1))"
   ]
  },
  {
   "cell_type": "code",
   "execution_count": 185,
   "metadata": {},
   "outputs": [],
   "source": [
    "ohe=OneHotEncoder(handle_unknown='ignore')\n",
    "ohe.fit(X_train['ppl_char_14'].values.reshape(-1,1))\n",
    "\n",
    "X_train_ch14=ohe.transform(X_train['ppl_char_14'].values.reshape(-1,1))\n",
    "X_cv_actv_ch14=ohe.transform(X_cv['ppl_char_14'].values.reshape(-1,1))\n",
    "X_test_actv_ch14=ohe.transform(test_data_with_new_features['ppl_char_14'].values.reshape(-1,1))"
   ]
  },
  {
   "cell_type": "code",
   "execution_count": 186,
   "metadata": {},
   "outputs": [],
   "source": [
    "ohe=OneHotEncoder(handle_unknown='ignore')\n",
    "ohe.fit(X_train['ppl_char_15'].values.reshape(-1,1))\n",
    "\n",
    "X_train_ch15=ohe.transform(X_train['ppl_char_15'].values.reshape(-1,1))\n",
    "X_cv_actv_ch15=ohe.transform(X_cv['ppl_char_15'].values.reshape(-1,1))\n",
    "X_test_actv_ch15=ohe.transform(test_data_with_new_features['ppl_char_15'].values.reshape(-1,1))"
   ]
  },
  {
   "cell_type": "code",
   "execution_count": 187,
   "metadata": {},
   "outputs": [],
   "source": [
    "ohe=OneHotEncoder(handle_unknown='ignore')\n",
    "ohe.fit(X_train['ppl_char_16'].values.reshape(-1,1))\n",
    "\n",
    "X_train_ch16=ohe.transform(X_train['ppl_char_16'].values.reshape(-1,1))\n",
    "X_cv_actv_ch16=ohe.transform(X_cv['ppl_char_16'].values.reshape(-1,1))\n",
    "X_test_actv_ch16=ohe.transform(test_data_with_new_features['ppl_char_16'].values.reshape(-1,1))"
   ]
  },
  {
   "cell_type": "code",
   "execution_count": 188,
   "metadata": {},
   "outputs": [],
   "source": [
    "ohe=OneHotEncoder(handle_unknown='ignore')\n",
    "ohe.fit(X_train['ppl_char_17'].values.reshape(-1,1))\n",
    "\n",
    "X_train_ch17=ohe.transform(X_train['ppl_char_17'].values.reshape(-1,1))\n",
    "X_cv_actv_ch17=ohe.transform(X_cv['ppl_char_17'].values.reshape(-1,1))\n",
    "X_test_actv_ch17=ohe.transform(test_data_with_new_features['ppl_char_17'].values.reshape(-1,1))"
   ]
  },
  {
   "cell_type": "code",
   "execution_count": 189,
   "metadata": {},
   "outputs": [],
   "source": [
    "ohe=OneHotEncoder(handle_unknown='ignore')\n",
    "ohe.fit(X_train['ppl_char_18'].values.reshape(-1,1))\n",
    "\n",
    "X_train_ch18=ohe.transform(X_train['ppl_char_18'].values.reshape(-1,1))\n",
    "X_cv_actv_ch18=ohe.transform(X_cv['ppl_char_18'].values.reshape(-1,1))\n",
    "X_test_actv_ch18=ohe.transform(test_data_with_new_features['ppl_char_18'].values.reshape(-1,1))"
   ]
  },
  {
   "cell_type": "code",
   "execution_count": 248,
   "metadata": {},
   "outputs": [],
   "source": [
    "ohe=OneHotEncoder(handle_unknown='ignore')\n",
    "ohe.fit(X_train['ppl_char_19'].values.reshape(-1,1))\n",
    "\n",
    "X_train_ch19=ohe.transform(X_train['ppl_char_19'].values.reshape(-1,1))\n",
    "X_cv_actv_ch19=ohe.transform(X_cv['ppl_char_19'].values.reshape(-1,1))\n",
    "X_test_actv_ch19=ohe.transform(test_data_with_new_features['ppl_char_19'].values.reshape(-1,1))"
   ]
  },
  {
   "cell_type": "code",
   "execution_count": 190,
   "metadata": {},
   "outputs": [],
   "source": [
    "ohe=OneHotEncoder(handle_unknown='ignore')\n",
    "ohe.fit(X_train['act_char_1'].values.reshape(-1,1))\n",
    "\n",
    "X_train_ch1x=ohe.transform(X_train['act_char_1'].values.reshape(-1,1))\n",
    "X_cv_actv_ch1x=ohe.transform(X_cv['act_char_1'].values.reshape(-1,1))\n",
    "X_test_actv_ch1x=ohe.transform(test_data_with_new_features['act_char_1'].values.reshape(-1,1))"
   ]
  },
  {
   "cell_type": "code",
   "execution_count": 191,
   "metadata": {},
   "outputs": [],
   "source": [
    "ohe=OneHotEncoder(handle_unknown='ignore')\n",
    "ohe.fit(X_train['ppl_char_1'].values.reshape(-1,1))\n",
    "\n",
    "X_train_ch1y=ohe.transform(X_train['ppl_char_1'].values.reshape(-1,1))\n",
    "X_cv_actv_ch1y=ohe.transform(X_cv['ppl_char_1'].values.reshape(-1,1))\n",
    "X_test_actv_ch1y=ohe.transform(test_data_with_new_features['ppl_char_1'].values.reshape(-1,1))"
   ]
  },
  {
   "cell_type": "code",
   "execution_count": 192,
   "metadata": {},
   "outputs": [],
   "source": [
    "ohe=OneHotEncoder(handle_unknown='ignore')\n",
    "ohe.fit(X_train['ppl_char_20'].values.reshape(-1,1))\n",
    "\n",
    "X_train_ch20=ohe.transform(X_train['ppl_char_20'].values.reshape(-1,1))\n",
    "X_cv_actv_ch20=ohe.transform(X_cv['ppl_char_20'].values.reshape(-1,1))\n",
    "X_test_actv_ch20=ohe.transform(test_data_with_new_features['ppl_char_20'].values.reshape(-1,1))"
   ]
  },
  {
   "cell_type": "code",
   "execution_count": 193,
   "metadata": {},
   "outputs": [],
   "source": [
    "ohe=OneHotEncoder(handle_unknown='ignore')\n",
    "ohe.fit(X_train['ppl_char_21'].values.reshape(-1,1))\n",
    "\n",
    "X_train_ch21=ohe.transform(X_train['ppl_char_21'].values.reshape(-1,1))\n",
    "X_cv_actv_ch21=ohe.transform(X_cv['ppl_char_21'].values.reshape(-1,1))\n",
    "X_test_actv_ch21=ohe.transform(test_data_with_new_features['ppl_char_21'].values.reshape(-1,1))"
   ]
  },
  {
   "cell_type": "code",
   "execution_count": 194,
   "metadata": {},
   "outputs": [],
   "source": [
    "ohe=OneHotEncoder(handle_unknown='ignore')\n",
    "ohe.fit(X_train['ppl_char_22'].values.reshape(-1,1))\n",
    "\n",
    "X_train_ch22=ohe.transform(X_train['ppl_char_22'].values.reshape(-1,1))\n",
    "X_cv_actv_ch22=ohe.transform(X_cv['ppl_char_22'].values.reshape(-1,1))\n",
    "X_test_actv_ch22=ohe.transform(test_data_with_new_features['ppl_char_22'].values.reshape(-1,1))"
   ]
  },
  {
   "cell_type": "code",
   "execution_count": 195,
   "metadata": {},
   "outputs": [],
   "source": [
    "ohe=OneHotEncoder(handle_unknown='ignore')\n",
    "ohe.fit(X_train['ppl_char_23'].values.reshape(-1,1))\n",
    "\n",
    "X_train_ch23=ohe.transform(X_train['ppl_char_23'].values.reshape(-1,1))\n",
    "X_cv_actv_ch23=ohe.transform(X_cv['ppl_char_23'].values.reshape(-1,1))\n",
    "X_test_actv_ch23=ohe.transform(test_data_with_new_features['ppl_char_23'].values.reshape(-1,1))"
   ]
  },
  {
   "cell_type": "code",
   "execution_count": 196,
   "metadata": {},
   "outputs": [],
   "source": [
    "ohe=OneHotEncoder(handle_unknown='ignore')\n",
    "ohe.fit(X_train['ppl_char_24'].values.reshape(-1,1))\n",
    "\n",
    "X_train_ch24=ohe.transform(X_train['ppl_char_24'].values.reshape(-1,1))\n",
    "X_cv_actv_ch24=ohe.transform(X_cv['ppl_char_24'].values.reshape(-1,1))\n",
    "X_test_actv_ch24=ohe.transform(test_data_with_new_features['ppl_char_24'].values.reshape(-1,1))"
   ]
  },
  {
   "cell_type": "code",
   "execution_count": 198,
   "metadata": {},
   "outputs": [],
   "source": [
    "ohe=OneHotEncoder(handle_unknown='ignore')\n",
    "ohe.fit(X_train['ppl_char_25'].values.reshape(-1,1))\n",
    "\n",
    "X_train_ch25=ohe.transform(X_train['ppl_char_25'].values.reshape(-1,1))\n",
    "X_cv_actv_ch25=ohe.transform(X_cv['ppl_char_25'].values.reshape(-1,1))\n",
    "X_test_actv_ch25=ohe.transform(test_data_with_new_features['ppl_char_25'].values.reshape(-1,1))"
   ]
  },
  {
   "cell_type": "code",
   "execution_count": 199,
   "metadata": {},
   "outputs": [],
   "source": [
    "ohe=OneHotEncoder(handle_unknown='ignore')\n",
    "ohe.fit(X_train['ppl_char_26'].values.reshape(-1,1))\n",
    "\n",
    "X_train_ch26=ohe.transform(X_train['ppl_char_26'].values.reshape(-1,1))\n",
    "X_cv_actv_ch26=ohe.transform(X_cv['ppl_char_26'].values.reshape(-1,1))\n",
    "X_test_actv_ch26=ohe.transform(test_data_with_new_features['ppl_char_26'].values.reshape(-1,1))"
   ]
  },
  {
   "cell_type": "code",
   "execution_count": 197,
   "metadata": {},
   "outputs": [],
   "source": [
    "ohe=OneHotEncoder(handle_unknown='ignore')\n",
    "ohe.fit(X_train['ppl_char_27'].values.reshape(-1,1))\n",
    "\n",
    "X_train_ch27=ohe.transform(X_train['ppl_char_27'].values.reshape(-1,1))\n",
    "X_cv_actv_ch27=ohe.transform(X_cv['ppl_char_27'].values.reshape(-1,1))\n",
    "X_test_actv_ch27=ohe.transform(test_data_with_new_features['ppl_char_27'].values.reshape(-1,1))"
   ]
  },
  {
   "cell_type": "code",
   "execution_count": 201,
   "metadata": {},
   "outputs": [],
   "source": [
    "ohe=OneHotEncoder(handle_unknown='ignore')\n",
    "ohe.fit(X_train['ppl_char_28'].values.reshape(-1,1))\n",
    "\n",
    "X_train_ch28=ohe.transform(X_train['ppl_char_28'].values.reshape(-1,1))\n",
    "X_cv_actv_ch28=ohe.transform(X_cv['ppl_char_28'].values.reshape(-1,1))\n",
    "X_test_actv_ch28=ohe.transform(test_data_with_new_features['ppl_char_28'].values.reshape(-1,1))"
   ]
  },
  {
   "cell_type": "code",
   "execution_count": 202,
   "metadata": {},
   "outputs": [],
   "source": [
    "ohe=OneHotEncoder(handle_unknown='ignore')\n",
    "ohe.fit(X_train['ppl_char_29'].values.reshape(-1,1))\n",
    "\n",
    "X_train_ch29=ohe.transform(X_train['ppl_char_29'].values.reshape(-1,1))\n",
    "X_cv_actv_ch29=ohe.transform(X_cv['ppl_char_29'].values.reshape(-1,1))\n",
    "X_test_actv_ch29=ohe.transform(test_data_with_new_features['ppl_char_29'].values.reshape(-1,1))"
   ]
  },
  {
   "cell_type": "code",
   "execution_count": 200,
   "metadata": {},
   "outputs": [],
   "source": [
    "ohe=OneHotEncoder(handle_unknown='ignore')\n",
    "ohe.fit(X_train['act_char_2'].values.reshape(-1,1))\n",
    "\n",
    "X_train_ch2x=ohe.transform(X_train['act_char_2'].values.reshape(-1,1))\n",
    "X_cv_actv_ch2x=ohe.transform(X_cv['act_char_2'].values.reshape(-1,1))\n",
    "X_test_actv_ch2x=ohe.transform(test_data_with_new_features['act_char_2'].values.reshape(-1,1))"
   ]
  },
  {
   "cell_type": "code",
   "execution_count": 203,
   "metadata": {},
   "outputs": [],
   "source": [
    "ohe=OneHotEncoder(handle_unknown='ignore')\n",
    "ohe.fit(X_train['ppl_char_2'].values.reshape(-1,1))\n",
    "\n",
    "X_train_ch2y=ohe.transform(X_train['ppl_char_2'].values.reshape(-1,1))\n",
    "X_cv_actv_ch2y=ohe.transform(X_cv['ppl_char_2'].values.reshape(-1,1))\n",
    "X_test_actv_ch2y=ohe.transform(test_data_with_new_features['ppl_char_2'].values.reshape(-1,1))"
   ]
  },
  {
   "cell_type": "code",
   "execution_count": 204,
   "metadata": {},
   "outputs": [],
   "source": [
    "ohe=OneHotEncoder(handle_unknown='ignore')\n",
    "ohe.fit(X_train['ppl_char_30'].values.reshape(-1,1))\n",
    "\n",
    "X_train_ch30=ohe.transform(X_train['ppl_char_30'].values.reshape(-1,1))\n",
    "X_cv_actv_ch30=ohe.transform(X_cv['ppl_char_30'].values.reshape(-1,1))\n",
    "X_test_actv_ch30=ohe.transform(test_data_with_new_features['ppl_char_30'].values.reshape(-1,1))"
   ]
  },
  {
   "cell_type": "code",
   "execution_count": 205,
   "metadata": {},
   "outputs": [],
   "source": [
    "ohe=OneHotEncoder(handle_unknown='ignore')\n",
    "ohe.fit(X_train['ppl_char_31'].values.reshape(-1,1))\n",
    "\n",
    "X_train_ch31=ohe.transform(X_train['ppl_char_31'].values.reshape(-1,1))\n",
    "X_cv_actv_ch31=ohe.transform(X_cv['ppl_char_31'].values.reshape(-1,1))\n",
    "X_test_actv_ch31=ohe.transform(test_data_with_new_features['ppl_char_31'].values.reshape(-1,1))"
   ]
  },
  {
   "cell_type": "code",
   "execution_count": 206,
   "metadata": {},
   "outputs": [],
   "source": [
    "ohe=OneHotEncoder(handle_unknown='ignore')\n",
    "ohe.fit(X_train['ppl_char_32'].values.reshape(-1,1))\n",
    "\n",
    "X_train_ch32=ohe.transform(X_train['ppl_char_32'].values.reshape(-1,1))\n",
    "X_cv_actv_ch32=ohe.transform(X_cv['ppl_char_32'].values.reshape(-1,1))\n",
    "X_test_actv_ch32=ohe.transform(test_data_with_new_features['ppl_char_32'].values.reshape(-1,1))"
   ]
  },
  {
   "cell_type": "code",
   "execution_count": 207,
   "metadata": {},
   "outputs": [],
   "source": [
    "ohe=OneHotEncoder(handle_unknown='ignore')\n",
    "ohe.fit(X_train['ppl_char_33'].values.reshape(-1,1))\n",
    "\n",
    "X_train_ch33=ohe.transform(X_train['ppl_char_33'].values.reshape(-1,1))\n",
    "X_cv_actv_ch33=ohe.transform(X_cv['ppl_char_33'].values.reshape(-1,1))\n",
    "X_test_actv_ch33=ohe.transform(test_data_with_new_features['ppl_char_33'].values.reshape(-1,1))"
   ]
  },
  {
   "cell_type": "code",
   "execution_count": 250,
   "metadata": {},
   "outputs": [],
   "source": [
    "ohe=OneHotEncoder(handle_unknown='ignore')\n",
    "ohe.fit(X_train['ppl_char_34'].values.reshape(-1,1))\n",
    "\n",
    "X_train_ch34=ohe.transform(X_train['ppl_char_34'].values.reshape(-1,1))\n",
    "X_cv_actv_ch34=ohe.transform(X_cv['ppl_char_34'].values.reshape(-1,1))\n",
    "X_test_actv_ch34=ohe.transform(test_data_with_new_features['ppl_char_34'].values.reshape(-1,1))"
   ]
  },
  {
   "cell_type": "code",
   "execution_count": 208,
   "metadata": {},
   "outputs": [],
   "source": [
    "ohe=OneHotEncoder(handle_unknown='ignore')\n",
    "ohe.fit(X_train['ppl_char_35'].values.reshape(-1,1))\n",
    "\n",
    "X_train_ch35=ohe.transform(X_train['ppl_char_35'].values.reshape(-1,1))\n",
    "X_cv_actv_ch35=ohe.transform(X_cv['ppl_char_35'].values.reshape(-1,1))\n",
    "X_test_actv_ch35=ohe.transform(test_data_with_new_features['ppl_char_35'].values.reshape(-1,1))"
   ]
  },
  {
   "cell_type": "code",
   "execution_count": 209,
   "metadata": {},
   "outputs": [],
   "source": [
    "ohe=OneHotEncoder(handle_unknown='ignore')\n",
    "ohe.fit(X_train['ppl_char_36'].values.reshape(-1,1))\n",
    "\n",
    "X_train_ch36=ohe.transform(X_train['ppl_char_36'].values.reshape(-1,1))\n",
    "X_cv_actv_ch36=ohe.transform(X_cv['ppl_char_36'].values.reshape(-1,1))\n",
    "X_test_actv_ch36=ohe.transform(test_data_with_new_features['ppl_char_36'].values.reshape(-1,1))"
   ]
  },
  {
   "cell_type": "code",
   "execution_count": 211,
   "metadata": {},
   "outputs": [],
   "source": [
    "ohe=OneHotEncoder(handle_unknown='ignore')\n",
    "ohe.fit(X_train['ppl_char_37'].values.reshape(-1,1))\n",
    "\n",
    "X_train_ch37=ohe.transform(X_train['ppl_char_37'].values.reshape(-1,1))\n",
    "X_cv_actv_ch37=ohe.transform(X_cv['ppl_char_37'].values.reshape(-1,1))\n",
    "X_test_actv_ch37=ohe.transform(test_data_with_new_features['ppl_char_37'].values.reshape(-1,1))"
   ]
  },
  {
   "cell_type": "code",
   "execution_count": 210,
   "metadata": {},
   "outputs": [],
   "source": [
    "ohe=OneHotEncoder(handle_unknown='ignore')\n",
    "ohe.fit(X_train['act_char_3'].values.reshape(-1,1))\n",
    "\n",
    "X_train_ch3x=ohe.transform(X_train['act_char_3'].values.reshape(-1,1))\n",
    "X_cv_actv_ch3x=ohe.transform(X_cv['act_char_3'].values.reshape(-1,1))\n",
    "X_test_actv_ch3x=ohe.transform(test_data_with_new_features['act_char_3'].values.reshape(-1,1))"
   ]
  },
  {
   "cell_type": "code",
   "execution_count": 212,
   "metadata": {},
   "outputs": [],
   "source": [
    "ohe=OneHotEncoder(handle_unknown='ignore')\n",
    "ohe.fit(X_train['ppl_char_3'].values.reshape(-1,1))\n",
    "\n",
    "X_train_ch3y=ohe.transform(X_train['ppl_char_3'].values.reshape(-1,1))\n",
    "X_cv_actv_ch3y=ohe.transform(X_cv['ppl_char_3'].values.reshape(-1,1))\n",
    "X_test_actv_ch3y=ohe.transform(test_data_with_new_features['ppl_char_3'].values.reshape(-1,1))"
   ]
  },
  {
   "cell_type": "code",
   "execution_count": 213,
   "metadata": {},
   "outputs": [],
   "source": [
    "ohe=OneHotEncoder(handle_unknown='ignore')\n",
    "ohe.fit(X_train['act_char_4'].values.reshape(-1,1))\n",
    "\n",
    "X_train_ch4x=ohe.transform(X_train['act_char_4'].values.reshape(-1,1))\n",
    "X_cv_actv_ch4x=ohe.transform(X_cv['act_char_4'].values.reshape(-1,1))\n",
    "X_test_actv_ch4x=ohe.transform(test_data_with_new_features['act_char_4'].values.reshape(-1,1))"
   ]
  },
  {
   "cell_type": "code",
   "execution_count": 214,
   "metadata": {},
   "outputs": [],
   "source": [
    "ohe=OneHotEncoder(handle_unknown='ignore')\n",
    "ohe.fit(X_train['ppl_char_4'].values.reshape(-1,1))\n",
    "\n",
    "X_train_ch4Y=ohe.transform(X_train['ppl_char_4'].values.reshape(-1,1))\n",
    "X_cv_actv_ch4y=ohe.transform(X_cv['ppl_char_4'].values.reshape(-1,1))\n",
    "X_test_actv_ch4y=ohe.transform(test_data_with_new_features['ppl_char_4'].values.reshape(-1,1))"
   ]
  },
  {
   "cell_type": "code",
   "execution_count": 215,
   "metadata": {},
   "outputs": [],
   "source": [
    "ohe=OneHotEncoder(handle_unknown='ignore')\n",
    "ohe.fit(X_train['act_char_5'].values.reshape(-1,1))\n",
    "\n",
    "X_train_ch5x=ohe.transform(X_train['act_char_5'].values.reshape(-1,1))\n",
    "X_cv_actv_ch5x=ohe.transform(X_cv['act_char_5'].values.reshape(-1,1))\n",
    "X_test_actv_ch5x=ohe.transform(test_data_with_new_features['act_char_5'].values.reshape(-1,1))"
   ]
  },
  {
   "cell_type": "code",
   "execution_count": 216,
   "metadata": {},
   "outputs": [],
   "source": [
    "ohe=OneHotEncoder(handle_unknown='ignore')\n",
    "ohe.fit(X_train['ppl_char_5'].values.reshape(-1,1))\n",
    "\n",
    "X_train_ch5y=ohe.transform(X_train['ppl_char_5'].values.reshape(-1,1))\n",
    "X_cv_actv_ch5y=ohe.transform(X_cv['ppl_char_5'].values.reshape(-1,1))\n",
    "X_test_actv_ch5y=ohe.transform(test_data_with_new_features['ppl_char_5'].values.reshape(-1,1))"
   ]
  },
  {
   "cell_type": "code",
   "execution_count": 217,
   "metadata": {},
   "outputs": [],
   "source": [
    "ohe=OneHotEncoder(handle_unknown='ignore')\n",
    "ohe.fit(X_train['act_char_6'].values.reshape(-1,1))\n",
    "\n",
    "X_train_ch6x=ohe.transform(X_train['act_char_6'].values.reshape(-1,1))\n",
    "X_cv_actv_ch6x=ohe.transform(X_cv['act_char_6'].values.reshape(-1,1))\n",
    "X_test_actv_ch6x=ohe.transform(test_data_with_new_features['act_char_6'].values.reshape(-1,1))"
   ]
  },
  {
   "cell_type": "code",
   "execution_count": 218,
   "metadata": {},
   "outputs": [],
   "source": [
    "ohe=OneHotEncoder(handle_unknown='ignore')\n",
    "ohe.fit(X_train['ppl_char_6'].values.reshape(-1,1))\n",
    "\n",
    "X_train_ch6y=ohe.transform(X_train['ppl_char_6'].values.reshape(-1,1))\n",
    "X_cv_actv_ch6y=ohe.transform(X_cv['ppl_char_6'].values.reshape(-1,1))\n",
    "X_test_actv_ch6y=ohe.transform(test_data_with_new_features['ppl_char_6'].values.reshape(-1,1))"
   ]
  },
  {
   "cell_type": "code",
   "execution_count": 219,
   "metadata": {},
   "outputs": [],
   "source": [
    "ohe=OneHotEncoder(handle_unknown='ignore')\n",
    "ohe.fit(X_train['act_char_7'].values.reshape(-1,1))\n",
    "\\\n",
    "X_train_ch7x=ohe.transform(X_train['act_char_7'].values.reshape(-1,1))\n",
    "X_cv_actv_ch7x=ohe.transform(X_cv['act_char_7'].values.reshape(-1,1))\n",
    "X_test_actv_ch7x=ohe.transform(test_data_with_new_features['act_char_7'].values.reshape(-1,1))"
   ]
  },
  {
   "cell_type": "code",
   "execution_count": 220,
   "metadata": {},
   "outputs": [],
   "source": [
    "ohe=OneHotEncoder(handle_unknown='ignore')\n",
    "ohe.fit(X_train['ppl_char_7'].values.reshape(-1,1))\n",
    "\n",
    "X_train_ch7y=ohe.transform(X_train['ppl_char_7'].values.reshape(-1,1))\n",
    "X_cv_actv_ch7y=ohe.transform(X_cv['ppl_char_7'].values.reshape(-1,1))\n",
    "X_test_actv_ch7y=ohe.transform(test_data_with_new_features['ppl_char_7'].values.reshape(-1,1))"
   ]
  },
  {
   "cell_type": "code",
   "execution_count": 221,
   "metadata": {},
   "outputs": [],
   "source": [
    "ohe=OneHotEncoder(handle_unknown='ignore')\n",
    "ohe.fit(X_train['act_char_8'].values.reshape(-1,1))\n",
    "\n",
    "X_train_ch8x=ohe.transform(X_train['act_char_8'].values.reshape(-1,1))\n",
    "X_cv_actv_ch8x=ohe.transform(X_cv['act_char_8'].values.reshape(-1,1))\n",
    "X_test_actv_ch8x=ohe.transform(test_data_with_new_features['act_char_8'].values.reshape(-1,1))"
   ]
  },
  {
   "cell_type": "code",
   "execution_count": 222,
   "metadata": {},
   "outputs": [],
   "source": [
    "ohe=OneHotEncoder(handle_unknown='ignore')\n",
    "ohe.fit(X_train['ppl_char_8'].values.reshape(-1,1))\n",
    "\n",
    "X_train_ch8y=ohe.transform(X_train['ppl_char_8'].values.reshape(-1,1))\n",
    "X_cv_actv_ch8y=ohe.transform(X_cv['ppl_char_8'].values.reshape(-1,1))\n",
    "X_test_actv_ch8y=ohe.transform(test_data_with_new_features['ppl_char_8'].values.reshape(-1,1))"
   ]
  },
  {
   "cell_type": "code",
   "execution_count": 223,
   "metadata": {},
   "outputs": [],
   "source": [
    "ohe=OneHotEncoder(handle_unknown='ignore')\n",
    "ohe.fit(X_train['act_char_9'].values.reshape(-1,1))\n",
    "\n",
    "X_train_ch9x=ohe.transform(X_train['act_char_9'].values.reshape(-1,1))\n",
    "X_cv_actv_ch9x=ohe.transform(X_cv['act_char_9'].values.reshape(-1,1))\n",
    "X_test_actv_ch9x=ohe.transform(test_data_with_new_features['act_char_9'].values.reshape(-1,1))"
   ]
  },
  {
   "cell_type": "code",
   "execution_count": 224,
   "metadata": {},
   "outputs": [],
   "source": [
    "ohe=OneHotEncoder(handle_unknown='ignore')\n",
    "ohe.fit(X_train['ppl_char_9'].values.reshape(-1,1))\n",
    "\n",
    "X_train_ch9y=ohe.transform(X_train['ppl_char_9'].values.reshape(-1,1))\n",
    "X_cv_actv_ch9y=ohe.transform(X_cv['ppl_char_9'].values.reshape(-1,1))\n",
    "X_test_actv_ch9y=ohe.transform(test_data_with_new_features['ppl_char_9'].values.reshape(-1,1))"
   ]
  },
  {
   "cell_type": "code",
   "execution_count": 225,
   "metadata": {},
   "outputs": [],
   "source": [
    "ohe=OneHotEncoder(handle_unknown='ignore')\n",
    "ohe.fit(X_train['ppl_group'].values.reshape(-1,1))\n",
    "\n",
    "X_train_grp1=ohe.transform(X_train['ppl_group'].values.reshape(-1,1))\n",
    "X_cv_actv_grp1=ohe.transform(X_cv['ppl_group'].values.reshape(-1,1))\n",
    "X_test_actv_grp1=ohe.transform(test_data_with_new_features['ppl_group'].values.reshape(-1,1))"
   ]
  },
  {
   "cell_type": "code",
   "execution_count": 226,
   "metadata": {},
   "outputs": [],
   "source": [
    "ohe=OneHotEncoder(handle_unknown='ignore')\n",
    "ohe.fit(X_train['people_id'].values.reshape(-1,1))\n",
    "\n",
    "X_train_pplid=ohe.transform(X_train['people_id'].values.reshape(-1,1))\n",
    "X_cv_actv_pplid=ohe.transform(X_cv['people_id'].values.reshape(-1,1))\n",
    "X_test_actv_pplid=ohe.transform(test_data_with_new_features['people_id'].values.reshape(-1,1))"
   ]
  },
  {
   "cell_type": "code",
   "execution_count": 228,
   "metadata": {},
   "outputs": [],
   "source": [
    "# ohe=OneHotEncoder(handle_unknown='ignore')\n",
    "# ohe.fit(X_train['pplday'].values.reshape(-1,1))\n",
    "\n",
    "# X_train_pplday=ohe.transform(X_train['pplday'].values.reshape(-1,1))\n",
    "# X_cv_actv_pplday=ohe.transform(X_cv['pplday'].values.reshape(-1,1))\n",
    "# X_test_actv_pplday=ohe.transform(test_data_with_new_features['pplday'].values.reshape(-1,1))"
   ]
  },
  {
   "cell_type": "code",
   "execution_count": 230,
   "metadata": {},
   "outputs": [],
   "source": [
    "# ohe=OneHotEncoder(handle_unknown='ignore')\n",
    "# ohe.fit(X_train['ppldayofweek'].values.reshape(-1,1))\n",
    "\n",
    "# X_train_ppldayowk=ohe.transform(X_train['ppldayofweek'].values.reshape(-1,1))\n",
    "# X_cv_actv_ppldayowk=ohe.transform(X_cv['ppldayofweek'].values.reshape(-1,1))\n",
    "# X_test_actv_ppldayowk=ohe.transform(test_data_with_new_features['ppldayofweek'].values.reshape(-1,1))"
   ]
  },
  {
   "cell_type": "code",
   "execution_count": null,
   "metadata": {},
   "outputs": [],
   "source": [
    "# ohe=OneHotEncoder(handle_unknown='ignore')\n",
    "# ohe.fit(X_train['pplmonth'].values.reshape(-1,1))\n",
    "\n",
    "# X_train_pplmnth=ohe.transform(X_train['pplmonth'].values.reshape(-1,1))\n",
    "# X_cv_actv_pplmnth=ohe.transform(X_cv['pplmonth'].values.reshape(-1,1))\n",
    "# X_test_actv_pplmnth=ohe.transform(Test_dat['pplmonth'].values.reshape(-1,1))"
   ]
  },
  {
   "cell_type": "code",
   "execution_count": null,
   "metadata": {},
   "outputs": [],
   "source": [
    "# ohe=OneHotEncoder(handle_unknown='ignore')\n",
    "# ohe.fit(X_train['pplweek'].values.reshape(-1,1))\n",
    "\n",
    "# X_train_pplweek=ohe.transform(X_train['pplweek'].values.reshape(-1,1))\n",
    "# X_cv_actv_pplweek=ohe.transform(X_cv['pplweek'].values.reshape(-1,1))\n",
    "# X_test_actv_pplweek=ohe.transform(Test_dat['pplweek'].values.reshape(-1,1))"
   ]
  },
  {
   "cell_type": "code",
   "execution_count": null,
   "metadata": {},
   "outputs": [],
   "source": [
    "# ohe=OneHotEncoder(handle_unknown='ignore')\n",
    "# ohe.fit(X_train['pplyear'].values.reshape(-1,1))\n",
    "\n",
    "# X_train_pplyear=ohe.transform(X_train['pplyear'].values.reshape(-1,1))\n",
    "# X_cv_actv_pplyear=ohe.transform(X_cv['pplyear'].values.reshape(-1,1))\n",
    "# X_test_actv_pplyear=ohe.transform(Test_dat['pplyear'].values.reshape(-1,1))"
   ]
  },
  {
   "cell_type": "code",
   "execution_count": 231,
   "metadata": {},
   "outputs": [],
   "source": [
    "ohe=OneHotEncoder(handle_unknown='ignore')\n",
    "ohe.fit(X_train['weekend'].values.reshape(-1,1))\n",
    "\n",
    "X_train_weekend=ohe.transform(X_train['weekend'].values.reshape(-1,1))\n",
    "X_cv_actv_weekend=ohe.transform(X_cv['weekend'].values.reshape(-1,1))\n",
    "X_test_actv_weekend=ohe.transform(test_data_with_new_features['weekend'].values.reshape(-1,1))"
   ]
  },
  {
   "cell_type": "code",
   "execution_count": 234,
   "metadata": {},
   "outputs": [],
   "source": [
    "ohe=OneHotEncoder(handle_unknown='ignore')\n",
    "ohe.fit(X_train['act_date_qurtr'].values.reshape(-1,1))\n",
    "\n",
    "X_train_actvdtqrtr=ohe.transform(X_train['act_date_qurtr'].values.reshape(-1,1))\n",
    "X_cv_actv_actvdtqrtr=ohe.transform(X_cv['act_date_qurtr'].values.reshape(-1,1))\n",
    "X_test_actv_actvdtqrtr=ohe.transform(test_data_with_new_features['act_date_qurtr'].values.reshape(-1,1))"
   ]
  },
  {
   "attachments": {},
   "cell_type": "markdown",
   "metadata": {},
   "source": [
    "# Normalization"
   ]
  },
  {
   "cell_type": "code",
   "execution_count": 236,
   "metadata": {},
   "outputs": [],
   "source": [
    "from sklearn.preprocessing import Normalizer\n",
    "stdsclr = Normalizer()"
   ]
  },
  {
   "cell_type": "code",
   "execution_count": 237,
   "metadata": {},
   "outputs": [],
   "source": [
    "stdsclr.fit(X_train['ppl_char_38'].values.reshape(-1,1)) # finding the mean and standard deviation of this data\n",
    "#print(f\"Mean : {ppproj_scalar.mean_[0]}, Standard deviation : {np.sqrt(ppproj_scalar.var_[0])}\")\n",
    "# Now standardize the data with above maen and variance.\n",
    "X_train_ch38 = stdsclr.transform(X_train['ppl_char_38'].values.reshape(-1, 1))\n",
    "X_cv_ch38 = stdsclr.transform(X_cv['ppl_char_38'].values.reshape(-1, 1))\n",
    "X_test_ch38 = stdsclr.transform(test_data_with_new_features['ppl_char_38'].values.reshape(-1, 1))\n"
   ]
  },
  {
   "cell_type": "code",
   "execution_count": 238,
   "metadata": {},
   "outputs": [],
   "source": [
    "stdsclr.fit(X_train['group_ppl_cnt'].values.reshape(-1,1)) # finding the mean and standard deviation of this data\n",
    "#print(f\"Mean : {ppproj_scalar.mean_[0]}, Standard deviation : {np.sqrt(ppproj_scalar.var_[0])}\")\n",
    "# Now standardize the data with above maen and variance.\n",
    "X_train_grpplcnt = stdsclr.transform(X_train['group_ppl_cnt'].values.reshape(-1, 1))\n",
    "X_cv_grpplcnt = stdsclr.transform(X_cv['group_ppl_cnt'].values.reshape(-1, 1))\n",
    "X_test_grpplcnt = stdsclr.transform(test_data_with_new_features['group_ppl_cnt'].values.reshape(-1, 1))"
   ]
  },
  {
   "cell_type": "code",
   "execution_count": 239,
   "metadata": {},
   "outputs": [],
   "source": [
    "stdsclr.fit(X_train['days_from_min_dt_grp'].values.reshape(-1,1)) # finding the mean and standard deviation of this data\n",
    "#print(f\"Mean : {ppproj_scalar.mean_[0]}, Standard deviation : {np.sqrt(ppproj_scalar.var_[0])}\")\n",
    "# Now standardize the data with above maen and variance.\n",
    "X_train_daysfrmmindt = stdsclr.transform(X_train['days_from_min_dt_grp'].values.reshape(-1, 1))\n",
    "X_cv_daysfrmmindt = stdsclr.transform(X_cv['days_from_min_dt_grp'].values.reshape(-1, 1))\n",
    "X_test_daysfrmmindt = stdsclr.transform(test_data_with_new_features['days_from_min_dt_grp'].values.reshape(-1, 1))"
   ]
  },
  {
   "cell_type": "code",
   "execution_count": 240,
   "metadata": {},
   "outputs": [],
   "source": [
    "stdsclr.fit(X_train['days_from_max_dt_grp'].values.reshape(-1,1)) # finding the mean and standard deviation of this data\n",
    "#print(f\"Mean : {ppproj_scalar.mean_[0]}, Standard deviation : {np.sqrt(ppproj_scalar.var_[0])}\")\n",
    "# Now standardize the data with above maen and variance.\n",
    "X_train_daysfrmmaxdt = stdsclr.transform(X_train['days_from_max_dt_grp'].values.reshape(-1, 1))\n",
    "X_cv_daysfrmmaxdt = stdsclr.transform(X_cv['days_from_max_dt_grp'].values.reshape(-1, 1))\n",
    "X_test_daysfrmmaxdt = stdsclr.transform(test_data_with_new_features['days_from_max_dt_grp'].values.reshape(-1, 1))"
   ]
  },
  {
   "cell_type": "code",
   "execution_count": 241,
   "metadata": {},
   "outputs": [],
   "source": [
    "stdsclr.fit(X_train['group_activity_cnt'].values.reshape(-1,1)) # finding the mean and standard deviation of this data\n",
    "#print(f\"Mean : {ppproj_scalar.mean_[0]}, Standard deviation : {np.sqrt(ppproj_scalar.var_[0])}\")\n",
    "# Now standardize the data with above maen and variance.\n",
    "X_train_grpactvcnt = stdsclr.transform(X_train['group_activity_cnt'].values.reshape(-1, 1))\n",
    "X_cv_grpactvcnt = stdsclr.transform(X_cv['group_activity_cnt'].values.reshape(-1, 1))\n",
    "X_test_grpactvcnt = stdsclr.transform(test_data_with_new_features['group_activity_cnt'].values.reshape(-1, 1))"
   ]
  },
  {
   "cell_type": "code",
   "execution_count": 242,
   "metadata": {},
   "outputs": [],
   "source": [
    "stdsclr.fit(X_train['activt_per_ppl_cnt'].values.reshape(-1,1)) # finding the mean and standard deviation of this data\n",
    "#print(f\"Mean : {ppproj_scalar.mean_[0]}, Standard deviation : {np.sqrt(ppproj_scalar.var_[0])}\")\n",
    "# Now standardize the data with above maen and variance.\n",
    "X_train_actvpplcnt = stdsclr.transform(X_train['activt_per_ppl_cnt'].values.reshape(-1, 1))\n",
    "X_cv_actvpplcnt = stdsclr.transform(X_cv['activt_per_ppl_cnt'].values.reshape(-1, 1))\n",
    "X_test_actvpplcnt = stdsclr.transform(test_data_with_new_features['activt_per_ppl_cnt'].values.reshape(-1, 1))"
   ]
  },
  {
   "cell_type": "code",
   "execution_count": 243,
   "metadata": {},
   "outputs": [],
   "source": [
    "stdsclr.fit(X_train['ppl_actv_date_diff'].values.reshape(-1,1)) # finding the mean and standard deviation of this data\n",
    "#print(f\"Mean : {ppproj_scalar.mean_[0]}, Standard deviation : {np.sqrt(ppproj_scalar.var_[0])}\")\n",
    "# Now standardize the data with above maen and variance.\n",
    "X_train_pplactvdtdif = stdsclr.transform(X_train['ppl_actv_date_diff'].values.reshape(-1, 1))\n",
    "X_cv_pplactvdtdif = stdsclr.transform(X_cv['ppl_actv_date_diff'].values.reshape(-1, 1))\n",
    "X_test_pplactvdtdif = stdsclr.transform(test_data_with_new_features['ppl_actv_date_diff'].values.reshape(-1, 1))"
   ]
  },
  {
   "cell_type": "code",
   "execution_count": 258,
   "metadata": {},
   "outputs": [],
   "source": [
    "from scipy.sparse import hstack\n",
    "X_tr_S1 = hstack((X_train_actv_cat,X_train_actv_id,X_train_actv_day,X_train_actv_dayowek,X_train_actv_mnth,X_train_ch10x,X_train_ch10y,X_train_ch11,X_train_ch12,X_train_ch13,X_train_ch14,X_train_ch15,X_train_ch16,X_train_ch17,X_train_ch18,X_train_ch19,X_train_ch1x,X_train_ch1y,X_train_ch20,X_train_ch21,X_train_ch22,X_train_ch23,X_train_ch24,X_train_ch25,X_train_ch26,X_train_ch27,X_train_ch28,X_train_ch29,X_train_ch2x,X_train_ch2y,X_train_ch30,X_train_ch31,X_train_ch32,X_train_ch33,X_train_ch34,X_train_ch35,X_train_ch36,X_train_ch37,X_train_ch3x,X_train_ch3y,X_train_ch4x,X_train_ch4Y,X_train_ch5x,X_train_ch5y,X_train_ch6x,X_train_ch6y,X_train_ch7x,X_train_ch7y,X_train_ch8x,X_train_ch8y,X_train_ch9x,X_train_ch9y,X_train_grp1,X_train_pplid,X_train_weekend,X_train_actvdtqrtr,X_train_ch38,X_train_grpplcnt,X_train_daysfrmmindt,X_train_daysfrmmaxdt,X_train_grpactvcnt,X_train_actvpplcnt,X_train_pplactvdtdif)).tocsr()\n",
    "X_cr_S1 = hstack((X_cv_actv_cat,X_cv_actv_id,X_cv_actv_day,X_cv_actv_dayowek,X_cv_actv_mnth,X_cv_actv_ch10x,X_cv_actv_ch10y,X_cv_actv_ch11,X_cv_actv_ch12,X_cv_actv_ch13,X_cv_actv_ch14,X_cv_actv_ch15,X_cv_actv_ch16,X_cv_actv_ch17,X_cv_actv_ch18,X_cv_actv_ch19,X_cv_actv_ch1x,X_cv_actv_ch1y,X_cv_actv_ch20,X_cv_actv_ch21,X_cv_actv_ch22,X_cv_actv_ch23,X_cv_actv_ch24,X_cv_actv_ch25,X_cv_actv_ch26,X_cv_actv_ch27,X_cv_actv_ch28,X_cv_actv_ch29,X_cv_actv_ch2x,X_cv_actv_ch2y,X_cv_actv_ch30,X_cv_actv_ch31,X_cv_actv_ch32,X_cv_actv_ch33,X_cv_actv_ch34,X_cv_actv_ch35,X_cv_actv_ch36,X_cv_actv_ch37,X_cv_actv_ch3x,X_cv_actv_ch3y,X_cv_actv_ch4x,X_cv_actv_ch4y,X_cv_actv_ch5x,X_cv_actv_ch5y,X_cv_actv_ch6x,X_cv_actv_ch6y,X_cv_actv_ch7x,X_cv_actv_ch7y,X_cv_actv_ch8x,X_cv_actv_ch8y,X_cv_actv_ch9x,X_cv_actv_ch9y,X_cv_actv_grp1,X_cv_actv_pplid,X_cv_actv_weekend,X_cv_actv_actvdtqrtr,X_cv_ch38,X_cv_grpplcnt,X_cv_daysfrmmindt,X_cv_daysfrmmaxdt,X_cv_grpactvcnt,X_cv_actvpplcnt,X_cv_pplactvdtdif)).tocsr()\n",
    "X_te_S1 = hstack((X_test_actv_cat,X_test_actv_id,X_test_actv_day,X_test_actv_dayowek,X_test_actv_mnth,X_test_actv_ch10x,X_test_actv_ch10y,X_test_actv_ch11,X_test_actv_ch12,X_test_actv_ch13,X_test_actv_ch14,X_test_actv_ch15,X_test_actv_ch16,X_test_actv_ch17,X_test_actv_ch18,X_test_actv_ch19,X_test_actv_ch1x,X_test_actv_ch1y,X_test_actv_ch20,X_test_actv_ch21,X_test_actv_ch22,X_test_actv_ch23,X_test_actv_ch24,X_test_actv_ch25,X_test_actv_ch26,X_test_actv_ch27,X_test_actv_ch28,X_test_actv_ch29,X_test_actv_ch2x,X_test_actv_ch2y,X_test_actv_ch30,X_test_actv_ch31,X_test_actv_ch32,X_test_actv_ch33,X_test_actv_ch34,X_test_actv_ch35,X_test_actv_ch36,X_test_actv_ch37,X_test_actv_ch3x,X_test_actv_ch3y,X_test_actv_ch4x,X_test_actv_ch4y,X_test_actv_ch5x,X_test_actv_ch5y,X_test_actv_ch6x,X_test_actv_ch6y,X_test_actv_ch7x,X_test_actv_ch7y,X_test_actv_ch8x,X_test_actv_ch8y,X_test_actv_ch9x,X_test_actv_ch9y,X_test_actv_grp1,X_test_actv_pplid,X_test_actv_weekend,X_test_actv_actvdtqrtr,X_test_ch38,X_test_grpplcnt,X_test_daysfrmmindt,X_test_daysfrmmaxdt,X_test_grpactvcnt,X_test_actvpplcnt,X_test_pplactvdtdif)).tocsr()"
   ]
  },
  {
   "cell_type": "code",
   "execution_count": 259,
   "metadata": {},
   "outputs": [
    {
     "data": {
      "text/plain": [
       "(1710510, 1514807)"
      ]
     },
     "execution_count": 259,
     "metadata": {},
     "output_type": "execute_result"
    }
   ],
   "source": [
    "X_tr_S1.shape"
   ]
  },
  {
   "cell_type": "code",
   "execution_count": 260,
   "metadata": {},
   "outputs": [],
   "source": [
    "from sklearn.linear_model import SGDClassifier\n",
    "LR = SGDClassifier(loss='log',alpha=0.00001, n_iter_no_change=200,n_jobs=-1)\n",
    "LR.fit(X_tr_S1, y_train)\n",
    "\n",
    "y_test_pred = LR.predict(X_te_S1)"
   ]
  },
  {
   "cell_type": "code",
   "execution_count": null,
   "metadata": {},
   "outputs": [],
   "source": []
  }
 ],
 "metadata": {
  "kernelspec": {
   "display_name": "base",
   "language": "python",
   "name": "python3"
  },
  "language_info": {
   "codemirror_mode": {
    "name": "ipython",
    "version": 3
   },
   "file_extension": ".py",
   "mimetype": "text/x-python",
   "name": "python",
   "nbconvert_exporter": "python",
   "pygments_lexer": "ipython3",
   "version": "3.8.8"
  },
  "orig_nbformat": 4,
  "vscode": {
   "interpreter": {
    "hash": "38cca0c38332a56087b24af0bc80247f4fced29cb4f7f437d91dc159adec9c4e"
   }
  }
 },
 "nbformat": 4,
 "nbformat_minor": 2
}
