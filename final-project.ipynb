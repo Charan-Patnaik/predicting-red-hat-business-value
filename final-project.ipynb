{
 "cells": [
  {
   "cell_type": "code",
   "execution_count": 110,
   "metadata": {
    "pycharm": {
     "name": "#%%\n"
    }
   },
   "outputs": [],
   "source": [
    "import numpy as np\n",
    "import pandas as pd"
   ]
  },
  {
   "cell_type": "code",
   "execution_count": 111,
   "metadata": {
    "pycharm": {
     "name": "#%%\n"
    }
   },
   "outputs": [
    {
     "data": {
      "text/plain": "    people_id   activity_id        date activity_category   char_1   char_2  \\\n0  ppl_100004   act1_249281  2022-07-20            type 1   type 5  type 10   \n1  ppl_100004   act2_230855  2022-07-20            type 5      NaN      NaN   \n2   ppl_10001   act1_240724  2022-10-14            type 1  type 12   type 1   \n3   ppl_10001    act1_83552  2022-11-27            type 1  type 20  type 10   \n4   ppl_10001  act2_1043301  2022-10-15            type 5      NaN      NaN   \n\n   char_3  char_4  char_5  char_6  char_7   char_8   char_9    char_10  \n0  type 5  type 1  type 6  type 1  type 1   type 7   type 4        NaN  \n1     NaN     NaN     NaN     NaN     NaN      NaN      NaN   type 682  \n2  type 5  type 4  type 6  type 1  type 1  type 13  type 10        NaN  \n3  type 5  type 4  type 6  type 1  type 1   type 5   type 5        NaN  \n4     NaN     NaN     NaN     NaN     NaN      NaN      NaN  type 3015  ",
      "text/html": "<div>\n<style scoped>\n    .dataframe tbody tr th:only-of-type {\n        vertical-align: middle;\n    }\n\n    .dataframe tbody tr th {\n        vertical-align: top;\n    }\n\n    .dataframe thead th {\n        text-align: right;\n    }\n</style>\n<table border=\"1\" class=\"dataframe\">\n  <thead>\n    <tr style=\"text-align: right;\">\n      <th></th>\n      <th>people_id</th>\n      <th>activity_id</th>\n      <th>date</th>\n      <th>activity_category</th>\n      <th>char_1</th>\n      <th>char_2</th>\n      <th>char_3</th>\n      <th>char_4</th>\n      <th>char_5</th>\n      <th>char_6</th>\n      <th>char_7</th>\n      <th>char_8</th>\n      <th>char_9</th>\n      <th>char_10</th>\n    </tr>\n  </thead>\n  <tbody>\n    <tr>\n      <th>0</th>\n      <td>ppl_100004</td>\n      <td>act1_249281</td>\n      <td>2022-07-20</td>\n      <td>type 1</td>\n      <td>type 5</td>\n      <td>type 10</td>\n      <td>type 5</td>\n      <td>type 1</td>\n      <td>type 6</td>\n      <td>type 1</td>\n      <td>type 1</td>\n      <td>type 7</td>\n      <td>type 4</td>\n      <td>NaN</td>\n    </tr>\n    <tr>\n      <th>1</th>\n      <td>ppl_100004</td>\n      <td>act2_230855</td>\n      <td>2022-07-20</td>\n      <td>type 5</td>\n      <td>NaN</td>\n      <td>NaN</td>\n      <td>NaN</td>\n      <td>NaN</td>\n      <td>NaN</td>\n      <td>NaN</td>\n      <td>NaN</td>\n      <td>NaN</td>\n      <td>NaN</td>\n      <td>type 682</td>\n    </tr>\n    <tr>\n      <th>2</th>\n      <td>ppl_10001</td>\n      <td>act1_240724</td>\n      <td>2022-10-14</td>\n      <td>type 1</td>\n      <td>type 12</td>\n      <td>type 1</td>\n      <td>type 5</td>\n      <td>type 4</td>\n      <td>type 6</td>\n      <td>type 1</td>\n      <td>type 1</td>\n      <td>type 13</td>\n      <td>type 10</td>\n      <td>NaN</td>\n    </tr>\n    <tr>\n      <th>3</th>\n      <td>ppl_10001</td>\n      <td>act1_83552</td>\n      <td>2022-11-27</td>\n      <td>type 1</td>\n      <td>type 20</td>\n      <td>type 10</td>\n      <td>type 5</td>\n      <td>type 4</td>\n      <td>type 6</td>\n      <td>type 1</td>\n      <td>type 1</td>\n      <td>type 5</td>\n      <td>type 5</td>\n      <td>NaN</td>\n    </tr>\n    <tr>\n      <th>4</th>\n      <td>ppl_10001</td>\n      <td>act2_1043301</td>\n      <td>2022-10-15</td>\n      <td>type 5</td>\n      <td>NaN</td>\n      <td>NaN</td>\n      <td>NaN</td>\n      <td>NaN</td>\n      <td>NaN</td>\n      <td>NaN</td>\n      <td>NaN</td>\n      <td>NaN</td>\n      <td>NaN</td>\n      <td>type 3015</td>\n    </tr>\n  </tbody>\n</table>\n</div>"
     },
     "execution_count": 111,
     "metadata": {},
     "output_type": "execute_result"
    }
   ],
   "source": [
    "test_df = pd.read_csv('./Data/act_test.csv')\n",
    "test_df.head()"
   ]
  },
  {
   "cell_type": "code",
   "execution_count": 112,
   "metadata": {
    "pycharm": {
     "name": "#%%\n"
    }
   },
   "outputs": [
    {
     "data": {
      "text/plain": "  people_id   activity_id        date activity_category char_1 char_2 char_3  \\\n0   ppl_100  act2_1734928  2023-08-26            type 4    NaN    NaN    NaN   \n1   ppl_100  act2_2434093  2022-09-27            type 2    NaN    NaN    NaN   \n2   ppl_100  act2_3404049  2022-09-27            type 2    NaN    NaN    NaN   \n3   ppl_100  act2_3651215  2023-08-04            type 2    NaN    NaN    NaN   \n4   ppl_100  act2_4109017  2023-08-26            type 2    NaN    NaN    NaN   \n\n  char_4 char_5 char_6 char_7 char_8 char_9  char_10  outcome  \n0    NaN    NaN    NaN    NaN    NaN    NaN  type 76        0  \n1    NaN    NaN    NaN    NaN    NaN    NaN   type 1        0  \n2    NaN    NaN    NaN    NaN    NaN    NaN   type 1        0  \n3    NaN    NaN    NaN    NaN    NaN    NaN   type 1        0  \n4    NaN    NaN    NaN    NaN    NaN    NaN   type 1        0  ",
      "text/html": "<div>\n<style scoped>\n    .dataframe tbody tr th:only-of-type {\n        vertical-align: middle;\n    }\n\n    .dataframe tbody tr th {\n        vertical-align: top;\n    }\n\n    .dataframe thead th {\n        text-align: right;\n    }\n</style>\n<table border=\"1\" class=\"dataframe\">\n  <thead>\n    <tr style=\"text-align: right;\">\n      <th></th>\n      <th>people_id</th>\n      <th>activity_id</th>\n      <th>date</th>\n      <th>activity_category</th>\n      <th>char_1</th>\n      <th>char_2</th>\n      <th>char_3</th>\n      <th>char_4</th>\n      <th>char_5</th>\n      <th>char_6</th>\n      <th>char_7</th>\n      <th>char_8</th>\n      <th>char_9</th>\n      <th>char_10</th>\n      <th>outcome</th>\n    </tr>\n  </thead>\n  <tbody>\n    <tr>\n      <th>0</th>\n      <td>ppl_100</td>\n      <td>act2_1734928</td>\n      <td>2023-08-26</td>\n      <td>type 4</td>\n      <td>NaN</td>\n      <td>NaN</td>\n      <td>NaN</td>\n      <td>NaN</td>\n      <td>NaN</td>\n      <td>NaN</td>\n      <td>NaN</td>\n      <td>NaN</td>\n      <td>NaN</td>\n      <td>type 76</td>\n      <td>0</td>\n    </tr>\n    <tr>\n      <th>1</th>\n      <td>ppl_100</td>\n      <td>act2_2434093</td>\n      <td>2022-09-27</td>\n      <td>type 2</td>\n      <td>NaN</td>\n      <td>NaN</td>\n      <td>NaN</td>\n      <td>NaN</td>\n      <td>NaN</td>\n      <td>NaN</td>\n      <td>NaN</td>\n      <td>NaN</td>\n      <td>NaN</td>\n      <td>type 1</td>\n      <td>0</td>\n    </tr>\n    <tr>\n      <th>2</th>\n      <td>ppl_100</td>\n      <td>act2_3404049</td>\n      <td>2022-09-27</td>\n      <td>type 2</td>\n      <td>NaN</td>\n      <td>NaN</td>\n      <td>NaN</td>\n      <td>NaN</td>\n      <td>NaN</td>\n      <td>NaN</td>\n      <td>NaN</td>\n      <td>NaN</td>\n      <td>NaN</td>\n      <td>type 1</td>\n      <td>0</td>\n    </tr>\n    <tr>\n      <th>3</th>\n      <td>ppl_100</td>\n      <td>act2_3651215</td>\n      <td>2023-08-04</td>\n      <td>type 2</td>\n      <td>NaN</td>\n      <td>NaN</td>\n      <td>NaN</td>\n      <td>NaN</td>\n      <td>NaN</td>\n      <td>NaN</td>\n      <td>NaN</td>\n      <td>NaN</td>\n      <td>NaN</td>\n      <td>type 1</td>\n      <td>0</td>\n    </tr>\n    <tr>\n      <th>4</th>\n      <td>ppl_100</td>\n      <td>act2_4109017</td>\n      <td>2023-08-26</td>\n      <td>type 2</td>\n      <td>NaN</td>\n      <td>NaN</td>\n      <td>NaN</td>\n      <td>NaN</td>\n      <td>NaN</td>\n      <td>NaN</td>\n      <td>NaN</td>\n      <td>NaN</td>\n      <td>NaN</td>\n      <td>type 1</td>\n      <td>0</td>\n    </tr>\n  </tbody>\n</table>\n</div>"
     },
     "execution_count": 112,
     "metadata": {},
     "output_type": "execute_result"
    }
   ],
   "source": [
    "train_df = pd.read_csv('./Data/act_train.csv')\n",
    "train_df.head()"
   ]
  },
  {
   "cell_type": "code",
   "execution_count": 113,
   "metadata": {
    "pycharm": {
     "name": "#%%\n"
    }
   },
   "outputs": [
    {
     "data": {
      "text/plain": "    people_id  char_1      group_1  char_2        date   char_3   char_4  \\\n0     ppl_100  type 2  group 17304  type 2  2021-06-29   type 5   type 5   \n1  ppl_100002  type 2   group 8688  type 3  2021-01-06  type 28   type 9   \n2  ppl_100003  type 2  group 33592  type 3  2022-06-10   type 4   type 8   \n3  ppl_100004  type 2  group 22593  type 3  2022-07-20  type 40  type 25   \n4  ppl_100006  type 2   group 6534  type 3  2022-07-27  type 40  type 25   \n\n   char_5  char_6   char_7  ... char_29 char_30  char_31  char_32  char_33  \\\n0  type 5  type 3  type 11  ...   False    True     True    False    False   \n1  type 5  type 3  type 11  ...   False    True     True     True     True   \n2  type 5  type 2   type 5  ...   False   False     True     True     True   \n3  type 9  type 4  type 16  ...    True    True     True     True     True   \n4  type 9  type 3   type 8  ...   False   False     True    False    False   \n\n   char_34  char_35  char_36  char_37  char_38  \n0     True     True     True    False       36  \n1     True     True     True    False       76  \n2     True    False     True     True       99  \n3     True     True     True     True       76  \n4    False     True     True    False       84  \n\n[5 rows x 41 columns]",
      "text/html": "<div>\n<style scoped>\n    .dataframe tbody tr th:only-of-type {\n        vertical-align: middle;\n    }\n\n    .dataframe tbody tr th {\n        vertical-align: top;\n    }\n\n    .dataframe thead th {\n        text-align: right;\n    }\n</style>\n<table border=\"1\" class=\"dataframe\">\n  <thead>\n    <tr style=\"text-align: right;\">\n      <th></th>\n      <th>people_id</th>\n      <th>char_1</th>\n      <th>group_1</th>\n      <th>char_2</th>\n      <th>date</th>\n      <th>char_3</th>\n      <th>char_4</th>\n      <th>char_5</th>\n      <th>char_6</th>\n      <th>char_7</th>\n      <th>...</th>\n      <th>char_29</th>\n      <th>char_30</th>\n      <th>char_31</th>\n      <th>char_32</th>\n      <th>char_33</th>\n      <th>char_34</th>\n      <th>char_35</th>\n      <th>char_36</th>\n      <th>char_37</th>\n      <th>char_38</th>\n    </tr>\n  </thead>\n  <tbody>\n    <tr>\n      <th>0</th>\n      <td>ppl_100</td>\n      <td>type 2</td>\n      <td>group 17304</td>\n      <td>type 2</td>\n      <td>2021-06-29</td>\n      <td>type 5</td>\n      <td>type 5</td>\n      <td>type 5</td>\n      <td>type 3</td>\n      <td>type 11</td>\n      <td>...</td>\n      <td>False</td>\n      <td>True</td>\n      <td>True</td>\n      <td>False</td>\n      <td>False</td>\n      <td>True</td>\n      <td>True</td>\n      <td>True</td>\n      <td>False</td>\n      <td>36</td>\n    </tr>\n    <tr>\n      <th>1</th>\n      <td>ppl_100002</td>\n      <td>type 2</td>\n      <td>group 8688</td>\n      <td>type 3</td>\n      <td>2021-01-06</td>\n      <td>type 28</td>\n      <td>type 9</td>\n      <td>type 5</td>\n      <td>type 3</td>\n      <td>type 11</td>\n      <td>...</td>\n      <td>False</td>\n      <td>True</td>\n      <td>True</td>\n      <td>True</td>\n      <td>True</td>\n      <td>True</td>\n      <td>True</td>\n      <td>True</td>\n      <td>False</td>\n      <td>76</td>\n    </tr>\n    <tr>\n      <th>2</th>\n      <td>ppl_100003</td>\n      <td>type 2</td>\n      <td>group 33592</td>\n      <td>type 3</td>\n      <td>2022-06-10</td>\n      <td>type 4</td>\n      <td>type 8</td>\n      <td>type 5</td>\n      <td>type 2</td>\n      <td>type 5</td>\n      <td>...</td>\n      <td>False</td>\n      <td>False</td>\n      <td>True</td>\n      <td>True</td>\n      <td>True</td>\n      <td>True</td>\n      <td>False</td>\n      <td>True</td>\n      <td>True</td>\n      <td>99</td>\n    </tr>\n    <tr>\n      <th>3</th>\n      <td>ppl_100004</td>\n      <td>type 2</td>\n      <td>group 22593</td>\n      <td>type 3</td>\n      <td>2022-07-20</td>\n      <td>type 40</td>\n      <td>type 25</td>\n      <td>type 9</td>\n      <td>type 4</td>\n      <td>type 16</td>\n      <td>...</td>\n      <td>True</td>\n      <td>True</td>\n      <td>True</td>\n      <td>True</td>\n      <td>True</td>\n      <td>True</td>\n      <td>True</td>\n      <td>True</td>\n      <td>True</td>\n      <td>76</td>\n    </tr>\n    <tr>\n      <th>4</th>\n      <td>ppl_100006</td>\n      <td>type 2</td>\n      <td>group 6534</td>\n      <td>type 3</td>\n      <td>2022-07-27</td>\n      <td>type 40</td>\n      <td>type 25</td>\n      <td>type 9</td>\n      <td>type 3</td>\n      <td>type 8</td>\n      <td>...</td>\n      <td>False</td>\n      <td>False</td>\n      <td>True</td>\n      <td>False</td>\n      <td>False</td>\n      <td>False</td>\n      <td>True</td>\n      <td>True</td>\n      <td>False</td>\n      <td>84</td>\n    </tr>\n  </tbody>\n</table>\n<p>5 rows × 41 columns</p>\n</div>"
     },
     "execution_count": 113,
     "metadata": {},
     "output_type": "execute_result"
    }
   ],
   "source": [
    "people_df = pd.read_csv('./Data/people.csv')\n",
    "people_df.head()"
   ]
  },
  {
   "cell_type": "markdown",
   "source": [
    "## Preprocessing the Input data sets"
   ],
   "metadata": {
    "collapsed": false,
    "pycharm": {
     "name": "#%% md\n"
    }
   }
  },
  {
   "cell_type": "code",
   "execution_count": 114,
   "outputs": [],
   "source": [
    "# since the data columns are similar in\n",
    "people_df['date'] = pd.to_datetime(people_df['date'])\n",
    "train_df['date'] = pd.to_datetime(train_df['date'])\n",
    "test_df['date'] = pd.to_datetime(test_df['date'])"
   ],
   "metadata": {
    "collapsed": false,
    "pycharm": {
     "name": "#%%\n"
    }
   }
  },
  {
   "cell_type": "code",
   "execution_count": 81,
   "outputs": [],
   "source": [
    "# Convert similarly named terms in the two datasets ...\n",
    "# ppl = people_df.rename(columns=dict({name: '_'.join(['ppl', name]) for name in people_df.columns if 'char' in name},\n",
    "#                                     **{'date': 'ppl_date', 'group_1': 'ppl_group', 'people_id': 'ppl_id'}))"
   ],
   "metadata": {
    "collapsed": false,
    "pycharm": {
     "name": "#%%\n"
    }
   }
  },
  {
   "cell_type": "code",
   "execution_count": 115,
   "outputs": [],
   "source": [
    "# activ = train_df.rename(columns=dict({name: '_'.join(['act', name]) for name in train_df.columns if 'char' in name},\n",
    "#                                      **{'activity_category': 'act_category', 'date': 'act_date',\n",
    "#                                         'activity_id': 'act_id', 'outcome': 'act_outcome', 'people_id': 'ppl_id'}))\n",
    "# activ.columns"
   ],
   "metadata": {
    "collapsed": false,
    "pycharm": {
     "name": "#%%\n"
    }
   }
  },
  {
   "cell_type": "code",
   "execution_count": 116,
   "outputs": [
    {
     "data": {
      "text/plain": "         people_id  char_1      group_1  char_2       date   char_3   char_4  \\\n0          ppl_100  type 2  group 17304  type 2 2021-06-29   type 5   type 5   \n1       ppl_100002  type 2   group 8688  type 3 2021-01-06  type 28   type 9   \n2       ppl_100003  type 2  group 33592  type 3 2022-06-10   type 4   type 8   \n3       ppl_100004  type 2  group 22593  type 3 2022-07-20  type 40  type 25   \n4       ppl_100006  type 2   group 6534  type 3 2022-07-27  type 40  type 25   \n...            ...     ...          ...     ...        ...      ...      ...   \n189113   ppl_99987  type 1   group 8600  type 1 2022-04-02   type 4   type 6   \n189114    ppl_9999  type 2  group 17304  type 2 2023-02-23   type 6   type 2   \n189115   ppl_99992  type 2  group 17304  type 2 2020-06-25   type 5   type 5   \n189116   ppl_99994  type 2  group 17764  type 3 2023-01-06   type 2   type 7   \n189117   ppl_99997  type 2  group 17304  type 2 2022-03-12  type 40  type 25   \n\n        char_5  char_6   char_7  ... char_29 char_30  char_31  char_32  \\\n0       type 5  type 3  type 11  ...   False    True     True    False   \n1       type 5  type 3  type 11  ...   False    True     True     True   \n2       type 5  type 2   type 5  ...   False   False     True     True   \n3       type 9  type 4  type 16  ...    True    True     True     True   \n4       type 9  type 3   type 8  ...   False   False     True    False   \n...        ...     ...      ...  ...     ...     ...      ...      ...   \n189113  type 4  type 3  type 11  ...   False   False    False     True   \n189114  type 8  type 3  type 11  ...   False   False    False    False   \n189115  type 3  type 4  type 16  ...   False   False    False    False   \n189116  type 2  type 1   type 2  ...    True    True     True     True   \n189117  type 9  type 3   type 8  ...   False   False    False    False   \n\n        char_33  char_34  char_35  char_36  char_37  char_38  \n0         False     True     True     True    False       36  \n1          True     True     True     True    False       76  \n2          True     True    False     True     True       99  \n3          True     True     True     True     True       76  \n4         False    False     True     True    False       84  \n...         ...      ...      ...      ...      ...      ...  \n189113    False     True    False     True     True       89  \n189114    False    False    False    False    False        0  \n189115    False    False    False    False    False        0  \n189116    False     True     True     True     True       95  \n189117    False    False    False    False    False       36  \n\n[189118 rows x 41 columns]",
      "text/html": "<div>\n<style scoped>\n    .dataframe tbody tr th:only-of-type {\n        vertical-align: middle;\n    }\n\n    .dataframe tbody tr th {\n        vertical-align: top;\n    }\n\n    .dataframe thead th {\n        text-align: right;\n    }\n</style>\n<table border=\"1\" class=\"dataframe\">\n  <thead>\n    <tr style=\"text-align: right;\">\n      <th></th>\n      <th>people_id</th>\n      <th>char_1</th>\n      <th>group_1</th>\n      <th>char_2</th>\n      <th>date</th>\n      <th>char_3</th>\n      <th>char_4</th>\n      <th>char_5</th>\n      <th>char_6</th>\n      <th>char_7</th>\n      <th>...</th>\n      <th>char_29</th>\n      <th>char_30</th>\n      <th>char_31</th>\n      <th>char_32</th>\n      <th>char_33</th>\n      <th>char_34</th>\n      <th>char_35</th>\n      <th>char_36</th>\n      <th>char_37</th>\n      <th>char_38</th>\n    </tr>\n  </thead>\n  <tbody>\n    <tr>\n      <th>0</th>\n      <td>ppl_100</td>\n      <td>type 2</td>\n      <td>group 17304</td>\n      <td>type 2</td>\n      <td>2021-06-29</td>\n      <td>type 5</td>\n      <td>type 5</td>\n      <td>type 5</td>\n      <td>type 3</td>\n      <td>type 11</td>\n      <td>...</td>\n      <td>False</td>\n      <td>True</td>\n      <td>True</td>\n      <td>False</td>\n      <td>False</td>\n      <td>True</td>\n      <td>True</td>\n      <td>True</td>\n      <td>False</td>\n      <td>36</td>\n    </tr>\n    <tr>\n      <th>1</th>\n      <td>ppl_100002</td>\n      <td>type 2</td>\n      <td>group 8688</td>\n      <td>type 3</td>\n      <td>2021-01-06</td>\n      <td>type 28</td>\n      <td>type 9</td>\n      <td>type 5</td>\n      <td>type 3</td>\n      <td>type 11</td>\n      <td>...</td>\n      <td>False</td>\n      <td>True</td>\n      <td>True</td>\n      <td>True</td>\n      <td>True</td>\n      <td>True</td>\n      <td>True</td>\n      <td>True</td>\n      <td>False</td>\n      <td>76</td>\n    </tr>\n    <tr>\n      <th>2</th>\n      <td>ppl_100003</td>\n      <td>type 2</td>\n      <td>group 33592</td>\n      <td>type 3</td>\n      <td>2022-06-10</td>\n      <td>type 4</td>\n      <td>type 8</td>\n      <td>type 5</td>\n      <td>type 2</td>\n      <td>type 5</td>\n      <td>...</td>\n      <td>False</td>\n      <td>False</td>\n      <td>True</td>\n      <td>True</td>\n      <td>True</td>\n      <td>True</td>\n      <td>False</td>\n      <td>True</td>\n      <td>True</td>\n      <td>99</td>\n    </tr>\n    <tr>\n      <th>3</th>\n      <td>ppl_100004</td>\n      <td>type 2</td>\n      <td>group 22593</td>\n      <td>type 3</td>\n      <td>2022-07-20</td>\n      <td>type 40</td>\n      <td>type 25</td>\n      <td>type 9</td>\n      <td>type 4</td>\n      <td>type 16</td>\n      <td>...</td>\n      <td>True</td>\n      <td>True</td>\n      <td>True</td>\n      <td>True</td>\n      <td>True</td>\n      <td>True</td>\n      <td>True</td>\n      <td>True</td>\n      <td>True</td>\n      <td>76</td>\n    </tr>\n    <tr>\n      <th>4</th>\n      <td>ppl_100006</td>\n      <td>type 2</td>\n      <td>group 6534</td>\n      <td>type 3</td>\n      <td>2022-07-27</td>\n      <td>type 40</td>\n      <td>type 25</td>\n      <td>type 9</td>\n      <td>type 3</td>\n      <td>type 8</td>\n      <td>...</td>\n      <td>False</td>\n      <td>False</td>\n      <td>True</td>\n      <td>False</td>\n      <td>False</td>\n      <td>False</td>\n      <td>True</td>\n      <td>True</td>\n      <td>False</td>\n      <td>84</td>\n    </tr>\n    <tr>\n      <th>...</th>\n      <td>...</td>\n      <td>...</td>\n      <td>...</td>\n      <td>...</td>\n      <td>...</td>\n      <td>...</td>\n      <td>...</td>\n      <td>...</td>\n      <td>...</td>\n      <td>...</td>\n      <td>...</td>\n      <td>...</td>\n      <td>...</td>\n      <td>...</td>\n      <td>...</td>\n      <td>...</td>\n      <td>...</td>\n      <td>...</td>\n      <td>...</td>\n      <td>...</td>\n      <td>...</td>\n    </tr>\n    <tr>\n      <th>189113</th>\n      <td>ppl_99987</td>\n      <td>type 1</td>\n      <td>group 8600</td>\n      <td>type 1</td>\n      <td>2022-04-02</td>\n      <td>type 4</td>\n      <td>type 6</td>\n      <td>type 4</td>\n      <td>type 3</td>\n      <td>type 11</td>\n      <td>...</td>\n      <td>False</td>\n      <td>False</td>\n      <td>False</td>\n      <td>True</td>\n      <td>False</td>\n      <td>True</td>\n      <td>False</td>\n      <td>True</td>\n      <td>True</td>\n      <td>89</td>\n    </tr>\n    <tr>\n      <th>189114</th>\n      <td>ppl_9999</td>\n      <td>type 2</td>\n      <td>group 17304</td>\n      <td>type 2</td>\n      <td>2023-02-23</td>\n      <td>type 6</td>\n      <td>type 2</td>\n      <td>type 8</td>\n      <td>type 3</td>\n      <td>type 11</td>\n      <td>...</td>\n      <td>False</td>\n      <td>False</td>\n      <td>False</td>\n      <td>False</td>\n      <td>False</td>\n      <td>False</td>\n      <td>False</td>\n      <td>False</td>\n      <td>False</td>\n      <td>0</td>\n    </tr>\n    <tr>\n      <th>189115</th>\n      <td>ppl_99992</td>\n      <td>type 2</td>\n      <td>group 17304</td>\n      <td>type 2</td>\n      <td>2020-06-25</td>\n      <td>type 5</td>\n      <td>type 5</td>\n      <td>type 3</td>\n      <td>type 4</td>\n      <td>type 16</td>\n      <td>...</td>\n      <td>False</td>\n      <td>False</td>\n      <td>False</td>\n      <td>False</td>\n      <td>False</td>\n      <td>False</td>\n      <td>False</td>\n      <td>False</td>\n      <td>False</td>\n      <td>0</td>\n    </tr>\n    <tr>\n      <th>189116</th>\n      <td>ppl_99994</td>\n      <td>type 2</td>\n      <td>group 17764</td>\n      <td>type 3</td>\n      <td>2023-01-06</td>\n      <td>type 2</td>\n      <td>type 7</td>\n      <td>type 2</td>\n      <td>type 1</td>\n      <td>type 2</td>\n      <td>...</td>\n      <td>True</td>\n      <td>True</td>\n      <td>True</td>\n      <td>True</td>\n      <td>False</td>\n      <td>True</td>\n      <td>True</td>\n      <td>True</td>\n      <td>True</td>\n      <td>95</td>\n    </tr>\n    <tr>\n      <th>189117</th>\n      <td>ppl_99997</td>\n      <td>type 2</td>\n      <td>group 17304</td>\n      <td>type 2</td>\n      <td>2022-03-12</td>\n      <td>type 40</td>\n      <td>type 25</td>\n      <td>type 9</td>\n      <td>type 3</td>\n      <td>type 8</td>\n      <td>...</td>\n      <td>False</td>\n      <td>False</td>\n      <td>False</td>\n      <td>False</td>\n      <td>False</td>\n      <td>False</td>\n      <td>False</td>\n      <td>False</td>\n      <td>False</td>\n      <td>36</td>\n    </tr>\n  </tbody>\n</table>\n<p>189118 rows × 41 columns</p>\n</div>"
     },
     "execution_count": 116,
     "metadata": {},
     "output_type": "execute_result"
    }
   ],
   "source": [
    "people_df"
   ],
   "metadata": {
    "collapsed": false,
    "pycharm": {
     "name": "#%%\n"
    }
   }
  },
  {
   "cell_type": "code",
   "execution_count": 116,
   "outputs": [],
   "source": [],
   "metadata": {
    "collapsed": false,
    "pycharm": {
     "name": "#%%\n"
    }
   }
  },
  {
   "cell_type": "code",
   "execution_count": 117,
   "outputs": [
    {
     "data": {
      "text/plain": "Index(['people_id', 'activity_id', 'date', 'activity_category', 'char_1',\n       'char_2', 'char_3', 'char_4', 'char_5', 'char_6', 'char_7', 'char_8',\n       'char_9', 'char_10', 'outcome'],\n      dtype='object')"
     },
     "execution_count": 117,
     "metadata": {},
     "output_type": "execute_result"
    }
   ],
   "source": [
    "train_df.columns"
   ],
   "metadata": {
    "collapsed": false,
    "pycharm": {
     "name": "#%%\n"
    }
   }
  },
  {
   "cell_type": "code",
   "execution_count": 118,
   "outputs": [],
   "source": [
    "## Renaming the similarly named columns keeping primary and foreign key consistent :\n",
    "people_df.columns = ['ppl_' + str(col) for col in people_df.columns]\n",
    "people_df.rename(columns={'ppl_people_id': 'people_id', 'ppl_group_1': 'ppl_group'}, inplace=True)\n",
    "train_df.columns = ['act_' + str(col) for col in train_df.columns]\n",
    "train_df.rename(columns={'act_people_id': 'people_id', 'act_activity_category': 'activity_category',\n",
    "                         'act_activity_id': 'activity_id', 'act_outcome': 'outcome'}, inplace=True)\n",
    "test_df.columns = ['act_' + str(col) for col in test_df.columns]\n",
    "test_df.rename(columns={'act_people_id': 'people_id', 'act_activity_category': 'activity_category',\n",
    "                        'act_activity_id': 'activity_id', 'act_outcome': 'outcome'}, inplace=True)\n"
   ],
   "metadata": {
    "collapsed": false,
    "pycharm": {
     "name": "#%%\n"
    }
   }
  },
  {
   "cell_type": "code",
   "execution_count": 119,
   "outputs": [
    {
     "data": {
      "text/plain": "    people_id ppl_char_1    ppl_group ppl_char_2   ppl_date ppl_char_3  \\\n0     ppl_100     type 2  group 17304     type 2 2021-06-29     type 5   \n1  ppl_100002     type 2   group 8688     type 3 2021-01-06    type 28   \n2  ppl_100003     type 2  group 33592     type 3 2022-06-10     type 4   \n3  ppl_100004     type 2  group 22593     type 3 2022-07-20    type 40   \n4  ppl_100006     type 2   group 6534     type 3 2022-07-27    type 40   \n\n  ppl_char_4 ppl_char_5 ppl_char_6 ppl_char_7  ... ppl_char_29 ppl_char_30  \\\n0     type 5     type 5     type 3    type 11  ...       False        True   \n1     type 9     type 5     type 3    type 11  ...       False        True   \n2     type 8     type 5     type 2     type 5  ...       False       False   \n3    type 25     type 9     type 4    type 16  ...        True        True   \n4    type 25     type 9     type 3     type 8  ...       False       False   \n\n   ppl_char_31  ppl_char_32  ppl_char_33  ppl_char_34  ppl_char_35  \\\n0         True        False        False         True         True   \n1         True         True         True         True         True   \n2         True         True         True         True        False   \n3         True         True         True         True         True   \n4         True        False        False        False         True   \n\n   ppl_char_36  ppl_char_37  ppl_char_38  \n0         True        False           36  \n1         True        False           76  \n2         True         True           99  \n3         True         True           76  \n4         True        False           84  \n\n[5 rows x 41 columns]",
      "text/html": "<div>\n<style scoped>\n    .dataframe tbody tr th:only-of-type {\n        vertical-align: middle;\n    }\n\n    .dataframe tbody tr th {\n        vertical-align: top;\n    }\n\n    .dataframe thead th {\n        text-align: right;\n    }\n</style>\n<table border=\"1\" class=\"dataframe\">\n  <thead>\n    <tr style=\"text-align: right;\">\n      <th></th>\n      <th>people_id</th>\n      <th>ppl_char_1</th>\n      <th>ppl_group</th>\n      <th>ppl_char_2</th>\n      <th>ppl_date</th>\n      <th>ppl_char_3</th>\n      <th>ppl_char_4</th>\n      <th>ppl_char_5</th>\n      <th>ppl_char_6</th>\n      <th>ppl_char_7</th>\n      <th>...</th>\n      <th>ppl_char_29</th>\n      <th>ppl_char_30</th>\n      <th>ppl_char_31</th>\n      <th>ppl_char_32</th>\n      <th>ppl_char_33</th>\n      <th>ppl_char_34</th>\n      <th>ppl_char_35</th>\n      <th>ppl_char_36</th>\n      <th>ppl_char_37</th>\n      <th>ppl_char_38</th>\n    </tr>\n  </thead>\n  <tbody>\n    <tr>\n      <th>0</th>\n      <td>ppl_100</td>\n      <td>type 2</td>\n      <td>group 17304</td>\n      <td>type 2</td>\n      <td>2021-06-29</td>\n      <td>type 5</td>\n      <td>type 5</td>\n      <td>type 5</td>\n      <td>type 3</td>\n      <td>type 11</td>\n      <td>...</td>\n      <td>False</td>\n      <td>True</td>\n      <td>True</td>\n      <td>False</td>\n      <td>False</td>\n      <td>True</td>\n      <td>True</td>\n      <td>True</td>\n      <td>False</td>\n      <td>36</td>\n    </tr>\n    <tr>\n      <th>1</th>\n      <td>ppl_100002</td>\n      <td>type 2</td>\n      <td>group 8688</td>\n      <td>type 3</td>\n      <td>2021-01-06</td>\n      <td>type 28</td>\n      <td>type 9</td>\n      <td>type 5</td>\n      <td>type 3</td>\n      <td>type 11</td>\n      <td>...</td>\n      <td>False</td>\n      <td>True</td>\n      <td>True</td>\n      <td>True</td>\n      <td>True</td>\n      <td>True</td>\n      <td>True</td>\n      <td>True</td>\n      <td>False</td>\n      <td>76</td>\n    </tr>\n    <tr>\n      <th>2</th>\n      <td>ppl_100003</td>\n      <td>type 2</td>\n      <td>group 33592</td>\n      <td>type 3</td>\n      <td>2022-06-10</td>\n      <td>type 4</td>\n      <td>type 8</td>\n      <td>type 5</td>\n      <td>type 2</td>\n      <td>type 5</td>\n      <td>...</td>\n      <td>False</td>\n      <td>False</td>\n      <td>True</td>\n      <td>True</td>\n      <td>True</td>\n      <td>True</td>\n      <td>False</td>\n      <td>True</td>\n      <td>True</td>\n      <td>99</td>\n    </tr>\n    <tr>\n      <th>3</th>\n      <td>ppl_100004</td>\n      <td>type 2</td>\n      <td>group 22593</td>\n      <td>type 3</td>\n      <td>2022-07-20</td>\n      <td>type 40</td>\n      <td>type 25</td>\n      <td>type 9</td>\n      <td>type 4</td>\n      <td>type 16</td>\n      <td>...</td>\n      <td>True</td>\n      <td>True</td>\n      <td>True</td>\n      <td>True</td>\n      <td>True</td>\n      <td>True</td>\n      <td>True</td>\n      <td>True</td>\n      <td>True</td>\n      <td>76</td>\n    </tr>\n    <tr>\n      <th>4</th>\n      <td>ppl_100006</td>\n      <td>type 2</td>\n      <td>group 6534</td>\n      <td>type 3</td>\n      <td>2022-07-27</td>\n      <td>type 40</td>\n      <td>type 25</td>\n      <td>type 9</td>\n      <td>type 3</td>\n      <td>type 8</td>\n      <td>...</td>\n      <td>False</td>\n      <td>False</td>\n      <td>True</td>\n      <td>False</td>\n      <td>False</td>\n      <td>False</td>\n      <td>True</td>\n      <td>True</td>\n      <td>False</td>\n      <td>84</td>\n    </tr>\n  </tbody>\n</table>\n<p>5 rows × 41 columns</p>\n</div>"
     },
     "execution_count": 119,
     "metadata": {},
     "output_type": "execute_result"
    }
   ],
   "source": [
    "people_df.head()"
   ],
   "metadata": {
    "collapsed": false,
    "pycharm": {
     "name": "#%%\n"
    }
   }
  },
  {
   "cell_type": "code",
   "execution_count": 120,
   "outputs": [
    {
     "data": {
      "text/plain": "  people_id   activity_id   act_date activity_category act_char_1 act_char_2  \\\n0   ppl_100  act2_1734928 2023-08-26            type 4        NaN        NaN   \n1   ppl_100  act2_2434093 2022-09-27            type 2        NaN        NaN   \n2   ppl_100  act2_3404049 2022-09-27            type 2        NaN        NaN   \n3   ppl_100  act2_3651215 2023-08-04            type 2        NaN        NaN   \n4   ppl_100  act2_4109017 2023-08-26            type 2        NaN        NaN   \n\n  act_char_3 act_char_4 act_char_5 act_char_6 act_char_7 act_char_8  \\\n0        NaN        NaN        NaN        NaN        NaN        NaN   \n1        NaN        NaN        NaN        NaN        NaN        NaN   \n2        NaN        NaN        NaN        NaN        NaN        NaN   \n3        NaN        NaN        NaN        NaN        NaN        NaN   \n4        NaN        NaN        NaN        NaN        NaN        NaN   \n\n  act_char_9 act_char_10  outcome  \n0        NaN     type 76        0  \n1        NaN      type 1        0  \n2        NaN      type 1        0  \n3        NaN      type 1        0  \n4        NaN      type 1        0  ",
      "text/html": "<div>\n<style scoped>\n    .dataframe tbody tr th:only-of-type {\n        vertical-align: middle;\n    }\n\n    .dataframe tbody tr th {\n        vertical-align: top;\n    }\n\n    .dataframe thead th {\n        text-align: right;\n    }\n</style>\n<table border=\"1\" class=\"dataframe\">\n  <thead>\n    <tr style=\"text-align: right;\">\n      <th></th>\n      <th>people_id</th>\n      <th>activity_id</th>\n      <th>act_date</th>\n      <th>activity_category</th>\n      <th>act_char_1</th>\n      <th>act_char_2</th>\n      <th>act_char_3</th>\n      <th>act_char_4</th>\n      <th>act_char_5</th>\n      <th>act_char_6</th>\n      <th>act_char_7</th>\n      <th>act_char_8</th>\n      <th>act_char_9</th>\n      <th>act_char_10</th>\n      <th>outcome</th>\n    </tr>\n  </thead>\n  <tbody>\n    <tr>\n      <th>0</th>\n      <td>ppl_100</td>\n      <td>act2_1734928</td>\n      <td>2023-08-26</td>\n      <td>type 4</td>\n      <td>NaN</td>\n      <td>NaN</td>\n      <td>NaN</td>\n      <td>NaN</td>\n      <td>NaN</td>\n      <td>NaN</td>\n      <td>NaN</td>\n      <td>NaN</td>\n      <td>NaN</td>\n      <td>type 76</td>\n      <td>0</td>\n    </tr>\n    <tr>\n      <th>1</th>\n      <td>ppl_100</td>\n      <td>act2_2434093</td>\n      <td>2022-09-27</td>\n      <td>type 2</td>\n      <td>NaN</td>\n      <td>NaN</td>\n      <td>NaN</td>\n      <td>NaN</td>\n      <td>NaN</td>\n      <td>NaN</td>\n      <td>NaN</td>\n      <td>NaN</td>\n      <td>NaN</td>\n      <td>type 1</td>\n      <td>0</td>\n    </tr>\n    <tr>\n      <th>2</th>\n      <td>ppl_100</td>\n      <td>act2_3404049</td>\n      <td>2022-09-27</td>\n      <td>type 2</td>\n      <td>NaN</td>\n      <td>NaN</td>\n      <td>NaN</td>\n      <td>NaN</td>\n      <td>NaN</td>\n      <td>NaN</td>\n      <td>NaN</td>\n      <td>NaN</td>\n      <td>NaN</td>\n      <td>type 1</td>\n      <td>0</td>\n    </tr>\n    <tr>\n      <th>3</th>\n      <td>ppl_100</td>\n      <td>act2_3651215</td>\n      <td>2023-08-04</td>\n      <td>type 2</td>\n      <td>NaN</td>\n      <td>NaN</td>\n      <td>NaN</td>\n      <td>NaN</td>\n      <td>NaN</td>\n      <td>NaN</td>\n      <td>NaN</td>\n      <td>NaN</td>\n      <td>NaN</td>\n      <td>type 1</td>\n      <td>0</td>\n    </tr>\n    <tr>\n      <th>4</th>\n      <td>ppl_100</td>\n      <td>act2_4109017</td>\n      <td>2023-08-26</td>\n      <td>type 2</td>\n      <td>NaN</td>\n      <td>NaN</td>\n      <td>NaN</td>\n      <td>NaN</td>\n      <td>NaN</td>\n      <td>NaN</td>\n      <td>NaN</td>\n      <td>NaN</td>\n      <td>NaN</td>\n      <td>type 1</td>\n      <td>0</td>\n    </tr>\n  </tbody>\n</table>\n</div>"
     },
     "execution_count": 120,
     "metadata": {},
     "output_type": "execute_result"
    }
   ],
   "source": [
    "train_df.head()"
   ],
   "metadata": {
    "collapsed": false,
    "pycharm": {
     "name": "#%%\n"
    }
   }
  },
  {
   "cell_type": "code",
   "execution_count": 121,
   "outputs": [
    {
     "data": {
      "text/plain": "    people_id   activity_id   act_date activity_category act_char_1  \\\n0  ppl_100004   act1_249281 2022-07-20            type 1     type 5   \n1  ppl_100004   act2_230855 2022-07-20            type 5        NaN   \n2   ppl_10001   act1_240724 2022-10-14            type 1    type 12   \n3   ppl_10001    act1_83552 2022-11-27            type 1    type 20   \n4   ppl_10001  act2_1043301 2022-10-15            type 5        NaN   \n\n  act_char_2 act_char_3 act_char_4 act_char_5 act_char_6 act_char_7  \\\n0    type 10     type 5     type 1     type 6     type 1     type 1   \n1        NaN        NaN        NaN        NaN        NaN        NaN   \n2     type 1     type 5     type 4     type 6     type 1     type 1   \n3    type 10     type 5     type 4     type 6     type 1     type 1   \n4        NaN        NaN        NaN        NaN        NaN        NaN   \n\n  act_char_8 act_char_9 act_char_10  \n0     type 7     type 4         NaN  \n1        NaN        NaN    type 682  \n2    type 13    type 10         NaN  \n3     type 5     type 5         NaN  \n4        NaN        NaN   type 3015  ",
      "text/html": "<div>\n<style scoped>\n    .dataframe tbody tr th:only-of-type {\n        vertical-align: middle;\n    }\n\n    .dataframe tbody tr th {\n        vertical-align: top;\n    }\n\n    .dataframe thead th {\n        text-align: right;\n    }\n</style>\n<table border=\"1\" class=\"dataframe\">\n  <thead>\n    <tr style=\"text-align: right;\">\n      <th></th>\n      <th>people_id</th>\n      <th>activity_id</th>\n      <th>act_date</th>\n      <th>activity_category</th>\n      <th>act_char_1</th>\n      <th>act_char_2</th>\n      <th>act_char_3</th>\n      <th>act_char_4</th>\n      <th>act_char_5</th>\n      <th>act_char_6</th>\n      <th>act_char_7</th>\n      <th>act_char_8</th>\n      <th>act_char_9</th>\n      <th>act_char_10</th>\n    </tr>\n  </thead>\n  <tbody>\n    <tr>\n      <th>0</th>\n      <td>ppl_100004</td>\n      <td>act1_249281</td>\n      <td>2022-07-20</td>\n      <td>type 1</td>\n      <td>type 5</td>\n      <td>type 10</td>\n      <td>type 5</td>\n      <td>type 1</td>\n      <td>type 6</td>\n      <td>type 1</td>\n      <td>type 1</td>\n      <td>type 7</td>\n      <td>type 4</td>\n      <td>NaN</td>\n    </tr>\n    <tr>\n      <th>1</th>\n      <td>ppl_100004</td>\n      <td>act2_230855</td>\n      <td>2022-07-20</td>\n      <td>type 5</td>\n      <td>NaN</td>\n      <td>NaN</td>\n      <td>NaN</td>\n      <td>NaN</td>\n      <td>NaN</td>\n      <td>NaN</td>\n      <td>NaN</td>\n      <td>NaN</td>\n      <td>NaN</td>\n      <td>type 682</td>\n    </tr>\n    <tr>\n      <th>2</th>\n      <td>ppl_10001</td>\n      <td>act1_240724</td>\n      <td>2022-10-14</td>\n      <td>type 1</td>\n      <td>type 12</td>\n      <td>type 1</td>\n      <td>type 5</td>\n      <td>type 4</td>\n      <td>type 6</td>\n      <td>type 1</td>\n      <td>type 1</td>\n      <td>type 13</td>\n      <td>type 10</td>\n      <td>NaN</td>\n    </tr>\n    <tr>\n      <th>3</th>\n      <td>ppl_10001</td>\n      <td>act1_83552</td>\n      <td>2022-11-27</td>\n      <td>type 1</td>\n      <td>type 20</td>\n      <td>type 10</td>\n      <td>type 5</td>\n      <td>type 4</td>\n      <td>type 6</td>\n      <td>type 1</td>\n      <td>type 1</td>\n      <td>type 5</td>\n      <td>type 5</td>\n      <td>NaN</td>\n    </tr>\n    <tr>\n      <th>4</th>\n      <td>ppl_10001</td>\n      <td>act2_1043301</td>\n      <td>2022-10-15</td>\n      <td>type 5</td>\n      <td>NaN</td>\n      <td>NaN</td>\n      <td>NaN</td>\n      <td>NaN</td>\n      <td>NaN</td>\n      <td>NaN</td>\n      <td>NaN</td>\n      <td>NaN</td>\n      <td>NaN</td>\n      <td>type 3015</td>\n    </tr>\n  </tbody>\n</table>\n</div>"
     },
     "execution_count": 121,
     "metadata": {},
     "output_type": "execute_result"
    }
   ],
   "source": [
    "test_df.head()"
   ],
   "metadata": {
    "collapsed": false,
    "pycharm": {
     "name": "#%%\n"
    }
   }
  },
  {
   "cell_type": "code",
   "execution_count": 122,
   "outputs": [],
   "source": [
    "# sorting of columns\n",
    "people_df = people_df[['people_id', 'ppl_date',  'ppl_group', 'ppl_char_1', 'ppl_char_2'] + people_df.columns[5:].to_list()]\n",
    "# Convering\n",
    "people_columns = people_df.columns.to_list()[3:12]\n",
    "\n",
    "people_df[['ppl_group'] + people_columns] = people_df[['ppl_group'] + people_columns].astype('category')"
   ],
   "metadata": {
    "collapsed": false,
    "pycharm": {
     "name": "#%%\n"
    }
   }
  },
  {
   "cell_type": "code",
   "execution_count": 96,
   "outputs": [
    {
     "data": {
      "text/plain": "         people_id ppl_char_1    ppl_group ppl_char_2   ppl_date ppl_char_3  \\\n0          ppl_100     type 2  group 17304     type 2 2021-06-29     type 5   \n1       ppl_100002     type 2   group 8688     type 3 2021-01-06    type 28   \n2       ppl_100003     type 2  group 33592     type 3 2022-06-10     type 4   \n3       ppl_100004     type 2  group 22593     type 3 2022-07-20    type 40   \n4       ppl_100006     type 2   group 6534     type 3 2022-07-27    type 40   \n...            ...        ...          ...        ...        ...        ...   \n189113   ppl_99987     type 1   group 8600     type 1 2022-04-02     type 4   \n189114    ppl_9999     type 2  group 17304     type 2 2023-02-23     type 6   \n189115   ppl_99992     type 2  group 17304     type 2 2020-06-25     type 5   \n189116   ppl_99994     type 2  group 17764     type 3 2023-01-06     type 2   \n189117   ppl_99997     type 2  group 17304     type 2 2022-03-12    type 40   \n\n       ppl_char_4 ppl_char_5 ppl_char_6 ppl_char_7  ... ppl_char_29  \\\n0          type 5     type 5     type 3    type 11  ...       False   \n1          type 9     type 5     type 3    type 11  ...       False   \n2          type 8     type 5     type 2     type 5  ...       False   \n3         type 25     type 9     type 4    type 16  ...        True   \n4         type 25     type 9     type 3     type 8  ...       False   \n...           ...        ...        ...        ...  ...         ...   \n189113     type 6     type 4     type 3    type 11  ...       False   \n189114     type 2     type 8     type 3    type 11  ...       False   \n189115     type 5     type 3     type 4    type 16  ...       False   \n189116     type 7     type 2     type 1     type 2  ...        True   \n189117    type 25     type 9     type 3     type 8  ...       False   \n\n       ppl_char_30  ppl_char_31  ppl_char_32  ppl_char_33  ppl_char_34  \\\n0             True         True        False        False         True   \n1             True         True         True         True         True   \n2            False         True         True         True         True   \n3             True         True         True         True         True   \n4            False         True        False        False        False   \n...            ...          ...          ...          ...          ...   \n189113       False        False         True        False         True   \n189114       False        False        False        False        False   \n189115       False        False        False        False        False   \n189116        True         True         True        False         True   \n189117       False        False        False        False        False   \n\n        ppl_char_35  ppl_char_36  ppl_char_37  ppl_char_38  \n0              True         True        False           36  \n1              True         True        False           76  \n2             False         True         True           99  \n3              True         True         True           76  \n4              True         True        False           84  \n...             ...          ...          ...          ...  \n189113        False         True         True           89  \n189114        False        False        False            0  \n189115        False        False        False            0  \n189116         True         True         True           95  \n189117        False        False        False           36  \n\n[189118 rows x 41 columns]",
      "text/html": "<div>\n<style scoped>\n    .dataframe tbody tr th:only-of-type {\n        vertical-align: middle;\n    }\n\n    .dataframe tbody tr th {\n        vertical-align: top;\n    }\n\n    .dataframe thead th {\n        text-align: right;\n    }\n</style>\n<table border=\"1\" class=\"dataframe\">\n  <thead>\n    <tr style=\"text-align: right;\">\n      <th></th>\n      <th>people_id</th>\n      <th>ppl_char_1</th>\n      <th>ppl_group</th>\n      <th>ppl_char_2</th>\n      <th>ppl_date</th>\n      <th>ppl_char_3</th>\n      <th>ppl_char_4</th>\n      <th>ppl_char_5</th>\n      <th>ppl_char_6</th>\n      <th>ppl_char_7</th>\n      <th>...</th>\n      <th>ppl_char_29</th>\n      <th>ppl_char_30</th>\n      <th>ppl_char_31</th>\n      <th>ppl_char_32</th>\n      <th>ppl_char_33</th>\n      <th>ppl_char_34</th>\n      <th>ppl_char_35</th>\n      <th>ppl_char_36</th>\n      <th>ppl_char_37</th>\n      <th>ppl_char_38</th>\n    </tr>\n  </thead>\n  <tbody>\n    <tr>\n      <th>0</th>\n      <td>ppl_100</td>\n      <td>type 2</td>\n      <td>group 17304</td>\n      <td>type 2</td>\n      <td>2021-06-29</td>\n      <td>type 5</td>\n      <td>type 5</td>\n      <td>type 5</td>\n      <td>type 3</td>\n      <td>type 11</td>\n      <td>...</td>\n      <td>False</td>\n      <td>True</td>\n      <td>True</td>\n      <td>False</td>\n      <td>False</td>\n      <td>True</td>\n      <td>True</td>\n      <td>True</td>\n      <td>False</td>\n      <td>36</td>\n    </tr>\n    <tr>\n      <th>1</th>\n      <td>ppl_100002</td>\n      <td>type 2</td>\n      <td>group 8688</td>\n      <td>type 3</td>\n      <td>2021-01-06</td>\n      <td>type 28</td>\n      <td>type 9</td>\n      <td>type 5</td>\n      <td>type 3</td>\n      <td>type 11</td>\n      <td>...</td>\n      <td>False</td>\n      <td>True</td>\n      <td>True</td>\n      <td>True</td>\n      <td>True</td>\n      <td>True</td>\n      <td>True</td>\n      <td>True</td>\n      <td>False</td>\n      <td>76</td>\n    </tr>\n    <tr>\n      <th>2</th>\n      <td>ppl_100003</td>\n      <td>type 2</td>\n      <td>group 33592</td>\n      <td>type 3</td>\n      <td>2022-06-10</td>\n      <td>type 4</td>\n      <td>type 8</td>\n      <td>type 5</td>\n      <td>type 2</td>\n      <td>type 5</td>\n      <td>...</td>\n      <td>False</td>\n      <td>False</td>\n      <td>True</td>\n      <td>True</td>\n      <td>True</td>\n      <td>True</td>\n      <td>False</td>\n      <td>True</td>\n      <td>True</td>\n      <td>99</td>\n    </tr>\n    <tr>\n      <th>3</th>\n      <td>ppl_100004</td>\n      <td>type 2</td>\n      <td>group 22593</td>\n      <td>type 3</td>\n      <td>2022-07-20</td>\n      <td>type 40</td>\n      <td>type 25</td>\n      <td>type 9</td>\n      <td>type 4</td>\n      <td>type 16</td>\n      <td>...</td>\n      <td>True</td>\n      <td>True</td>\n      <td>True</td>\n      <td>True</td>\n      <td>True</td>\n      <td>True</td>\n      <td>True</td>\n      <td>True</td>\n      <td>True</td>\n      <td>76</td>\n    </tr>\n    <tr>\n      <th>4</th>\n      <td>ppl_100006</td>\n      <td>type 2</td>\n      <td>group 6534</td>\n      <td>type 3</td>\n      <td>2022-07-27</td>\n      <td>type 40</td>\n      <td>type 25</td>\n      <td>type 9</td>\n      <td>type 3</td>\n      <td>type 8</td>\n      <td>...</td>\n      <td>False</td>\n      <td>False</td>\n      <td>True</td>\n      <td>False</td>\n      <td>False</td>\n      <td>False</td>\n      <td>True</td>\n      <td>True</td>\n      <td>False</td>\n      <td>84</td>\n    </tr>\n    <tr>\n      <th>...</th>\n      <td>...</td>\n      <td>...</td>\n      <td>...</td>\n      <td>...</td>\n      <td>...</td>\n      <td>...</td>\n      <td>...</td>\n      <td>...</td>\n      <td>...</td>\n      <td>...</td>\n      <td>...</td>\n      <td>...</td>\n      <td>...</td>\n      <td>...</td>\n      <td>...</td>\n      <td>...</td>\n      <td>...</td>\n      <td>...</td>\n      <td>...</td>\n      <td>...</td>\n      <td>...</td>\n    </tr>\n    <tr>\n      <th>189113</th>\n      <td>ppl_99987</td>\n      <td>type 1</td>\n      <td>group 8600</td>\n      <td>type 1</td>\n      <td>2022-04-02</td>\n      <td>type 4</td>\n      <td>type 6</td>\n      <td>type 4</td>\n      <td>type 3</td>\n      <td>type 11</td>\n      <td>...</td>\n      <td>False</td>\n      <td>False</td>\n      <td>False</td>\n      <td>True</td>\n      <td>False</td>\n      <td>True</td>\n      <td>False</td>\n      <td>True</td>\n      <td>True</td>\n      <td>89</td>\n    </tr>\n    <tr>\n      <th>189114</th>\n      <td>ppl_9999</td>\n      <td>type 2</td>\n      <td>group 17304</td>\n      <td>type 2</td>\n      <td>2023-02-23</td>\n      <td>type 6</td>\n      <td>type 2</td>\n      <td>type 8</td>\n      <td>type 3</td>\n      <td>type 11</td>\n      <td>...</td>\n      <td>False</td>\n      <td>False</td>\n      <td>False</td>\n      <td>False</td>\n      <td>False</td>\n      <td>False</td>\n      <td>False</td>\n      <td>False</td>\n      <td>False</td>\n      <td>0</td>\n    </tr>\n    <tr>\n      <th>189115</th>\n      <td>ppl_99992</td>\n      <td>type 2</td>\n      <td>group 17304</td>\n      <td>type 2</td>\n      <td>2020-06-25</td>\n      <td>type 5</td>\n      <td>type 5</td>\n      <td>type 3</td>\n      <td>type 4</td>\n      <td>type 16</td>\n      <td>...</td>\n      <td>False</td>\n      <td>False</td>\n      <td>False</td>\n      <td>False</td>\n      <td>False</td>\n      <td>False</td>\n      <td>False</td>\n      <td>False</td>\n      <td>False</td>\n      <td>0</td>\n    </tr>\n    <tr>\n      <th>189116</th>\n      <td>ppl_99994</td>\n      <td>type 2</td>\n      <td>group 17764</td>\n      <td>type 3</td>\n      <td>2023-01-06</td>\n      <td>type 2</td>\n      <td>type 7</td>\n      <td>type 2</td>\n      <td>type 1</td>\n      <td>type 2</td>\n      <td>...</td>\n      <td>True</td>\n      <td>True</td>\n      <td>True</td>\n      <td>True</td>\n      <td>False</td>\n      <td>True</td>\n      <td>True</td>\n      <td>True</td>\n      <td>True</td>\n      <td>95</td>\n    </tr>\n    <tr>\n      <th>189117</th>\n      <td>ppl_99997</td>\n      <td>type 2</td>\n      <td>group 17304</td>\n      <td>type 2</td>\n      <td>2022-03-12</td>\n      <td>type 40</td>\n      <td>type 25</td>\n      <td>type 9</td>\n      <td>type 3</td>\n      <td>type 8</td>\n      <td>...</td>\n      <td>False</td>\n      <td>False</td>\n      <td>False</td>\n      <td>False</td>\n      <td>False</td>\n      <td>False</td>\n      <td>False</td>\n      <td>False</td>\n      <td>False</td>\n      <td>36</td>\n    </tr>\n  </tbody>\n</table>\n<p>189118 rows × 41 columns</p>\n</div>"
     },
     "execution_count": 96,
     "metadata": {},
     "output_type": "execute_result"
    }
   ],
   "source": [
    "people_df"
   ],
   "metadata": {
    "collapsed": false,
    "pycharm": {
     "name": "#%%\n"
    }
   }
  },
  {
   "cell_type": "code",
   "execution_count": 103,
   "outputs": [
    {
     "data": {
      "text/plain": "people_id        object\nppl_char_1       object\nppl_group      category\nppl_char_2     category\nppl_date       category\nppl_char_3     category\nppl_char_4     category\nppl_char_5     category\nppl_char_6     category\nppl_char_7     category\nppl_char_8     category\nppl_char_9     category\nppl_char_10        bool\nppl_char_11        bool\nppl_char_12        bool\nppl_char_13        bool\nppl_char_14        bool\nppl_char_15        bool\nppl_char_16        bool\nppl_char_17        bool\nppl_char_18        bool\nppl_char_19        bool\nppl_char_20        bool\nppl_char_21        bool\nppl_char_22        bool\nppl_char_23        bool\nppl_char_24        bool\nppl_char_25        bool\nppl_char_26        bool\nppl_char_27        bool\nppl_char_28        bool\nppl_char_29        bool\nppl_char_30        bool\nppl_char_31        bool\nppl_char_32        bool\nppl_char_33        bool\nppl_char_34        bool\nppl_char_35        bool\nppl_char_36        bool\nppl_char_37        bool\nppl_char_38       int64\ndtype: object"
     },
     "execution_count": 103,
     "metadata": {},
     "output_type": "execute_result"
    }
   ],
   "source": [
    "people_df.dtypes"
   ],
   "metadata": {
    "collapsed": false,
    "pycharm": {
     "name": "#%%\n"
    }
   }
  },
  {
   "cell_type": "code",
   "execution_count": 105,
   "outputs": [
    {
     "data": {
      "text/plain": "['activity_category',\n 'act_char_1',\n 'act_char_2',\n 'act_char_3',\n 'act_char_4',\n 'act_char_5',\n 'act_char_6',\n 'act_char_7',\n 'act_char_8',\n 'act_char_9',\n 'act_char_10']"
     },
     "execution_count": 105,
     "metadata": {},
     "output_type": "execute_result"
    }
   ],
   "source": [
    "activity_category = test_df.columns.to_list()[3:14]\n",
    "activity_category"
   ],
   "metadata": {
    "collapsed": false,
    "pycharm": {
     "name": "#%%\n"
    }
   }
  },
  {
   "cell_type": "code",
   "execution_count": 106,
   "outputs": [],
   "source": [
    "test_df[activity_category] = test_df[activity_category].astype('category')\n",
    "train_df[activity_category] = train_df[activity_category].astype('category')"
   ],
   "metadata": {
    "collapsed": false,
    "pycharm": {
     "name": "#%%\n"
    }
   }
  },
  {
   "cell_type": "code",
   "execution_count": 108,
   "outputs": [
    {
     "data": {
      "text/plain": "people_id                    object\nactivity_id                  object\nact_date             datetime64[ns]\nactivity_category          category\nact_char_1                 category\nact_char_2                 category\nact_char_3                 category\nact_char_4                 category\nact_char_5                 category\nact_char_6                 category\nact_char_7                 category\nact_char_8                 category\nact_char_9                 category\nact_char_10                category\noutcome                       int64\ndtype: object"
     },
     "execution_count": 108,
     "metadata": {},
     "output_type": "execute_result"
    }
   ],
   "source": [
    "train_df.dtypes"
   ],
   "metadata": {
    "collapsed": false,
    "pycharm": {
     "name": "#%%\n"
    }
   }
  },
  {
   "cell_type": "code",
   "execution_count": 109,
   "outputs": [
    {
     "data": {
      "text/plain": "people_id                    object\nactivity_id                  object\nact_date             datetime64[ns]\nactivity_category          category\nact_char_1                 category\nact_char_2                 category\nact_char_3                 category\nact_char_4                 category\nact_char_5                 category\nact_char_6                 category\nact_char_7                 category\nact_char_8                 category\nact_char_9                 category\nact_char_10                category\ndtype: object"
     },
     "execution_count": 109,
     "metadata": {},
     "output_type": "execute_result"
    }
   ],
   "source": [
    "test_df.dtypes"
   ],
   "metadata": {
    "collapsed": false,
    "pycharm": {
     "name": "#%%\n"
    }
   }
  },
  {
   "cell_type": "code",
   "execution_count": null,
   "outputs": [],
   "source": [],
   "metadata": {
    "collapsed": false,
    "pycharm": {
     "name": "#%%\n"
    }
   }
  }
 ],
 "metadata": {
  "kernelspec": {
   "display_name": "base",
   "language": "python",
   "name": "python3"
  },
  "language_info": {
   "codemirror_mode": {
    "name": "ipython",
    "version": 3
   },
   "file_extension": ".py",
   "mimetype": "text/x-python",
   "name": "python",
   "nbconvert_exporter": "python",
   "pygments_lexer": "ipython3",
   "version": "3.8.8"
  },
  "orig_nbformat": 4,
  "vscode": {
   "interpreter": {
    "hash": "38cca0c38332a56087b24af0bc80247f4fced29cb4f7f437d91dc159adec9c4e"
   }
  }
 },
 "nbformat": 4,
 "nbformat_minor": 2
}